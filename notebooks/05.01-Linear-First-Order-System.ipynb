{
 "cells": [
  {
   "cell_type": "markdown",
   "metadata": {},
   "source": [
    "<!--COURSE_INFORMATION-->\n",
    "*This notebook contains material from [ND Pyomo Cookbook](http://jckantor.github.io/ND-Pyomo-Cookbook/) by Jeffrey Kantor (jeff at nd.edu); the content is available [on GitHub](https://github.com/jckantor/ND-Pyomo-Cookbook).*\n",
    "*The text is released under the [CC-BY-NC-ND-4.0 license](https://creativecommons.org/licenses/by-nc-nd/4.0/legalcode), and code is released under the [MIT license](https://opensource.org/licenses/MIT).*\n"
   ]
  },
  {
   "cell_type": "markdown",
   "metadata": {},
   "source": [
    "<!--NAVIGATION-->\n",
    "< [Simulation](05.00-Simulation.ipynb) | [Contents](index.ipynb) | [Exothermic CSTR](05.02-Exothermic-CSTR.ipynb) >\n",
    "\n",
    "<a href=\"https://colab.research.google.com/github/jckantor/ND-Pyomo-Cookbook/blob/master/notebooks/05.01-Linear-First-Order-System.ipynb\"><img align=\"left\" src=\"https://colab.research.google.com/assets/colab-badge.svg\" alt=\"Open in Colab\" title=\"Open and Execute in Google Colaboratory\"></a>\n"
   ]
  },
  {
   "cell_type": "markdown",
   "metadata": {
    "colab_type": "text",
    "id": "2fn71JmtwN_n"
   },
   "source": [
    "# Linear First Order System\n",
    "\n",
    "This notebook demonstrates simulation of a linear first-order system in Pyomo using two distinct approaches. The first uses the `Simulator` class from Pyomo which can employ the "
   ]
  },
  {
   "cell_type": "code",
   "execution_count": 0,
   "metadata": {
    "colab": {},
    "colab_type": "code",
    "id": "I-G6nxedwUAF"
   },
   "outputs": [],
   "source": [
    "%%capture\n",
    "!pip install -q pyomo"
   ]
  },
  {
   "cell_type": "markdown",
   "metadata": {
    "colab_type": "text",
    "id": "DPakBPtBwN_q"
   },
   "source": [
    "## First-Order Differential Equation with Initial Condition\n",
    "\n",
    "The following cell implements a solution to a first-order linear model in the form\n",
    "\n",
    "\\begin{align}\n",
    "\\tau\\frac{dy}{dt} + y & = K u(t) \\\\\n",
    "\\end{align}\n",
    "\n",
    "where $\\tau$ and $K$ are model parameters, and $u(t)$ is an external process input."
   ]
  },
  {
   "cell_type": "code",
   "execution_count": 2,
   "metadata": {
    "colab": {
     "base_uri": "https://localhost:8080/",
     "height": 311
    },
    "colab_type": "code",
    "id": "tHGcynz1wN_r",
    "outputId": "deae44f0-5810-46b5-8f9d-24b816dc7b93"
   },
   "outputs": [
    {
     "data": {
      "text/plain": [
       "Text(0.5,1,'Response of a linear first-order ODE')"
      ]
     },
     "execution_count": 2,
     "metadata": {
      "tags": []
     },
     "output_type": "execute_result"
    },
    {
     "data": {
      "image/png": "[encoded data removed]",
      "text/plain": [
       "<matplotlib.figure.Figure at 0x7f55d45c7b00>"
      ]
     },
     "metadata": {
      "tags": []
     },
     "output_type": "display_data"
    }
   ],
   "source": [
    "% matplotlib inline\n",
    "from pyomo.environ import *\n",
    "from pyomo.dae import *\n",
    "import matplotlib.pyplot as plt\n",
    "\n",
    "tf = 10\n",
    "tau = 1\n",
    "K = 5\n",
    "\n",
    "# define u(t)\n",
    "u = lambda t: 1\n",
    "\n",
    "# create a model object\n",
    "model = ConcreteModel()\n",
    "\n",
    "# define the independent variable\n",
    "model.t = ContinuousSet(bounds=(0, tf))\n",
    "\n",
    "# define the dependent variables\n",
    "model.y = Var(model.t)\n",
    "model.dydt = DerivativeVar(model.y)\n",
    "\n",
    "# fix the initial value of y\n",
    "model.y[0].fix(0)\n",
    "\n",
    "# define the differential equation as a constraint\n",
    "model.ode = Constraint(model.t, rule=lambda model, t: tau*model.dydt[t] + model.y[t] == K*u(t))\n",
    "\n",
    "# transform dae model to discrete optimization problem\n",
    "#TransformationFactory('dae.finite_difference').apply_to(model, nfe=50, method='BACKWARD')\n",
    "\n",
    "# solve the model\n",
    "#SolverFactory('ipopt').solve(model).write()\n",
    "\n",
    "tsim, profiles = Simulator(model, package='scipy').simulate(numpoints=100)\n",
    "\n",
    "plt.plot(tsim, profiles)\n",
    "\n",
    "# access elements of a ContinuousSet object\n",
    "t = [t for t in model.t]\n",
    "\n",
    "# access elements of a Var object\n",
    "y = [model.y[t]() for t in model.y]\n",
    "\n",
    "plt.plot(t,y)\n",
    "plt.xlabel('time / sec')\n",
    "plt.ylabel('response')\n",
    "plt.title('Response of a linear first-order ODE')"
   ]
  },
  {
   "cell_type": "code",
   "execution_count": 0,
   "metadata": {
    "colab": {},
    "colab_type": "code",
    "id": "H4Ghgv-BwN_x"
   },
   "outputs": [],
   "source": []
  },
  {
   "cell_type": "markdown",
   "metadata": {},
   "source": [
    "<!--NAVIGATION-->\n",
    "< [Simulation](05.00-Simulation.ipynb) | [Contents](index.ipynb) | [Exothermic CSTR](05.02-Exothermic-CSTR.ipynb) >\n",
    "\n",
    "<a href=\"https://colab.research.google.com/github/jckantor/ND-Pyomo-Cookbook/blob/master/notebooks/05.01-Linear-First-Order-System.ipynb\"><img align=\"left\" src=\"https://colab.research.google.com/assets/colab-badge.svg\" alt=\"Open in Colab\" title=\"Open and Execute in Google Colaboratory\"></a>\n"
   ]
  }
 ],
 "metadata": {
  "colab": {
   "name": "Linear_First_Order_System.ipynb",
   "provenance": [],
   "version": "0.3.2"
  },
  "kernelspec": {
   "display_name": "Python 3",
   "language": "python",
   "name": "python3"
  }
 },
 "nbformat": 4,
 "nbformat_minor": 0
}

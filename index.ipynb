{
 "cells": [
  {
   "cell_type": "markdown",
   "metadata": {},
   "source": [
    "# ND-Pyomo-Cookbook\n",
    "\n",
    "[Pyomo](http://www.pyomo.org/) is a state-of-the-art package for modeling and solving optimization problems embedded within Python. Using Pyomo, a user can describe optimization model by specifying decision **variables**, **constraints**, and an optimization **objective**. Pyomo includes a rich set of features to enable modeling of complex systems, specifying a solver, and displaying the solution.\n",
    "\n",
    "This repository provides instructions on getting started with Pyomo, and a collection of Pyomo modeling examples that have been developed for instructional purposes at Notre Dame.\n",
    "\n",
    "[![Binder](https://mybinder.org/badge.svg)](https://mybinder.org/v2/gh/jckantor/ND-Pyomo-Cookbook/master?filepath=index.ipynb)\n",
    "\n",
    "## Getting Started\n",
    "\n",
    "* [Getting Started with Pyomo](notebooks/intro/Getting_Started_with_Pyomo.ipynb)\n",
    "* [Running Pyomo on the CRC Cluster](docs/CRC.md)\n",
    "* [Unconstrained Scalar Optimization](notebooks/intro/Unconstrained_Scalar_Optimization.ipynb)\n",
    "\n",
    "## Linear Programming\n",
    "\n",
    "* [Production Models with Linear Constraints](notebooks/lp/Production_Models_with_Linear_Constraints.ipynb)\n",
    "* [Linear Blending Problems](notebooks/lp/Linear_Blending_Problem.ipynb)\n",
    "* [Mixture Design for a Cold Weather Camping Fuel](notebooks/lp/Mixture_Design_Cold_Weather_Fuel.ipynb)\n",
    "* [Simple Gasoline Blending Example](notebooks/lp/Gasoline_Blending.ipynb)\n",
    "\n",
    "## Assignment Problems\n",
    "\n",
    "* [Transportation Networks](notebooks/assignment/Transportation_Networks.ipynb)\n",
    "\n",
    "## Scheduling Problems with Disjunctive Constraints\n",
    "\n",
    "* [Machine Bottleneck](notebooks/scheduling/Machine_Bottleneck.ipynb)\n",
    "* [Job Shop Scheduling](notebooks/scheduling/Job_Shop_Scheduling.ipynb)\n",
    "* [Scheduling Multipurpose Batch Processes using State-Task Networks](notebooks/scheduling/Scheduling_Multipurpose_Batch_Processes_using_State-Task_Networks.ipynb)\n",
    "\n",
    "## Simulation\n",
    "\n",
    "* [Linear First Order System](notebooks/simulation/Linear_First_Order_System.ipynb)\n",
    "* [Simulation of an Exothermic Stirred Tank Reactor](notebooks/simulation/Exothermic_CSTR.ipynb)\n",
    "* [Heat Conduction in Various Geometries](notebooks/simulation/Heat_Conduction_in_Various_Geometries.ipynb)\n",
    "\n",
    "## Differential Algebraic Equations\n",
    "\n",
    "* [Maximizing Concentration of an Intermediate in a Batch Reactor](notebooks/dae/Maximizing_Concentration_of_an_Intermediate_in_a_Batch_Reactor.ipynb)\n",
    "* [Path Planning for a Simple Car Model](notebooks/dae/Path_Planning_for_a_Simple_Car.ipynb)\n",
    "\n",
    "## Finance\n",
    "\n",
    "* [Binomial Model for Pricing Options](notebooks/finance/Binomial_Model_for_Pricing_Options.ipynb)\n",
    "* [Historical Stock Data](notebooks/finance/Historical_Stock_Data.ipynb)\n",
    "* [Charting Stock Data](notebooks/finance/Charting_Stock_Data.ipynb)\n",
    "* [MAD Portfolio Optimization](notebooks/finance/MAD_Portfolio_Optimization.ipynb)\n",
    "* [Real Options](notebooks/finance/Real_Options.ipynb)\n"
   ]
  },
  {
   "cell_type": "code",
   "execution_count": null,
   "metadata": {},
   "outputs": [],
   "source": []
  }
 ],
 "metadata": {
  "kernelspec": {
   "display_name": "Python 3",
   "language": "python",
   "name": "python3"
  },
  "language_info": {
   "codemirror_mode": {
    "name": "ipython",
    "version": 3
   },
   "file_extension": ".py",
   "mimetype": "text/x-python",
   "name": "python",
   "nbconvert_exporter": "python",
   "pygments_lexer": "ipython3",
   "version": "3.6.5"
  }
 },
 "nbformat": 4,
 "nbformat_minor": 2
}

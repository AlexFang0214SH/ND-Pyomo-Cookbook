{
 "cells": [
  {
   "cell_type": "markdown",
   "metadata": {
    "colab_type": "text",
    "id": "TH3-rr3QKO1B"
   },
   "source": [
    "<!--COURSE_INFORMATION-->\n",
    "*This notebook contains material from [ND Pyomo Cookbook](http://jckantor.github.io/ND-Pyomo-Cookbook/) by Jeffrey Kantor (jeff at nd.edu); the content is available [on GitHub](https://github.com/jckantor/ND-Pyomo-Cookbook).*\n",
    "*The text is released under the [CC-BY-NC-ND-4.0 license](https://creativecommons.org/licenses/by-nc-nd/4.0/legalcode), and code is released under the [MIT license](https://opensource.org/licenses/MIT).*\n"
   ]
  },
  {
   "cell_type": "markdown",
   "metadata": {
    "colab_type": "text",
    "id": "GTRpZbGDKO1D"
   },
   "source": [
    "<!--NAVIGATION-->\n",
    "< [Job Shop Scheduling](04.02-Job-Shop-Scheduling.ipynb) | [Contents](index.ipynb) | [Scheduling Multipurpose Batch Processes using State-Task Networks](04.04-Scheduling-Multipurpose-Batch-Processes-using-State-Task_Networks.ipynb) >\n",
    "\n",
    "<a href=\"https://colab.research.google.com/github/jckantor/ND-Pyomo-Cookbook/blob/master/notebooks/04.03-Maintenance-Planning.ipynb\"><img align=\"left\" src=\"https://colab.research.google.com/assets/colab-badge.svg\" alt=\"Open in Colab\" title=\"Open and Execute in Google Colaboratory\"></a>\n"
   ]
  },
  {
   "cell_type": "markdown",
   "metadata": {
    "colab_type": "text",
    "id": "9O_tHTY_PL_s"
   },
   "source": [
    "# Maintenance Planning"
   ]
  },
  {
   "cell_type": "code",
   "execution_count": 0,
   "metadata": {
    "colab": {},
    "colab_type": "code",
    "id": "TOKAfiKaKj3N"
   },
   "outputs": [],
   "source": [
    "%%capture\n",
    "!pip install -q pyomo\n",
    "!apt-get install -y -qq coinor-cbc"
   ]
  },
  {
   "cell_type": "markdown",
   "metadata": {
    "colab_type": "text",
    "id": "Y_yzzUJQDJtr"
   },
   "source": [
    "## Problem Statement\n",
    "\n",
    "\n",
    "A factory is operating over a maintenance planning horizon from $1$ to $T$ days.  On day $t$ the factory makes a profit $c[t]$ which is known in advance. The factory needs to shut down for $P$ maintenance periods during the planning period.  Once started, a maintenance period takes $M$ days to finish.\n",
    "\n",
    "Find a maintenance schedule that allows the maximum profit to be produced."
   ]
  },
  {
   "cell_type": "markdown",
   "metadata": {
    "colab_type": "text",
    "id": "RrSgeD0ewWpE"
   },
   "source": [
    "## Modeling\n",
    "\n",
    "The model is comprised of two sets of the binary variables indexed 1 to $T$. Binary variables $x_t$ correspond to the operating mode of the factory, with $x_t=1$ indicating the factory is operating on day $t$ and able to earn a profit $c_t$. Binary variable $y_t=1$ indicates the first day of a maintenance period during which the factory is not operating and earning $0$ profit.\n",
    "\n",
    "The planning objective is to maximize profit\n",
    "\n",
    "\\begin{align*}\n",
    "Profit & = \\max_{x, y} \\sum_{t=1}^T c_t x_t\n",
    "\\end{align*}\n",
    "\n",
    "subject to completing $P$ maintenance periods.  Completing $P$ planning periods requires\n",
    "\n",
    "\\begin{align*}\n",
    "\\sum_{t=1}^T y_t &  = P \\\\\n",
    "\\end{align*}\n",
    "\n",
    "No more than on maintenance start in an M day period\n",
    "\n",
    "\\begin{align*}\n",
    "\\sum_{s=0}^{M-1}y_{t+s} & \\leq 1 \\qquad \\forall t = 1, 2, \\ldots, T-M+1\n",
    "\\end{align*}\n",
    "\n",
    "The final requirement is a disjunctive constraint that says either $y_t = 0$ or the sum $\\sum_{s}^{M-1}x_{t+s} = 0$, but not both. The set of constraints reads\n",
    "\n",
    "$$\\left(y_t = 0\\right) \\lor \\left(\\sum_{s}^{M-1}x_{t+s} = 0\\right)\\qquad \\forall t = 1, 2, \\ldots, T-M+1$$\n",
    "\n",
    "The disjunctive constraints could be implemented using the big-M method, or by finding a set of constraints defining a convex hull for feasible values of $x_t$ and $y_t$.  Here we avoid that task by using the generalized disjunctive programming feature of Pyomo.\n"
   ]
  },
  {
   "cell_type": "markdown",
   "metadata": {
    "colab_type": "text",
    "id": "uC2EbGWaDCJ4"
   },
   "source": [
    "## Pyomo Model"
   ]
  },
  {
   "cell_type": "code",
   "execution_count": 0,
   "metadata": {
    "colab": {},
    "colab_type": "code",
    "id": "L5TaVPbkEPZ0"
   },
   "outputs": [],
   "source": [
    "import numpy as np\n",
    "\n",
    "# problem parameters\n",
    "T = 31        # planning period from 1..T\n",
    "M = 3         # length of maintenance period\n",
    "P = 4         # number of maintenance periods\n",
    "\n",
    "# daily profits\n",
    "c = {k:np.random.uniform() for k in range(1, T+1)}"
   ]
  },
  {
   "cell_type": "code",
   "execution_count": 3,
   "metadata": {
    "colab": {
     "base_uri": "https://localhost:8080/",
     "height": 297
    },
    "colab_type": "code",
    "id": "cUARDFzP9fla",
    "outputId": "3e26394b-4e96-4bbc-9006-d31102f71cfd"
   },
   "outputs": [
    {
     "data": {
      "image/png": "[encoded data removed]",
      "text/plain": [
       "<Figure size 432x288 with 3 Axes>"
      ]
     },
     "metadata": {
      "tags": []
     },
     "output_type": "display_data"
    }
   ],
   "source": [
    "import pyomo.environ as pyo\n",
    "import pyomo.gdp as gdp\n",
    "import matplotlib.pyplot as plt\n",
    "\n",
    "# pyomo model\n",
    "m = pyo.ConcreteModel()\n",
    "\n",
    "m.T = pyo.RangeSet(1, T)\n",
    "m.Y = pyo.RangeSet(1, T-M+1)\n",
    "m.S = pyo.RangeSet(0, M-1)\n",
    "\n",
    "m.c = pyo.Param(m.T, initialize = c)\n",
    "m.x = pyo.Var(m.T, domain=pyo.Binary)\n",
    "m.y = pyo.Var(m.T, domain=pyo.Binary)\n",
    "\n",
    "# objective\n",
    "m.profit = pyo.Objective(expr = sum(m.c[t]*m.x[t] for t in m.T), sense=pyo.maximize)\n",
    "\n",
    "# required number P of maintenance starts\n",
    "m.sumy = pyo.Constraint(expr = sum(m.y[t] for t in m.Y) == P)\n",
    "\n",
    "# no maintenance starts in the period of length M\n",
    "m.sprd = pyo.Constraint(m.Y, rule = lambda m, t: sum(m.y[t+s] for s in m.S) <= 1)\n",
    "\n",
    "# disjunctive constraints\n",
    "m.disj = gdp.Disjunction(m.Y, m.S, rule = lambda m, t, s: [m.y[t]==0, sum(m.x[t+s] for s in m.S)==0])\n",
    "\n",
    "# transformation and soluton\n",
    "pyo.TransformationFactory('gdp.chull').apply_to(m)\n",
    "pyo.SolverFactory('cbc').solve(m)\n",
    "\n",
    "# plot\n",
    "fig,ax = plt.subplots(3,1)\n",
    "\n",
    "ax[0].bar(m.T, [m.c[t] for t in m.T])\n",
    "ax[0].set_title('daily profit $c_t$')\n",
    "\n",
    "ax[1].bar(m.T, [m.x[t]() for t in m.T])\n",
    "ax[1].bar(m.T, [1-m.x[t]() for t in m.T])\n",
    "ax[1].set_title('factory operating schedule $x_t$')\n",
    "\n",
    "ax[2].bar(m.Y, [m.y[t]() for t in m.Y])\n",
    "ax[2].set_title(str(P) + ' maintenance starts $y_t$')\n",
    "\n",
    "for a in ax:\n",
    "  a.set_xlim(0.1, T+0.9)\n",
    "\n",
    "plt.tight_layout()"
   ]
  },
  {
   "cell_type": "code",
   "execution_count": 0,
   "metadata": {
    "colab": {},
    "colab_type": "code",
    "id": "GTlzmQPNc-Lu"
   },
   "outputs": [],
   "source": []
  },
  {
   "cell_type": "markdown",
   "metadata": {
    "colab_type": "text",
    "id": "SiIg_PqyKO1T"
   },
   "source": [
    "<!--NAVIGATION-->\n",
    "< [Job Shop Scheduling](04.02-Job-Shop-Scheduling.ipynb) | [Contents](index.ipynb) | [Scheduling Multipurpose Batch Processes using State-Task Networks](04.04-Scheduling-Multipurpose-Batch-Processes-using-State-Task_Networks.ipynb) >\n",
    "\n",
    "<a href=\"https://colab.research.google.com/github/jckantor/ND-Pyomo-Cookbook/blob/master/notebooks/04.03-Maintenance-Planning.ipynb\"><img align=\"left\" src=\"https://colab.research.google.com/assets/colab-badge.svg\" alt=\"Open in Colab\" title=\"Open and Execute in Google Colaboratory\"></a>\n"
   ]
  }
 ],
 "metadata": {
  "colab": {
   "collapsed_sections": [],
   "name": "Copy of Maintenance-Planning.ipynb",
   "provenance": [],
   "toc_visible": true,
   "version": "0.3.2"
  },
  "kernelspec": {
   "display_name": "Python 3",
   "name": "python3"
  }
 },
 "nbformat": 4,
 "nbformat_minor": 0
}

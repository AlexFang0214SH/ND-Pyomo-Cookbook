{
 "cells": [
  {
   "cell_type": "markdown",
   "metadata": {},
   "source": [
    "# Welcome to Notre Dame PyomoFest!\n",
    "\n",
    "We are delighted to be hosting [PyomoFest at Notre Dame on June 5-7](ND-Pyomo-Workshop-Agenda.pdf). Thanks to gracious support from the Notre Dame Center for Research Computing and Sandia National Laboratory at Albequerque, this unique event will bring together campus researchers from a wide range of disciplines to a build an exciting new community of Pyomo users.\n",
    "\n",
    "PyomoFest will include a mixture of presentations, hands-on sessions, and opportunities to consult with instructors on model development relevant to your own research. To make the best use of these opportunities, we urge PyomoFest participants to take several actions in preparation for the event.  These include:\n",
    "\n",
    "1. Download and install a Pyomo/Python development environment that you can use at the workshop.  The **Getting Started** guides below provide instructions on how to install Python, Pyomo, and a basic set of solvers. \n",
    "\n",
    "2. Review basic conceptual frameworks for optimization modeling. The notebooks in this repository include examples of linear programming (LP), mixed-integer linear programming (MILP), nonlinear programming (NLP), and more. \n",
    "\n",
    "3. A goal of PyomoFest is to help new users apply Pyomo to their research. We encourage you to bring a research relevant application problem with you to the workshop. Unique data sets could arranged as simple spreadsheet.csv files, for example, and literature models could be summarized in some mathematical form.\n",
    "\n",
    "4. A pre-workshop session will be held at 10-12am on Friday, June 1, in Room 116 DeBartolo Hall. The first hour provide a brief high-level overview of basic optimization concepts. During the second hour we will offe help getting your laptop or a research problem ready for the workshop. Details will be sent to registered participants.\n",
    "\n",
    "[PyomoFest Agenda](ND-Pyomo-Workshop-Agenda.pdf)\n",
    "\n",
    "## Getting Started with Pyomo\n",
    "\n",
    "[Pyomo](http://www.pyomo.org/) is a state-of-the-art package for modeling and solving optimization problems embedded within Python. Using Pyomo, complex models are described by specifying an optimization **objective**, one or more sets of decision **variables**, and collections of linear, nonlinear, discrete, and dynamical **constraints**. Pyomo includes a rich set of features to enable high-level modeling of complex systems, specifying solvers, and using Python to display the solution.\n",
    "\n",
    "* [Installing Pyomo](notebooks/intro/Installing_Pyomo.ipynb)\n",
    "* [Pyomo Basics](notebooks/intro/Pyomo_Basics.ipynb)\n",
    "* [Unconstrained Scalar Optimization](notebooks/intro/Unconstrained_Scalar_Optimization.ipynb)\n",
    "\n",
    "## Linear Programming\n",
    "\n",
    "* [Production Models with Linear Constraints](notebooks/lp/Production_Models_with_Linear_Constraints.ipynb)\n",
    "* [Linear Blending Problems](notebooks/lp/Linear_Blending_Problem.ipynb)\n",
    "* [Mixture Design for a Cold Weather Camping Fuel](notebooks/lp/Mixture_Design_Cold_Weather_Fuel.ipynb)\n",
    "* [Simple Gasoline Blending Example](notebooks/lp/Gasoline_Blending.ipynb)\n",
    "\n",
    "## Assignment Problems\n",
    "\n",
    "* [Transportation Networks](notebooks/assignment/Transportation_Networks.ipynb)\n",
    "\n",
    "## Scheduling Problems with Disjunctive Constraints\n",
    "\n",
    "* [Machine Bottleneck](notebooks/scheduling/Machine_Bottleneck.ipynb)\n",
    "* [Job Shop Scheduling](notebooks/scheduling/Job_Shop_Scheduling.ipynb)\n",
    "* [Scheduling Multipurpose Batch Processes using State-Task Networks](notebooks/scheduling/Scheduling_Multipurpose_Batch_Processes_using_State-Task_Networks.ipynb)\n",
    "\n",
    "## Simulation\n",
    "\n",
    "* [Linear First Order System](notebooks/simulation/Linear_First_Order_System.ipynb)\n",
    "* [Simulation of an Exothermic Stirred Tank Reactor](notebooks/simulation/Exothermic_CSTR.ipynb)\n",
    "* [Heat Conduction in Various Geometries](notebooks/simulation/Heat_Conduction_in_Various_Geometries.ipynb)\n",
    "\n",
    "## Differential Algebraic Equations\n",
    "\n",
    "* [Maximizing Concentration of an Intermediate in a Batch Reactor](notebooks/dae/Maximizing_Concentration_of_an_Intermediate_in_a_Batch_Reactor.ipynb)\n",
    "* [Path Planning for a Simple Car Model](notebooks/dae/Path_Planning_for_a_Simple_Car.ipynb)\n",
    "\n",
    "## Finance\n",
    "\n",
    "* [Binomial Model for Pricing Options](notebooks/finance/Binomial_Model_for_Pricing_Options.ipynb)\n",
    "* [Historical Stock Data](notebooks/finance/Historical_Stock_Data.ipynb)\n",
    "* [Charting Stock Data](notebooks/finance/Charting_Stock_Data.ipynb)\n",
    "* [MAD Portfolio Optimization](notebooks/finance/MAD_Portfolio_Optimization.ipynb)\n",
    "* [Real Options](notebooks/finance/Real_Options.ipynb)\n"
   ]
  },
  {
   "cell_type": "code",
   "execution_count": null,
   "metadata": {},
   "outputs": [],
   "source": []
  }
 ],
 "metadata": {
  "kernelspec": {
   "display_name": "Python 3",
   "language": "python",
   "name": "python3"
  },
  "language_info": {
   "codemirror_mode": {
    "name": "ipython",
    "version": 3
   },
   "file_extension": ".py",
   "mimetype": "text/x-python",
   "name": "python",
   "nbconvert_exporter": "python",
   "pygments_lexer": "ipython3",
   "version": "3.6.4"
  }
 },
 "nbformat": 4,
 "nbformat_minor": 2
}

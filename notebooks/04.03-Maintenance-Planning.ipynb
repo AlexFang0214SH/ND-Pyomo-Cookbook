{
 "cells": [
  {
   "cell_type": "markdown",
   "metadata": {
    "colab_type": "text",
    "id": "TH3-rr3QKO1B"
   },
   "source": [
    "<!--NOTEBOOK_HEADER-->\n",
    "*This notebook contains material from the [ND Pyomo Cookbook](http://jckantor.github.io/ND-Pyomo-Cookbook/) by \n",
    "Jeffrey Kantor (jeff at nd.edu); the content is available [on GitHub](https://github.com/jckantor/ND-Pyomo-Cookbook).\n",
    "*The text is released under the [CC-BY-NC-ND-4.0 license](https://creativecommons.org/licenses/by-nc-nd/4.0/legalcode),\n",
    "and code is released under the [MIT license](https://opensource.org/licenses/MIT).*\n"
   ]
  },
  {
   "cell_type": "markdown",
   "metadata": {
    "colab_type": "text",
    "id": "GTRpZbGDKO1D"
   },
   "source": [
    "<!--NAVIGATION-->\n",
    "< [Job Shop Scheduling](http://nbviewer.jupyter.org/github/jckantor/ND-Pyomo-Cookbook/blob/master/notebooks/04.02-Job-Shop-Scheduling.ipynb) | [Contents](toc.ipynb) | [Scheduling Multipurpose Batch Processes using State-Task Networks](http://nbviewer.jupyter.org/github/jckantor/ND-Pyomo-Cookbook/blob/master/notebooks/04.04-Scheduling-Multipurpose-Batch-Processes-using-State-Task_Networks.ipynb) ><p><a href=\"https://colab.research.google.com/github/jckantor/ND-Pyomo-Cookbook/blob/master/notebooks/04.03-Maintenance-Planning.ipynb\"><img align=\"left\" src=\"https://colab.research.google.com/assets/colab-badge.svg\" alt=\"Open in Colab\" title=\"Open in Google Colaboratory\"></a>"
   ]
  },
  {
   "cell_type": "markdown",
   "metadata": {
    "colab_type": "text",
    "id": "9O_tHTY_PL_s"
   },
   "source": [
    "# Maintenance Planning"
   ]
  },
  {
   "cell_type": "markdown",
   "metadata": {
    "colab_type": "text",
    "id": "Y_yzzUJQDJtr"
   },
   "source": [
    "## Problem statement\n",
    "\n",
    "\n",
    "A process unit is operating over a maintenance planning horizon from $1$ to $T$ days.  On day $t$ the unit makes a profit $c[t]$ which is known in advance. The unit needs to shut down for $P$ maintenance periods during the planning period.  Once started, a maintenance period takes $M$ days to finish.\n",
    "\n",
    "Find a maintenance schedule that allows the maximum profit to be produced."
   ]
  },
  {
   "cell_type": "markdown",
   "metadata": {
    "colab_type": "text",
    "id": "RrSgeD0ewWpE"
   },
   "source": [
    "## Modeling with disjunctive constraints\n",
    "\n",
    "The model is comprised of two sets of the binary variables indexed 1 to $T$. Binary variables $x_t$ correspond to the operating mode of the process unit, with $x_t=1$ indicating the unit is operating on day $t$ and able to earn a profit $c_t$. Binary variable $y_t=1$ indicates the first day of a maintenance period during which the unit is not operating and earning $0$ profit."
   ]
  },
  {
   "cell_type": "markdown",
   "metadata": {
    "colab_type": "text",
    "id": "RrSgeD0ewWpE"
   },
   "source": [
    "### Objective\n",
    "\n",
    "The planning objective is to maximize profit realized during the days the plant is operational. \n",
    "\n",
    "\\begin{align*}\n",
    "\\mbox{Profit} & = \\max_{x, y} \\sum_{t=1}^T c_t x_t\n",
    "\\end{align*}\n",
    "\n",
    "subject to completing $P$ maintenance periods.  "
   ]
  },
  {
   "cell_type": "markdown",
   "metadata": {
    "colab_type": "text",
    "id": "RrSgeD0ewWpE"
   },
   "source": [
    "### Constraints\n",
    "\n",
    "**Number of planning periods is equal to P.**\n",
    "\n",
    "Completing $P$ maintenance periods requires a total of $P$ starts.\n",
    "\n",
    "\\begin{align*}\n",
    "\\sum_{t=1}^T y_t &  = P \\\\\n",
    "\\end{align*}\n",
    "\n",
    "**No more than one maintenance period can start in any consecutive set of M days.**\n",
    "\n",
    "No more than one maintenance period can start in any consecutive set of M days.\n",
    "\n",
    "\\begin{align*}\n",
    "\\sum_{s=0}^{M-1}y_{t+s} & \\leq 1 \\qquad \\forall t = 1, 2, \\ldots, T-M+1\n",
    "\\end{align*}\n",
    "\n",
    "This last requirement could be modified if some period of time should occur between maintenance periods.\n",
    "\n",
    "**The unit must shut down for M days following a maintenance start.**\n",
    "\n",
    "The final requirement is a disjunctive constraint that says either $y_t = 0$ or the sum $\\sum_{s}^{M-1}x_{t+s} = 0$, but not both. Mathematically, this forms a set of constraints reading\n",
    "\n",
    "\\begin{align*}\n",
    "\\left(y_t = 0\\right) \\lor \\left(\\sum_{s=0}^{M-1}x_{t+s} = 0\\right)\\qquad \\forall t = 1, 2, \\ldots, T-M+1\n",
    "\\end{align*}\n",
    "\n",
    "where $\\lor$ denotes a disjunction.\n",
    "\n",
    "Disjunctive constraints of this nature are frequently encountered in scheduling problems. In this particular case, the disjunctive constraints can be replaced by a set of linear inequalities using the Big-M method.\n",
    "\n",
    "\\begin{align*}\n",
    "\\sum_{s=0}^{M-1}x_{t+s} \\leq M(1-y_t) \\qquad \\forall t = 1, 2, \\ldots, T-M+1\n",
    "\\end{align*}\n",
    "\n",
    "In this case, the $M$ appearing on the right-hand side of this constraint happens to be the same as the length of each maintenance period."
   ]
  },
  {
   "cell_type": "markdown",
   "metadata": {},
   "source": [
    "## Pyomo solution using the big-M method"
   ]
  },
  {
   "cell_type": "markdown",
   "metadata": {
    "colab_type": "text",
    "id": "hnrBY4xbdWA9"
   },
   "source": [
    "### Initialization\n",
    "\n",
    "If you are using this notebook in Google Colaboratory, the following cell will install Pyomo and the COIN-OR CBC solver  needed to execute the code in this notebook. Otherwise you should verify that Pyomo and the COIN-OR CBC solver have been successfully installed before attempting to run the code in this notebook."
   ]
  },
  {
   "cell_type": "code",
   "execution_count": 1,
   "metadata": {
    "colab": {},
    "colab_type": "code",
    "id": "2oIr_hnEPDdq"
   },
   "outputs": [],
   "source": [
    "import sys\n",
    "if 'google.colab' in sys.modules:\n",
    "    !pip install -q pyomo\n",
    "    !apt-get install -y -qq coinor-cbc"
   ]
  },
  {
   "cell_type": "markdown",
   "metadata": {},
   "source": [
    "### Select solver\n",
    "\n",
    "The next cell constructs the SolverFactory() object that will be used in subsequent calculations in this notebook. Doing this at the start makes it simpler to adapt this notebook to different solvers and computational environments."
   ]
  },
  {
   "cell_type": "code",
   "execution_count": 2,
   "metadata": {},
   "outputs": [],
   "source": [
    "import pyomo.environ as pyo\n",
    "solver = pyo.SolverFactory('cbc')"
   ]
  },
  {
   "cell_type": "markdown",
   "metadata": {
    "colab_type": "text",
    "id": "Bae6-dR_lYkm"
   },
   "source": [
    "### Parameter values"
   ]
  },
  {
   "cell_type": "code",
   "execution_count": 3,
   "metadata": {
    "colab": {},
    "colab_type": "code",
    "id": "L5TaVPbkEPZ0"
   },
   "outputs": [],
   "source": [
    "import numpy as np\n",
    "\n",
    "# problem parameters\n",
    "T = 90        # planning period from 1..T\n",
    "M = 3         # length of maintenance period\n",
    "P = 4         # number of maintenance periods\n",
    "\n",
    "# daily profits\n",
    "c = {k:np.random.uniform() for k in range(1, T+1)}"
   ]
  },
  {
   "cell_type": "markdown",
   "metadata": {
    "colab_type": "text",
    "id": "e28FWA1GlNyQ"
   },
   "source": [
    "### Pyomo model\n",
    "\n",
    "The disjunctive constraints can be represented directly in Pyomo using the [Generalized Disjunctive Programming](https://pyomo.readthedocs.io/en/latest/modeling_extensions/gdp.html) extension. The GDP extension transforms the disjunctive constraints to an MILP using convex hull and cutting plane methods."
   ]
  },
  {
   "cell_type": "code",
   "execution_count": 4,
   "metadata": {
    "colab": {
     "base_uri": "https://localhost:8080/",
     "height": 1014
    },
    "colab_type": "code",
    "executionInfo": {
     "elapsed": 1543,
     "status": "ok",
     "timestamp": 1557947668999,
     "user": {
      "displayName": "Jeffrey Kantor",
      "photoUrl": "https://lh5.googleusercontent.com/-8zK5aAW5RMQ/AAAAAAAAAAI/AAAAAAAAKB0/kssUQyz8DTQ/s64/photo.jpg",
      "userId": "09038942003589296665"
     },
     "user_tz": 240
    },
    "id": "cUARDFzP9fla",
    "outputId": "ba0f2867-3a14-4314-c09f-bb4a76ebd1a7"
   },
   "outputs": [
    {
     "name": "stdout",
     "output_type": "stream",
     "text": [
      "# ==========================================================\n",
      "# = Solver Results                                         =\n",
      "# ==========================================================\n",
      "# ----------------------------------------------------------\n",
      "#   Problem Information\n",
      "# ----------------------------------------------------------\n",
      "Problem: \n",
      "- Name: unknown\n",
      "  Lower bound: 41.8298063639989\n",
      "  Upper bound: 41.8298063639989\n",
      "  Number of objectives: 1\n",
      "  Number of constraints: 178\n",
      "  Number of variables: 181\n",
      "  Number of nonzeros: 705\n",
      "  Sense: maximize\n",
      "# ----------------------------------------------------------\n",
      "#   Solver Information\n",
      "# ----------------------------------------------------------\n",
      "Solver: \n",
      "- Status: ok\n",
      "  Termination condition: optimal\n",
      "  Statistics: \n",
      "    Branch and bound: \n",
      "      Number of bounded subproblems: 5259\n",
      "      Number of created subproblems: 5259\n",
      "  Error rc: 0\n",
      "  Time: 0.705132007598877\n",
      "# ----------------------------------------------------------\n",
      "#   Solution Information\n",
      "# ----------------------------------------------------------\n",
      "Solution: \n",
      "- number of solutions: 0\n",
      "  number of solutions displayed: 0\n"
     ]
    }
   ],
   "source": [
    "import pyomo.environ as pyo\n",
    "import matplotlib.pyplot as plt\n",
    "\n",
    "def maintenance_planning_bigm(c, T, M, P):\n",
    "    m = pyo.ConcreteModel()\n",
    "\n",
    "    m.T = pyo.RangeSet(1, T)\n",
    "    m.Y = pyo.RangeSet(1, T - M + 1)\n",
    "    m.S = pyo.RangeSet(0, M - 1)\n",
    "\n",
    "    m.c = pyo.Param(m.T, initialize = c)\n",
    "    m.x = pyo.Var(m.T, domain=pyo.Binary)\n",
    "    m.y = pyo.Var(m.T, domain=pyo.Binary)\n",
    "\n",
    "    # objective\n",
    "    m.profit = pyo.Objective(expr = sum(m.c[t]*m.x[t] for t in m.T), sense=pyo.maximize)\n",
    "\n",
    "    # required number P of maintenance starts\n",
    "    m.sumy = pyo.Constraint(expr = sum(m.y[t] for t in m.Y) == P)\n",
    "\n",
    "    # no more than one maintenance start in the period of length M\n",
    "    m.sprd = pyo.Constraint(m.Y, rule = lambda m, t: sum(m.y[t+s] for s in m.S) <= 1)\n",
    "\n",
    "    # disjunctive constraints\n",
    "    m.bigm = pyo.Constraint(m.Y, rule = lambda m, t: sum(m.x[t+s] for s in m.S) <= M*(1 - m.y[t]))\n",
    "    \n",
    "    return m\n",
    "   \n",
    "m = maintenance_planning_bigm(c, T, M, P)\n",
    "pyo.SolverFactory('glpk').solve(m).write()"
   ]
  },
  {
   "cell_type": "markdown",
   "metadata": {},
   "source": [
    "### Display results"
   ]
  },
  {
   "cell_type": "code",
   "execution_count": 5,
   "metadata": {},
   "outputs": [
    {
     "data": {
      "image/png": "[encoded data removed]",
      "text/plain": [
       "<Figure size 648x288 with 3 Axes>"
      ]
     },
     "metadata": {
      "needs_background": "light"
     },
     "output_type": "display_data"
    }
   ],
   "source": [
    "\n",
    "def plot_schedule(m):\n",
    "    fig,ax = plt.subplots(3,1, figsize=(9,4))\n",
    "    \n",
    "    ax[0].bar(m.T, [m.c[t] for t in m.T])\n",
    "    ax[0].set_title('daily profit $c_t$')\n",
    "    \n",
    "    ax[1].bar(m.T, [m.x[t]() for t in m.T], label='normal operation')\n",
    "    ax[1].set_title('unit operating schedule $x_t$')\n",
    "    \n",
    "    ax[2].bar(m.Y, [m.y[t]() for t in m.Y])\n",
    "    ax[2].set_title(str(P) + ' maintenance starts $y_t$')\n",
    "    for a in ax:\n",
    "        a.set_xlim(0.1, len(m.T)+0.9)\n",
    "        \n",
    "    plt.tight_layout()\n",
    "\n",
    "plot_schedule(m)"
   ]
  },
  {
   "cell_type": "markdown",
   "metadata": {
    "colab_type": "text",
    "id": "uC2EbGWaDCJ4"
   },
   "source": [
    "## Pyomo solution using the generalized disjunctive constraints extension\n",
    "\n",
    "Disjunctive constraints can be represented directly in Pyomo using the [Generalized Disjunctive Programming](https://pyomo.readthedocs.io/en/latest/modeling_extensions/gdp.html) extension. The advantage of using the extension is that constraints can be transformed to an MILP using alternatives to the big-M, such as convex hull and cutting plane methods.\n",
    "\n",
    "The following cell replaces the Big-M constraints with disjunctions. Disjunctions are represented by lists of mutually exclusive constraints."
   ]
  },
  {
   "cell_type": "code",
   "execution_count": 6,
   "metadata": {
    "colab": {
     "base_uri": "https://localhost:8080/",
     "height": 1014
    },
    "colab_type": "code",
    "executionInfo": {
     "elapsed": 5519,
     "status": "ok",
     "timestamp": 1557947666034,
     "user": {
      "displayName": "Jeffrey Kantor",
      "photoUrl": "https://lh5.googleusercontent.com/-8zK5aAW5RMQ/AAAAAAAAAAI/AAAAAAAAKB0/kssUQyz8DTQ/s64/photo.jpg",
      "userId": "09038942003589296665"
     },
     "user_tz": 240
    },
    "id": "bHrlX2c2lyDc",
    "outputId": "1c0c76bf-2d6f-496c-d259-4340c8684565"
   },
   "outputs": [
    {
     "name": "stdout",
     "output_type": "stream",
     "text": [
      "# ==========================================================\n",
      "# = Solver Results                                         =\n",
      "# ==========================================================\n",
      "# ----------------------------------------------------------\n",
      "#   Problem Information\n",
      "# ----------------------------------------------------------\n",
      "Problem: \n",
      "- Name: unknown\n",
      "  Lower bound: -41.82980636\n",
      "  Upper bound: -41.82980636\n",
      "  Number of objectives: 1\n",
      "  Number of constraints: 440\n",
      "  Number of variables: 266\n",
      "  Number of binary variables: 356\n",
      "  Number of integer variables: 356\n",
      "  Number of nonzeros: 90\n",
      "  Sense: maximize\n",
      "# ----------------------------------------------------------\n",
      "#   Solver Information\n",
      "# ----------------------------------------------------------\n",
      "Solver: \n",
      "- Status: ok\n",
      "  User time: -1.0\n",
      "  System time: 0.03\n",
      "  Wallclock time: 0.04\n",
      "  Termination condition: optimal\n",
      "  Termination message: Model was solved to optimality (subject to tolerances), and an optimal solution is available.\n",
      "  Statistics: \n",
      "    Branch and bound: \n",
      "      Number of bounded subproblems: 0\n",
      "      Number of created subproblems: 0\n",
      "    Black box: \n",
      "      Number of iterations: 0\n",
      "  Error rc: 0\n",
      "  Time: 0.05009102821350098\n",
      "# ----------------------------------------------------------\n",
      "#   Solution Information\n",
      "# ----------------------------------------------------------\n",
      "Solution: \n",
      "- number of solutions: 0\n",
      "  number of solutions displayed: 0\n"
     ]
    },
    {
     "data": {
      "image/png": "[encoded data removed]",
      "text/plain": [
       "<Figure size 648x288 with 3 Axes>"
      ]
     },
     "metadata": {
      "needs_background": "light"
     },
     "output_type": "display_data"
    }
   ],
   "source": [
    "import pyomo.environ as pyo\n",
    "import pyomo.gdp as gdp\n",
    "import matplotlib.pyplot as plt\n",
    "\n",
    "def maintenance_planning_gdp(c, T, M, P):\n",
    "    m = pyo.ConcreteModel()\n",
    "\n",
    "    m.T = pyo.RangeSet(1, T)\n",
    "    m.Y = pyo.RangeSet(1, T - M + 1)\n",
    "    m.S = pyo.RangeSet(0, M - 1)\n",
    "\n",
    "    m.c = pyo.Param(m.T, initialize = c)\n",
    "    m.x = pyo.Var(m.T, domain=pyo.Binary)\n",
    "    m.y = pyo.Var(m.T, domain=pyo.Binary)\n",
    "\n",
    "    # objective\n",
    "    m.profit = pyo.Objective(expr = sum(m.c[t]*m.x[t] for t in m.T), sense=pyo.maximize)\n",
    "\n",
    "    # required number P of maintenance starts\n",
    "    m.sumy = pyo.Constraint(expr = sum(m.y[t] for t in m.Y) == P)\n",
    "\n",
    "    # no more than one maintenance start in the period of length M\n",
    "    m.sprd = pyo.Constraint(m.Y, rule = lambda m, t: sum(m.y[t+s] for s in m.S) <= 1)\n",
    "\n",
    "    # disjunctive constraints\n",
    "    m.disj = gdp.Disjunction(m.Y, rule = lambda m, t: [m.y[t]==0, sum(m.x[t+s] for s in m.S)==0])\n",
    "\n",
    "    # transformation and soluton\n",
    "    pyo.TransformationFactory('gdp.chull').apply_to(m)\n",
    "    \n",
    "    return m\n",
    "\n",
    "m = maintenance_planning_gdp(c, T, M, P)\n",
    "solver.solve(m).write()\n",
    "plot_schedule(m)"
   ]
  },
  {
   "cell_type": "markdown",
   "metadata": {
    "colab_type": "text",
    "id": "gcy3yD4J_6OC"
   },
   "source": [
    "## Ramping constraints\n",
    "\n",
    "Prior to maintenance shutdown, a large processing unit may take some time to safely ramp down from full production. And then require more time to safely ramp back up to full production following maintenace. To provide for ramp-down and ramp-up periods, we modify the problem formation in the following ways.\n",
    "\n",
    "* The variable denoting unit operation, $x_t$ is changed from a binary variable to a continuous variable $\\0 \\leq x_t \\leq 1$ denoting the fraction of total capacity at which the unit is operating on day $t$.\n",
    "\n",
    "* Two new variable sequences, $0 \\leq u_t^+ \\leq u_t^{+,\\max}$ and $0\\leq u_t^- \\leq u_t^{-,\\max}$, are introduced which denote the fraction increase or decrease in unit capacity to completed on day $t$.\n",
    "\n",
    "* An additional sequence of equality constraints is introduced relating $x_t$ to $u_t^+$ and $u_t^-$.\n",
    "\n",
    "\\begin{align*}\n",
    "x_{t} & = x_{t-1} + u^+_t - u^-_t\n",
    "\\end{align*}\n",
    "\n",
    "We begin the Pyomo model by specifying the constraints, then modifying the Big-M formulation to add the features described above."
   ]
  },
  {
   "cell_type": "code",
   "execution_count": 7,
   "metadata": {
    "colab": {},
    "colab_type": "code",
    "id": "9fRtZc5nCInh"
   },
   "outputs": [],
   "source": [
    "upos_max = 0.3334\n",
    "uneg_max = 0.5000"
   ]
  },
  {
   "cell_type": "code",
   "execution_count": 8,
   "metadata": {
    "colab": {
     "base_uri": "https://localhost:8080/",
     "height": 297
    },
    "colab_type": "code",
    "executionInfo": {
     "elapsed": 3307,
     "status": "ok",
     "timestamp": 1557947674808,
     "user": {
      "displayName": "Jeffrey Kantor",
      "photoUrl": "https://lh5.googleusercontent.com/-8zK5aAW5RMQ/AAAAAAAAAAI/AAAAAAAAKB0/kssUQyz8DTQ/s64/photo.jpg",
      "userId": "09038942003589296665"
     },
     "user_tz": 240
    },
    "id": "ESHZWcEaA9gP",
    "outputId": "030e96a8-1ae1-47f5-f4c6-d83378818838"
   },
   "outputs": [
    {
     "data": {
      "image/png": "[encoded data removed]",
      "text/plain": [
       "<Figure size 648x288 with 3 Axes>"
      ]
     },
     "metadata": {
      "needs_background": "light"
     },
     "output_type": "display_data"
    }
   ],
   "source": [
    "import pyomo.environ as pyo\n",
    "import pyomo.gdp as gdp\n",
    "import matplotlib.pyplot as plt\n",
    "\n",
    "def maintenance_planning_ramp(c, T, M, P):\n",
    "    m = pyo.ConcreteModel()\n",
    "\n",
    "    m.T = pyo.RangeSet(1, T)\n",
    "    m.Y = pyo.RangeSet(1, T - M + 1)\n",
    "    m.S = pyo.RangeSet(0, M - 1)\n",
    "\n",
    "    m.c = pyo.Param(m.T, initialize = c)\n",
    "    m.x = pyo.Var(m.T, bounds=(0, 1))\n",
    "    m.y = pyo.Var(m.T, domain=pyo.Binary)\n",
    "    m.upos = pyo.Var(m.T, bounds=(0, upos_max))\n",
    "    m.uneg = pyo.Var(m.T, bounds=(0, uneg_max))\n",
    "\n",
    "    # objective\n",
    "    m.profit = pyo.Objective(expr = sum(m.c[t]*m.x[t] for t in m.T), sense=pyo.maximize)\n",
    "    \n",
    "    # ramp constraint\n",
    "    m.ramp = pyo.Constraint(m.T, rule = lambda m, t: \n",
    "         m.x[t] == m.x[t-1] + m.upos[t] - m.uneg[t] if t > 1 else pyo.Constraint.Skip)\n",
    "      \n",
    "    # required number P of maintenance starts\n",
    "    m.sumy = pyo.Constraint(expr = sum(m.y[t] for t in m.Y) == P)\n",
    "\n",
    "    # no more than one maintenance start in the period of length M\n",
    "    m.sprd = pyo.Constraint(m.Y, rule = lambda m, t: sum(m.y[t+s] for s in m.S) <= 1)\n",
    "    \n",
    "    # disjunctive constraints\n",
    "    m.disj = gdp.Disjunction(m.Y, rule = lambda m, t: [m.y[t]==0, sum(m.x[t+s] for s in m.S)==0])\n",
    "    \n",
    "    # transformation and soluton\n",
    "    pyo.TransformationFactory('gdp.chull').apply_to(m)\n",
    "    \n",
    "    return m\n",
    "  \n",
    "m = maintenance_planning_ramp(c, T, M, P)\n",
    "solver.solve(m)\n",
    "plot_schedule(m)"
   ]
  },
  {
   "cell_type": "markdown",
   "metadata": {
    "colab_type": "text",
    "id": "HM_k7HkbThAe"
   },
   "source": [
    "## Specifying the minimum number of operational days between maintenance periods\n",
    "\n",
    "Up to this point we have imposed no constraints on the frequency of maintenance periods. Without such constraints, particularly when ramping constraints are imposed, is that maintenance periods will be scheduled back-to-back, which is clearly not a useful result for most situations.\n",
    "\n",
    "The next revision of the model is to incorporate a requirement that $N$ operational days be scheduled between any mainteance periods. This does allow for maintenance to be postponed until the very end of the planning period. The disjunctive constraints read\n",
    "\n",
    "\\begin{align*}\n",
    "\\left(y_t = 0\\right) \\lor \\left(\\sum_{s=0}^{(M + N -1) \\wedge (t + s \\leq T)}x_{t+s} = 0\\right)\\qquad \\forall t = 1, 2, \\ldots, T-M+1\n",
    "\\end{align*}\n",
    "\n",
    "where the upper bound on the summation is needed to handle the terminal condition. \n",
    "\n",
    "Paradoxically, this is an example where the Big-M method provides a much faster solution.\n",
    "\n",
    "\\begin{align*}\n",
    "\\sum_{s=0}^{(M + N -1) \\wedge (t + s \\leq T)}x_{t+s} \\leq (M+N)(1-y_t) \\qquad \\forall t = 1, 2, \\ldots, T-M+1\n",
    "\\end{align*}\n",
    "\n",
    "The following cell implements both sets of constraints. "
   ]
  },
  {
   "cell_type": "code",
   "execution_count": 9,
   "metadata": {
    "colab": {},
    "colab_type": "code",
    "id": "fEOMGHPvUJzJ"
   },
   "outputs": [],
   "source": [
    "N = 10  # minimum number of operational days between maintenance periods"
   ]
  },
  {
   "cell_type": "code",
   "execution_count": 10,
   "metadata": {
    "colab": {
     "base_uri": "https://localhost:8080/",
     "height": 297
    },
    "colab_type": "code",
    "executionInfo": {
     "elapsed": 3249,
     "status": "ok",
     "timestamp": 1557947681109,
     "user": {
      "displayName": "Jeffrey Kantor",
      "photoUrl": "https://lh5.googleusercontent.com/-8zK5aAW5RMQ/AAAAAAAAAAI/AAAAAAAAKB0/kssUQyz8DTQ/s64/photo.jpg",
      "userId": "09038942003589296665"
     },
     "user_tz": 240
    },
    "id": "m93Na6TkUqDb",
    "outputId": "cae87fae-7eba-46c3-ea3b-7e2427c4f529"
   },
   "outputs": [
    {
     "data": {
      "image/png": "[encoded data removed]",
      "text/plain": [
       "<Figure size 648x288 with 3 Axes>"
      ]
     },
     "metadata": {
      "needs_background": "light"
     },
     "output_type": "display_data"
    }
   ],
   "source": [
    "import pyomo.environ as pyo\n",
    "import pyomo.gdp as gdp\n",
    "import matplotlib.pyplot as plt\n",
    "\n",
    "def maintenance_planning_ramp_operational(c, T, M, P, N):\n",
    "    m = pyo.ConcreteModel()\n",
    "\n",
    "    m.T = pyo.RangeSet(1, T)\n",
    "    m.Y = pyo.RangeSet(1, T - M + 1)\n",
    "    m.S = pyo.RangeSet(0, M - 1)\n",
    "    m.W = pyo.RangeSet(0, M + N - 1)\n",
    "\n",
    "    m.c = pyo.Param(m.T, initialize = c)\n",
    "    m.x = pyo.Var(m.T, bounds=(0, 1))\n",
    "    m.y = pyo.Var(m.T, domain=pyo.Binary)\n",
    "    m.upos = pyo.Var(m.T, bounds=(0, upos_max))\n",
    "    m.uneg = pyo.Var(m.T, bounds=(0, uneg_max))\n",
    "\n",
    "    # objective\n",
    "    m.profit = pyo.Objective(expr = sum(m.c[t]*m.x[t] for t in m.T), sense=pyo.maximize)\n",
    "    \n",
    "    # ramp constraint\n",
    "    m.ramp = pyo.Constraint(m.T, rule = lambda m, t: \n",
    "         m.x[t] == m.x[t-1] + m.upos[t] - m.uneg[t] if t > 1 else pyo.Constraint.Skip)\n",
    "      \n",
    "    # required number P of maintenance starts\n",
    "    m.sumy = pyo.Constraint(expr = sum(m.y[t] for t in m.Y) == P)\n",
    "\n",
    "    # no more than one maintenance start in the period of length M\n",
    "    m.sprd = pyo.Constraint(m.Y, rule = lambda m, t: sum(m.y[t+s] for s in m.W if t + s <= T) <= 1)   \n",
    "    \n",
    "    # Choose one or the other the following methods. Comment out the method not used.\n",
    "    \n",
    "    # disjunctive constraints, big-M method.\n",
    "    m.bigm = pyo.Constraint(m.Y, rule = lambda m, t: sum(m.x[t+s] for s in m.S) <= (M+N)*(1 - m.y[t]))\n",
    "    \n",
    "    # disjunctive constraints, GDP programming method\n",
    "    #m.disj = gdp.Disjunction(m.Y, rule = lambda m, t: [m.y[t]==0, sum(m.x[t+s] for s in m.W if t + s <= T)==0])\n",
    "    #pyo.TransformationFactory('gdp.chull').apply_to(m)\n",
    "    \n",
    "    return m\n",
    "\n",
    "m = maintenance_planning_ramp_operational(c, T, M, P, N)\n",
    "solver.solve(m)\n",
    "plot_schedule(m)"
   ]
  },
  {
   "cell_type": "markdown",
   "metadata": {
    "colab_type": "text",
    "id": "3j0fLxBOwSch"
   },
   "source": [
    "## Exercises\n",
    "\n",
    "1. Rather than specify how many maintenance periods must be accomodated, modify the model so that the process unit can operate no more than $N$ days without a maintenance shutdown.  (Hint. You may to introduce an additional set of binary variables, $z_t$ to denote the start of an operational period.)\n",
    "\n",
    "2. Do a systematic comparison of the Big-M, Convex Hull, and Cutting Plane techniques for implementing the disjunctive constraints. Your comparison should include a measure of complexity (such as the number of decision variables and constraints in the resulting transformed problems), computational effort, and the effect of solver (such as glpk vs cbc)."
   ]
  },
  {
   "cell_type": "markdown",
   "metadata": {
    "colab_type": "text",
    "id": "SiIg_PqyKO1T"
   },
   "source": [
    "<!--NAVIGATION-->\n",
    "< [Job Shop Scheduling](http://nbviewer.jupyter.org/github/jckantor/ND-Pyomo-Cookbook/blob/master/notebooks/04.02-Job-Shop-Scheduling.ipynb) | [Contents](toc.ipynb) | [Scheduling Multipurpose Batch Processes using State-Task Networks](http://nbviewer.jupyter.org/github/jckantor/ND-Pyomo-Cookbook/blob/master/notebooks/04.04-Scheduling-Multipurpose-Batch-Processes-using-State-Task_Networks.ipynb) ><p><a href=\"https://colab.research.google.com/github/jckantor/ND-Pyomo-Cookbook/blob/master/notebooks/04.03-Maintenance-Planning.ipynb\"><img align=\"left\" src=\"https://colab.research.google.com/assets/colab-badge.svg\" alt=\"Open in Colab\" title=\"Open in Google Colaboratory\"></a>"
   ]
  }
 ],
 "metadata": {
  "colab": {
   "collapsed_sections": [],
   "name": "04.03-Maintenance-Planning.ipynb",
   "provenance": [
    {
     "file_id": "https://github.com/jckantor/ND-Pyomo-Cookbook/blob/master/notebooks/04.03-Maintenance-Planning.ipynb",
     "timestamp": 1556576712896
    }
   ],
   "toc_visible": true,
   "version": "0.3.2"
  },
  "kernelspec": {
   "display_name": "Python 3",
   "language": "python",
   "name": "python3"
  },
  "language_info": {
   "codemirror_mode": {
    "name": "ipython",
    "version": 3
   },
   "file_extension": ".py",
   "mimetype": "text/x-python",
   "name": "python",
   "nbconvert_exporter": "python",
   "pygments_lexer": "ipython3",
   "version": "3.7.3"
  }
 },
 "nbformat": 4,
 "nbformat_minor": 2
}

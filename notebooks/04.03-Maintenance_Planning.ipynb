{
  "nbformat": 4,
  "nbformat_minor": 0,
  "metadata": {
    "colab": {
      "name": "Maintenance-Planning.ipynb",
      "version": "0.3.2",
      "provenance": [],
      "collapsed_sections": []
    },
    "kernelspec": {
      "name": "python3",
      "display_name": "Python 3"
    }
  },
  "cells": [
    {
      "metadata": {
        "id": "9O_tHTY_PL_s",
        "colab_type": "text"
      },
      "cell_type": "markdown",
      "source": [
        "# Maintenance Planning\n",
        "\n",
        "Assume at factory is operating over a planning period from $1$ to $T$ days.  On day $t$ the factory makes a profit $c[t]$ which is known in advance. The factory also needs to shut down for at least two maintenance periods during the planning period.  Once started, a maintenance period takes at least $M$ days to finish.\n",
        "\n",
        "Find a maintenance schedule that allows the maximum profit to be produced."
      ]
    },
    {
      "metadata": {
        "id": "TOKAfiKaKj3N",
        "colab_type": "code",
        "colab": {}
      },
      "cell_type": "code",
      "source": [
        "%%capture\n",
        "!pip install -q pyomo\n",
        "!apt-get install -y -qq coinor-cbc"
      ],
      "execution_count": 0,
      "outputs": []
    },
    {
      "metadata": {
        "id": "RrSgeD0ewWpE",
        "colab_type": "text"
      },
      "cell_type": "markdown",
      "source": [
        "## Modeling\n",
        "\n",
        "Define boolean variables\n",
        "\n",
        "\\begin{align*}\n",
        "x_t & = 1 \\implies \\mbox{factory is operating on day }t \\\\\n",
        "y_t & = 1 \\implies \\mbox{maintenance starts on day }t\n",
        "\\end{align*}\n",
        "\n",
        "Objective \n",
        "\n",
        "\\begin{align*}\n",
        "\\mbox{Profit} & = \\max_{x, y, z} \\sum_{t=1}^T c_t x_t\n",
        "\\end{align*}\n",
        "\n",
        "Number of maintenance periods $P$\n",
        "\n",
        "\\begin{align*}\n",
        "\\sum_{t=1}^{T-M+1} y_t &  = P\n",
        "\\end{align*}\n",
        "\n",
        "No more than on maintenance start in an M day period\n",
        "\n",
        "\\begin{align*}\n",
        "\\sum_{s=t}^{t+M-1}y_s & \\leq 1 \\qquad \\forall t = 1, 2, \\ldots, T-M\n",
        "\\end{align*}\n",
        "\n",
        "Factory stays down for M days for a maintenance period\n",
        "\n",
        "$$y_t + x_{t+s} \\leq 1 \\qquad \\forall t = 1, 2, \\ldots, T-M+1 \\quad \\forall s = t, t+1, \\ldots, t+M-1$$\n",
        "\n"
      ]
    },
    {
      "metadata": {
        "id": "cUARDFzP9fla",
        "colab_type": "code",
        "colab": {
          "base_uri": "https://localhost:8080/",
          "height": 297
        },
        "outputId": "55cfcd08-720d-4e63-bf0f-2a46e92fec1c"
      },
      "cell_type": "code",
      "source": [
        "import pyomo.environ as pyo\n",
        "import matplotlib.pyplot as plt\n",
        "import numpy as np\n",
        "\n",
        "T = 31        # planning period from 1..T\n",
        "M = 3        # length of maintenance period\n",
        "P = 3        # number of maintenance periods\n",
        "c = {k:np.random.uniform() for k in range(1, T+1)}\n",
        "\n",
        "m = pyo.ConcreteModel()\n",
        "\n",
        "m.T = pyo.RangeSet(1, T)\n",
        "m.c = pyo.Param(m.T, initialize = c)\n",
        "m.x = pyo.Var(m.T, domain=pyo.Binary)     # m.x[t] == 1 factory up from t-1 to t\n",
        "m.y = pyo.Var(m.T, domain=pyo.Binary)     # m.y[t] == 1 first day of a maintenance period\n",
        "\n",
        "# objective\n",
        "m.profit = pyo.Objective(expr = sum(m.c[t]*m.x[t] for t in m.T), sense=pyo.maximize)\n",
        "\n",
        "# required number P of maintenance starts\n",
        "m.ystarts = pyo.Constraint(expr = sum(m.y[t] for t in range(1, T-M+2)) == P)\n",
        "\n",
        "# only one maintenance start in M days\n",
        "m.ycons = pyo.ConstraintList()\n",
        "for t in range(1, T-M+2):\n",
        "    m.ycons.add(sum(m.y[s] for s in range(t, min(t+M, T+M-1))) <= 1)\n",
        "\n",
        "# factory stays down for M days following a maintenance start\n",
        "m.state = pyo.ConstraintList()\n",
        "for t in range(1, T-M+2):\n",
        "  for s in range(t, t+M):\n",
        "    m.state.add(m.y[t] + m.x[s] <= 1)\n",
        "\n",
        "# solve\n",
        "pyo.SolverFactory('cbc').solve(m)\n",
        "\n",
        "# plot\n",
        "fig,ax = plt.subplots(2,1)\n",
        "ax[0].bar([t for t in m.T], [m.c[t] for t in m.T])\n",
        "ax[0].set_title('daily profit')\n",
        "ax[1].bar([t for t in m.T], [m.x[t]() for t in m.T])\n",
        "ax[1].set_title('factory operating schedule')\n",
        "plt.tight_layout()"
      ],
      "execution_count": 195,
      "outputs": [
        {
          "output_type": "display_data",
          "data": {
            "image/png": "[encoded data removed]",
            "text/plain": [
              "<Figure size 432x288 with 2 Axes>"
            ]
          },
          "metadata": {
            "tags": []
          }
        }
      ]
    },
    {
      "metadata": {
        "id": "1oxpPEOGn1E1",
        "colab_type": "code",
        "colab": {}
      },
      "cell_type": "code",
      "source": [
        ""
      ],
      "execution_count": 0,
      "outputs": []
    }
  ]
}
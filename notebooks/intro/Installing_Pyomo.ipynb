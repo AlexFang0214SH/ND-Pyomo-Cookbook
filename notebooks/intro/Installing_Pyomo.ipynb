{
 "cells": [
  {
   "cell_type": "markdown",
   "metadata": {},
   "source": [
    "# Installing a Pyomo/Python Development Environment\n",
    "\n",
    "The first step in getting started with Pyomo is to install a development environment on your laptop. There are cloud services that could, in principle, provide a suitable environment. But unless such an environment has been set up specifically for your needs, it is generally easier and more productive to get started on your own laptop."
   ]
  },
  {
   "cell_type": "markdown",
   "metadata": {},
   "source": [
    "### Step 1. Install Anaconda\n",
    "\n",
    "Developing scientific and engineering applications in [Python](https://www.python.org/) requires an interpreter for a particular version of the Python language, a collection of previously developed software libraries, and additional development tools including editors and package managers. Together these elements comprise a Python distribution.\n",
    "\n",
    "There are many [Python distributions](https://wiki.python.org/moin/PythonDistributions) available from commercial and free sources.  The Anaconda distribution available from [Anaconda.com](https://www.anaconda.com/) is among the most complete and best known distributions currently available, and is available as a [free download](https://www.anaconda.com/download/) or in commercially supported enterprise version. Anaconda includes\n",
    "\n",
    "* a Python interpreter,\n",
    "* a user interface [Anaconda Navigator](https://docs.anaconda.com/anaconda/navigator/) providing access to software development tools,\n",
    "* pre-installed versions of major python libraries,\n",
    "* the [conda](https://conda.io/docs/index.html) package manager to manage python packages and environments. \n",
    "\n",
    "Installation Procedure:\n",
    "\n",
    "1. If you have previously installed Anaconda and wish to start over, then a first step is to [uninstall the earlier version](https://docs.anaconda.com/anaconda/install/uninstall). While it is possible to maintain multiple versions of Anaconda, there are problems that can arise when installing new packages. Uninstalling prior installations of Anaconda installations is the easiest way to avoid those problems.\n",
    "\n",
    "2. [Download](https://www.anaconda.com/download/) a version of Anaconda appropriate for your laptop. Unless you have a specific reason to use an earlier version of the Python language, download the 64-bit graphical installer for the latest version of Python (currently Python 3.6).\n",
    "\n",
    "3. Locate and launch the graphical installer from your download directory. Either follow the prompts or consult these more [detailed instructions](https://docs.anaconda.com/anaconda/install/). Normally you will want to use the default choices to install Anaconda into your home folder (a.k.a. directory) for your use only. Generally there is no need to install the optional Microsoft VSCode. \n",
    "\n",
    "4. [Verify](https://docs.anaconda.com/anaconda/install/verify-install) that your installation is working. For example, you should be able to locate and lauch a new application [Anaconda Navigator](https://docs.anaconda.com/anaconda/navigator/).\n",
    "\n",
    "5. Install any available package updates. Open a command line (either the Terminal application on a Mac located look in the Applications/Utilities folder, or the Command Prompt on Windows), and execute the following two commands on separate lines.\n",
    "\n",
    "\n",
    "    conda update conda\n",
    "    conda update anaconda\n",
    "   \n",
    "If everything is working correctly, these commands should download and install any recent updates to the Anaconda package."
   ]
  },
  {
   "cell_type": "markdown",
   "metadata": {},
   "source": [
    "### Step 2. Install Pyomo\n",
    "\n",
    "The following commands install Pyomo and dependencies. These commands should be executed one at a time from a [terminal window on MacOS](https://www.wikihow.com/Open-a-Terminal-Window-in-Mac) or a [command window on Windows](https://www.digitalcitizen.life/7-ways-launch-command-prompt-windows-7-windows-8).\n",
    "\n",
    "    conda install -c conda-forge pyomo\n",
    "    conda install -c conda-forge pyomo.extras"
   ]
  },
  {
   "cell_type": "markdown",
   "metadata": {},
   "source": [
    "### Step 3. Install Solvers\n",
    "\n",
    "Solvers are needed to compute solutions to the optimization models developed using Pyomo.  The solvers [glpk](https://en.wikibooks.org/wiki/GLPK) (mixed integer linear optimization) and [ipopt](https://en.wikipedia.org/wiki/IPOPT) (nonlinear optimization) cover a wide range of optimization models that arise in process systems engineering and provide good starting point for learning Pyomo. These are installed with the following commands (again, executed one at a time from a terminal window or command prompt).  \n",
    "\n",
    "    conda install -c conda-forge glpk\n",
    "    conda install -c conda-forge ipopt\n",
    "    \n",
    "At this point you should have a working installation of a Python/Pyomo development environment.  If you're just getting started with Pyomo, at this point you should be able to use Anaconda Navigator to open a Jupyter session in a browswer, then download and open this notebook in Jupyter. If all's well, the Pyomo model in the cells below should produce useful results."
   ]
  },
  {
   "cell_type": "markdown",
   "metadata": {},
   "source": [
    "### Step 4. (Optional) Install Additional Solvers\n",
    "\n",
    "The glpk and ipopt solvers are sufficient to handle meaningful Pyomo models with hundreds to several thousand variables and constraints. These solvers are available under open-source licenses and an excellent starting point for building applications in Pyomo. These may be all you need for many problems. However, as applications get large or more complex, there may be a need to install additional solvers. \n",
    "\n",
    "#### Gurobi\n",
    "\n",
    "[Gurobi](http://www.gurobi.com/index), for example, is a state-of-the-art high performance commercial solver for large-scale linear, mixed-integer linear, and quadratic programming problems. Unlike glpk, Gurobi is a multi-threaded application taht can take full advantage of a multi-core laptop. Gurobi offers free licenses with one-year terms for academic use, and trial licenses for commercial use. If your application has outgrown glpk, then you'll almost certainly want to give Gurbobi a try.\n",
    "\n",
    "To install for use in Pyomo, download the standard Gurobi installer and perform the default installation. Follow instructions for registering your copy and obtaining a license. Because Gurobi will be installed outside of the the default Anaconda installation, you will need to specify the actual Gurobi executable. On MacOS, for example, the executable is `/usr/local/bin/gurobi.sh`. "
   ]
  },
  {
   "cell_type": "markdown",
   "metadata": {},
   "source": [
    "#### COIN-OR CBC\n",
    "\n",
    "Solving larger problems may wish to install a multi-threaded solver such as the COIN-OR [cbc](https://projects.coin-or.org/Cbc) solvers.\n",
    "\n",
    "    conda install -c conda-forge coincbc\n",
    "\n",
    "High performance commercial solvers, such as and [CPLEX](https://www.ibm.com/products/ilog-cplex-optimization-studio/pricing), are also available at no cost for many academic uses (this is a fantastic deal!), and with trial licenses for commercial use."
   ]
  },
  {
   "cell_type": "code",
   "execution_count": null,
   "metadata": {},
   "outputs": [],
   "source": []
  }
 ],
 "metadata": {
  "kernelspec": {
   "display_name": "Python 3",
   "language": "python",
   "name": "python3"
  },
  "language_info": {
   "codemirror_mode": {
    "name": "ipython",
    "version": 3
   },
   "file_extension": ".py",
   "mimetype": "text/x-python",
   "name": "python",
   "nbconvert_exporter": "python",
   "pygments_lexer": "ipython3",
   "version": "3.6.4"
  }
 },
 "nbformat": 4,
 "nbformat_minor": 2
}

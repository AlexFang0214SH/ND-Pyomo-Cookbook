{
 "cells": [
  {
   "cell_type": "markdown",
   "metadata": {
    "colab_type": "text",
    "id": "Xcm8MQ96HVCp"
   },
   "source": [
    "<!--NOTEBOOK_HEADER-->\n",
    "*This notebook contains material from the [ND Pyomo Cookbook](http://jckantor.github.io/ND-Pyomo-Cookbook/) by \n",
    "Jeffrey Kantor (jeff at nd.edu); the content is available [on GitHub](https://github.com/jckantor/ND-Pyomo-Cookbook).\n",
    "*The text is released under the [CC-BY-NC-ND-4.0 license](https://creativecommons.org/licenses/by-nc-nd/4.0/legalcode),\n",
    "and code is released under the [MIT license](https://opensource.org/licenses/MIT).*\n"
   ]
  },
  {
   "cell_type": "markdown",
   "metadata": {
    "colab_type": "text",
    "id": "6nX3wWDMHVCq"
   },
   "source": [
    "<!--NAVIGATION-->\n",
    "< [Differential-Algebraic Equations](http://nbviewer.jupyter.org/github/jckantor/ND-Pyomo-Cookbook/blob/master/notebooks/06.00-Differential-Algebraic-Equations.ipynb) | [Contents](toc.ipynb) | [Maximizing Concentration of an Intermediate in a Batch Reactor](http://nbviewer.jupyter.org/github/jckantor/ND-Pyomo-Cookbook/blob/master/notebooks/06.02-Maximizing-Concentration-of-an-Intermediate-in-a-Batch-Reactor.ipynb) ><p><a href=\"https://colab.research.google.com/github/jckantor/ND-Pyomo-Cookbook/blob/master/notebooks/06.01-Unconstrained-Scalar-Optimization.ipynb\"><img align=\"left\" src=\"https://colab.research.google.com/assets/colab-badge.svg\" alt=\"Open in Colab\" title=\"Open in Google Colaboratory\"></a>"
   ]
  },
  {
   "cell_type": "markdown",
   "metadata": {
    "colab_type": "text",
    "id": "8CY-WljpSRJl"
   },
   "source": [
    "# Unconstrained Scalar Optimization\n",
    "\n",
    "Introductory calculus courses introduce the minimization (or maximization) of a function of a single variable. Given a function $f(x)$, find values $x^*$ such that $f(x^*) \\leq f(x)$ (or $f(x^*) \\geq f(x)$) for all $x$ in an interval containing $x^*$. Such points are called local optima. \n",
    "\n",
    "If the derivative exists at all points in a given interval, then the local optima are found by solving for values $x^*$ that satisfy\n",
    "\n",
    "\\begin{align}\n",
    "f'(x^*) = 0\n",
    "\\end{align}\n",
    "\n",
    "Let's see how this is put to work in the context of process engineering."
   ]
  },
  {
   "cell_type": "markdown",
   "metadata": {
    "colab_type": "text",
    "id": "PBRBB1uWSRJp"
   },
   "source": [
    "## Application: Maximizing Production of a Reaction Intermediate\n",
    "\n",
    "A desired product $B$ is produced as intermediate in a series reaction\n",
    "\n",
    "\\begin{align}\n",
    "A \\overset{k_A}{\\longrightarrow} B \\overset{k_B}{\\longrightarrow} C\n",
    "\\end{align}\n",
    "\n",
    "where $A$ is a raw material and $C$ is a undesired by-product. The reaction operates at temperature where the rate constants are $k_A = 0.5\\ \\mbox{min}^{-1}$ and $k_A = 0.1\\ \\mbox{min}^{-1}$. The raw material is available as a solution with concenration $C_{A,f} = 2.0\\ \\mbox{moles/liter}$.\n",
    "\n",
    "A 100 liter tank is avialable to run the reaction. Below we will answer the following questions:\n",
    "\n",
    "1. If the goal is obtain the maximum possible concentration of $B$, and the tank is operated as a continuous stirred tank reactor, what should be the flowrate? \n",
    "\n",
    "2. What is the production rate of $B$ at maximum concentration?"
   ]
  },
  {
   "cell_type": "markdown",
   "metadata": {
    "colab_type": "text",
    "id": "S4Nhug1xSRJq"
   },
   "source": [
    "## Mathematical Model for a Continuous Stirred Tank Reactor\n",
    "\n",
    "The reaction dynamics for an isothermal continuous stirred tank reactor with a volume $V = 40$ liters and feed concentration $C_{A,f}$ are modeled as\n",
    "\n",
    "\\begin{align}\n",
    "V\\frac{dC_A}{dt} & = q(C_{A,f} - C_A) - V k_A C_A \\\\\n",
    "V\\frac{dC_B}{dt} & = - q C_B + V k_A C_A - V k_B C_B\n",
    "\\end{align}\n",
    "\n",
    "At steady-state the material balances become\n",
    "\n",
    "\\begin{align}\n",
    "0 & = q(C_{A,f} - \\bar{C}_A) - V k_A \\bar{C}_A \\\\\n",
    "0 & = - q \\bar{C}_B + V k_A \\bar{C}_A - V k_B \\bar{C}_B \n",
    "\\end{align}\n",
    "\n",
    "which can be solved for $C_A$\n",
    "\n",
    "\\begin{align}\n",
    "\\bar{C}_A & = \\frac{qC_{A,f}}{q + Vk_A} \\\\\n",
    "\\end{align}\n",
    "\n",
    "and then for $C_B$\n",
    "\n",
    "\\begin{align}\n",
    "\\bar{C}_B & = \\frac{q V k_A C_{A,f}}{(q + V k_A)(q + Vk_B)}\n",
    "\\end{align}\n",
    "\n",
    "The numerator is first-order in flowrate $q$, and the denominator is quadratic.  This is consistent with an intermediate value of $q$ corresponding to a maximum concentration $\\bar{C}_B$. \n",
    "\n",
    "The next cell plots $\\bar{C}_B$ as a function of flowrate $q$."
   ]
  },
  {
   "cell_type": "code",
   "execution_count": 1,
   "metadata": {
    "colab": {
     "base_uri": "https://localhost:8080/",
     "height": 295
    },
    "colab_type": "code",
    "executionInfo": {
     "elapsed": 566,
     "status": "ok",
     "timestamp": 1559058282028,
     "user": {
      "displayName": "Jeffrey Kantor",
      "photoUrl": "https://lh5.googleusercontent.com/-8zK5aAW5RMQ/AAAAAAAAAAI/AAAAAAAAKB0/kssUQyz8DTQ/s64/photo.jpg",
      "userId": "09038942003589296665"
     },
     "user_tz": 300
    },
    "id": "8Zy9i0xySRJr",
    "outputId": "658bce6c-ebb5-4e61-9bc6-0b6d08e1b893"
   },
   "outputs": [
    {
     "data": {
      "image/png": "[encoded data removed]",
      "text/plain": [
       "<Figure size 432x288 with 1 Axes>"
      ]
     },
     "metadata": {
      "tags": []
     },
     "output_type": "display_data"
    }
   ],
   "source": [
    "%matplotlib inline\n",
    "import matplotlib.pyplot as plt\n",
    "import numpy as np\n",
    "\n",
    "V = 40     # liters\n",
    "kA = 0.5   # 1/min\n",
    "kB = 0.1   # l/min\n",
    "CAf = 2.0  # moles/liter\n",
    "\n",
    "def cstr(q):\n",
    "    return q*V*kA*CAf/(q + V*kB)/(q + V*kA)\n",
    "\n",
    "q = np.linspace(0,30,200)\n",
    "plt.plot(q, cstr(q))\n",
    "plt.xlabel('flowrate q / liters per minute')\n",
    "plt.ylabel('concentration C_B / moles per liter')\n",
    "plt.title('Outlet concentration for a CSTR')\n",
    "plt.grid(True)"
   ]
  },
  {
   "cell_type": "markdown",
   "metadata": {
    "colab_type": "text",
    "id": "AimarcucSRJy"
   },
   "source": [
    "We see that, for the parameters given, there is an optimal flowrate somewhere between 5 and 10 liters per minute."
   ]
  },
  {
   "cell_type": "markdown",
   "metadata": {
    "colab_type": "text",
    "id": "xMzxrJOWSRJz"
   },
   "source": [
    "## Analytical Solution using Calculus\n",
    "\n",
    "As it happens, this problem has an interesting analytical solution that can be found by hand, and which can be used to check the accuracy of numerical solutions. Setting the first derivative of $\\bar{C}_B$ to zero,\n",
    "\n",
    "\\begin{align}\n",
    "\\left.\\frac{d\\bar{C}_B}{dq}\\right|_{q^*} = \\frac{V k_A C_{A,f}}{(q^* + V k_A)(q^* + Vk_B)} - \\frac{q^* V k_A C_{A,f}}{(q^* + V k_A)^2(q^* + Vk_B)} - \\frac{q^* V k_A C_{A,f}}{(q^* + V k_A)(q^* + Vk_B)^2} = 0\n",
    "\\end{align}\n",
    "\n",
    "Clearing out the non-negative common factors yields\n",
    "\n",
    "\\begin{align}\n",
    "1 - \\frac{q^*}{(q^* + V k_A)} - \\frac{q^*}{(q^* + Vk_B)} = 0\n",
    "\\end{align}\n",
    "\n",
    "and multiplying by the non-negative denominators produces\n",
    "\n",
    "\\begin{align}\n",
    "{q^*}^2 + q^*V(k_A + k_B) + V^2k_Ak_B - q^*(q^* + Vk_B) - q^*(q^* + Vk_A) = 0\n",
    "\\end{align}\n",
    "\n",
    "Expanding these expressions followed by arithmetic cancelations gives the final result\n",
    "\n",
    "\\begin{align}\n",
    "q^*  =  V\\sqrt{k_Ak_B}\n",
    "\\end{align}\n",
    "\n",
    "which shows the optimal dilution rate, $\\frac{q^*}{V}$, is equal the geomtric mean of the rate constants."
   ]
  },
  {
   "cell_type": "code",
   "execution_count": 2,
   "metadata": {
    "colab": {
     "base_uri": "https://localhost:8080/",
     "height": 68
    },
    "colab_type": "code",
    "executionInfo": {
     "elapsed": 556,
     "status": "ok",
     "timestamp": 1559058282031,
     "user": {
      "displayName": "Jeffrey Kantor",
      "photoUrl": "https://lh5.googleusercontent.com/-8zK5aAW5RMQ/AAAAAAAAAAI/AAAAAAAAKB0/kssUQyz8DTQ/s64/photo.jpg",
      "userId": "09038942003589296665"
     },
     "user_tz": 300
    },
    "id": "tvH0fKHXSRJ0",
    "outputId": "5f12a428-c7dc-4800-9143-ec2d993ecabc"
   },
   "outputs": [
    {
     "name": "stdout",
     "output_type": "stream",
     "text": [
      "Flowrate at maximum CB =  8.94427190999916 liters per minute.\n",
      "Maximum CB = 0.9549150281252629 moles per liter.\n",
      "Productivity =  8.541019662496845 moles per minute.\n"
     ]
    }
   ],
   "source": [
    "%matplotlib inline\n",
    "import matplotlib.pyplot as plt\n",
    "import numpy as np\n",
    "\n",
    "V = 40     # liters\n",
    "kA = 0.5   # 1/min\n",
    "kB = 0.1   # l/min\n",
    "CAf = 2.0  # moles/liter\n",
    "\n",
    "qmax = V*np.sqrt(kA*kB)\n",
    "CBmax = cstr(qmax)\n",
    "print('Flowrate at maximum CB = ', qmax, 'liters per minute.')\n",
    "print('Maximum CB =', CBmax, 'moles per liter.')\n",
    "print('Productivity = ', qmax*CBmax, 'moles per minute.')"
   ]
  },
  {
   "cell_type": "markdown",
   "metadata": {
    "colab_type": "text",
    "id": "C5krauY4SRJ4"
   },
   "source": [
    "## Numerical Solution with Pyomo\n",
    "\n",
    "This problem can also be solved using Pyomo to create a model instance. First we make sure that Pyomo and ipopt are installed, then we proceed with the model specification and solution."
   ]
  },
  {
   "cell_type": "code",
   "execution_count": 7,
   "metadata": {
    "colab": {},
    "colab_type": "code",
    "id": "9m0do8MVUI6u"
   },
   "outputs": [],
   "source": [
    "import sys\n",
    "if 'google.colab' in sys.modules:\n",
    "    !pip install -q pyomo\n",
    "    !wget -N -q \"https://ampl.com/dl/open/ipopt/ipopt-linux64.zip\"\n",
    "    !unzip -o -q ipopt-linux64"
   ]
  },
  {
   "cell_type": "code",
   "execution_count": 4,
   "metadata": {
    "colab": {
     "base_uri": "https://localhost:8080/",
     "height": 68
    },
    "colab_type": "code",
    "executionInfo": {
     "elapsed": 1812,
     "status": "ok",
     "timestamp": 1559058292199,
     "user": {
      "displayName": "Jeffrey Kantor",
      "photoUrl": "https://lh5.googleusercontent.com/-8zK5aAW5RMQ/AAAAAAAAAAI/AAAAAAAAKB0/kssUQyz8DTQ/s64/photo.jpg",
      "userId": "09038942003589296665"
     },
     "user_tz": 300
    },
    "id": "BYbuwdy2SRJ5",
    "outputId": "624f95d9-9f6b-4759-f82c-bee6f23b0509"
   },
   "outputs": [
    {
     "name": "stdout",
     "output_type": "stream",
     "text": [
      "Flowrate at maximum CB =  8.944271964904422 liters per minute.\n",
      "Maximum CB = 0.9549150281252627 moles per liter.\n",
      "Productivity =  8.541019714926705 moles per minute.\n"
     ]
    }
   ],
   "source": [
    "from pyomo.environ import *\n",
    "\n",
    "V = 40     # liters\n",
    "kA = 0.5   # 1/min\n",
    "kB = 0.1   # l/min\n",
    "CAf = 2.0  # moles/liter\n",
    "\n",
    "# create a model instance\n",
    "m = ConcreteModel()\n",
    "\n",
    "# create the decision variable\n",
    "m.q = Var(domain=NonNegativeReals)\n",
    "\n",
    "# create the objective\n",
    "m.CBmax = Objective(expr=m.q*V*kA*CAf/(m.q + V*kB)/(m.q + V*kA), sense=maximize)\n",
    "\n",
    "# solve using the nonlinear solver ipopt\n",
    "SolverFactory('ipopt').solve(m)\n",
    "\n",
    "# print solution\n",
    "print('Flowrate at maximum CB = ', m.q(), 'liters per minute.')\n",
    "print('Maximum CB =', m.CBmax(), 'moles per liter.')\n",
    "print('Productivity = ', m.q()*m.CBmax(), 'moles per minute.')"
   ]
  },
  {
   "cell_type": "markdown",
   "metadata": {
    "colab_type": "text",
    "id": "Fy4-evYVSRJ8"
   },
   "source": [
    "One advantage of using Pyomo for solving problems like these is that you can reduce the amount of algebra needed to prepare the problem for numerical solution. This not only minimizes your work, but also reduces possible sources of error in your solution.\n",
    "\n",
    "In this example, the steady-state equations are\n",
    "\n",
    "\\begin{align}\n",
    "0 & = q(C_{A,f} - \\bar{C}_A) - V k_A \\bar{C}_A \\\\\n",
    "0 & = - q \\bar{C}_B + V k_A \\bar{C}_A - V k_B \\bar{C}_B \n",
    "\\end{align}\n",
    "\n",
    "with unknowns $C_B$ and $C_A$. The modeling strategy is to introduce variables for the flowrate $q$ and these unknowns, and introduce the steady state equations as constraints."
   ]
  },
  {
   "cell_type": "code",
   "execution_count": 5,
   "metadata": {
    "colab": {
     "base_uri": "https://localhost:8080/",
     "height": 68
    },
    "colab_type": "code",
    "executionInfo": {
     "elapsed": 273,
     "status": "ok",
     "timestamp": 1559058293753,
     "user": {
      "displayName": "Jeffrey Kantor",
      "photoUrl": "https://lh5.googleusercontent.com/-8zK5aAW5RMQ/AAAAAAAAAAI/AAAAAAAAKB0/kssUQyz8DTQ/s64/photo.jpg",
      "userId": "09038942003589296665"
     },
     "user_tz": 300
    },
    "id": "Zie6HLy6SRJ9",
    "outputId": "aa26b431-d6c4-41e1-b069-c4ac4111e06a"
   },
   "outputs": [
    {
     "name": "stdout",
     "output_type": "stream",
     "text": [
      "Flowrate at maximum CB =  8.944272002876573 liters per minute.\n",
      "Maximum CB = 0.9549150281377385 moles per liter.\n",
      "Productivity =  8.541019751298471 moles per minute.\n"
     ]
    }
   ],
   "source": [
    "from pyomo.environ import *\n",
    "\n",
    "V = 40     # liters\n",
    "kA = 0.5   # 1/min\n",
    "kB = 0.1   # l/min\n",
    "CAf = 2.0  # moles/liter\n",
    "\n",
    "# create a model instance\n",
    "m = ConcreteModel()\n",
    "\n",
    "# create the decision variable\n",
    "m.q  = Var(domain=NonNegativeReals)\n",
    "m.CA = Var(domain=NonNegativeReals)\n",
    "m.CB = Var(domain=NonNegativeReals)\n",
    "\n",
    "# equations as constraints\n",
    "m.eqn = ConstraintList()\n",
    "m.eqn.add(0 == m.q*(CAf - m.CA) - V*kA*m.CA)\n",
    "m.eqn.add(0 == -m.q*m.CB + V*kA*m.CA - V*kB*m.CB)\n",
    "\n",
    "# create the objective\n",
    "m.CBmax = Objective(expr=m.CB, sense=maximize)\n",
    "\n",
    "# solve using the nonlinear solver ipopt\n",
    "SolverFactory('ipopt').solve(m)\n",
    "\n",
    "# print solution\n",
    "print('Flowrate at maximum CB = ', m.q(), 'liters per minute.')\n",
    "print('Maximum CB =', m.CBmax(), 'moles per liter.')\n",
    "print('Productivity = ', m.q()*m.CBmax(), 'moles per minute.')"
   ]
  },
  {
   "cell_type": "code",
   "execution_count": null,
   "metadata": {
    "colab": {},
    "colab_type": "code",
    "id": "ae2lkOJsSRKB"
   },
   "outputs": [],
   "source": []
  },
  {
   "cell_type": "markdown",
   "metadata": {
    "colab_type": "text",
    "id": "pcIBfSStHVDE"
   },
   "source": [
    "<!--NAVIGATION-->\n",
    "< [Differential-Algebraic Equations](http://nbviewer.jupyter.org/github/jckantor/ND-Pyomo-Cookbook/blob/master/notebooks/06.00-Differential-Algebraic-Equations.ipynb) | [Contents](toc.ipynb) | [Maximizing Concentration of an Intermediate in a Batch Reactor](http://nbviewer.jupyter.org/github/jckantor/ND-Pyomo-Cookbook/blob/master/notebooks/06.02-Maximizing-Concentration-of-an-Intermediate-in-a-Batch-Reactor.ipynb) ><p><a href=\"https://colab.research.google.com/github/jckantor/ND-Pyomo-Cookbook/blob/master/notebooks/06.01-Unconstrained-Scalar-Optimization.ipynb\"><img align=\"left\" src=\"https://colab.research.google.com/assets/colab-badge.svg\" alt=\"Open in Colab\" title=\"Open in Google Colaboratory\"></a>"
   ]
  }
 ],
 "metadata": {
  "colab": {
   "name": "06.01-Unconstrained-Scalar-Optimization.ipynb",
   "provenance": [],
   "toc_visible": true,
   "version": "0.3.2"
  },
  "kernelspec": {
   "display_name": "Python 3",
   "language": "python",
   "name": "python3"
  },
  "language_info": {
   "codemirror_mode": {
    "name": "ipython",
    "version": 3
   },
   "file_extension": ".py",
   "mimetype": "text/x-python",
   "name": "python",
   "nbconvert_exporter": "python",
   "pygments_lexer": "ipython3",
   "version": "3.7.3"
  }
 },
 "nbformat": 4,
 "nbformat_minor": 2
}

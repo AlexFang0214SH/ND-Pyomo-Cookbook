{
 "cells": [
  {
   "cell_type": "markdown",
   "metadata": {},
   "source": [
    "<!--NOTEBOOK_HEADER-->\n",
    "*This notebook contains material from the [ND Pyomo Cookbook](http://jckantor.github.io/ND-Pyomo-Cookbook/) by \n",
    "Jeffrey Kantor (jeff at nd.edu); the content is available [on GitHub](https://github.com/jckantor/ND-Pyomo-Cookbook).\n",
    "*The text is released under the [CC-BY-NC-ND-4.0 license](https://creativecommons.org/licenses/by-nc-nd/4.0/legalcode),\n",
    "and code is released under the [MIT license](https://opensource.org/licenses/MIT).*\n"
   ]
  },
  {
   "cell_type": "markdown",
   "metadata": {},
   "source": [
    "<!--NAVIGATION-->\n",
    "< [Unconstrained Scalar Optimization](http://nbviewer.jupyter.org/github/jckantor/ND-Pyomo-Cookbook/blob/master/notebooks/06.01-Unconstrained-Scalar-Optimization.ipynb) | [Contents](toc.ipynb) | [Path Planning for a Simple Car](http://nbviewer.jupyter.org/github/jckantor/ND-Pyomo-Cookbook/blob/master/notebooks/06.03-Path-Planning-for-a-Simple-Car.ipynb) ><p><a href=\"https://colab.research.google.com/github/jckantor/ND-Pyomo-Cookbook/blob/master/notebooks/06.02-Maximizing-Concentration-of-an-Intermediate-in-a-Batch-Reactor.ipynb\"><img align=\"left\" src=\"https://colab.research.google.com/assets/colab-badge.svg\" alt=\"Open in Colab\" title=\"Open in Google Colaboratory\"></a>"
   ]
  },
  {
   "cell_type": "markdown",
   "metadata": {
    "colab_type": "text",
    "id": "A4n0I0WGFg2I"
   },
   "source": [
    "# Maximizing Concentration of an Intermediate in a Batch Reactor\n",
    "\n",
    "A desired product $B$ is produced as intermediate in a series reaction\n",
    "\n",
    "\\begin{align}\n",
    "A \\overset{k_A}{\\longrightarrow} B \\overset{k_B}{\\longrightarrow} C\n",
    "\\end{align}\n",
    "\n",
    "where $A$ is a raw material and $C$ is a undesired b\n",
    "y-product. The reaction operates at temperature where the rate constants are $k_A = 0.5\\ \\mbox{min}^{-1}$ and $k_A = 0.1\\ \\mbox{min}^{-1}$. The raw material is available as a solution with concenration $C_{A,f} = 2.0\\ \\mbox{moles/liter}$.\n",
    "\n",
    "A 100 liter tank is available which can be operated as a batch reactor. At what point should the operation be terminated in order to maximize the concentration of $B$?"
   ]
  },
  {
   "cell_type": "code",
   "execution_count": 0,
   "metadata": {
    "colab": {},
    "colab_type": "code",
    "id": "qceXwUrFIKB8"
   },
   "outputs": [],
   "source": [
    "!pip install -q pyomo\n",
    "!wget -N -q \"https://ampl.com/dl/open/ipopt/ipopt-linux64.zip\"\n",
    "!unzip -o -q ipopt-linux64\n",
    "\n",
    "ipopt_executable = '/content/ipopt'"
   ]
  },
  {
   "cell_type": "markdown",
   "metadata": {
    "colab_type": "text",
    "id": "NdetctYWFg2L"
   },
   "source": [
    "## Mathematical Model\n",
    "\n",
    "A material balance for an isothermal stirred batch reactor with a volume $V = 40$ liters and an initial concentration $C_{A,f}$ is given by\n",
    "\n",
    "\\begin{align}\n",
    "V\\frac{dC_A}{dt} & = - V k_A C_A \\\\\n",
    "V\\frac{dC_B}{dt} & = V k_A C_A - V k_B C_B\n",
    "\\end{align}\n",
    "\n",
    "Eliminating the common factor $V$\n",
    "\n",
    "\\begin{align}\n",
    "\\frac{dC_A}{dt} & = - k_A C_A \\\\\n",
    "\\frac{dC_B}{dt} & = k_A C_A - k_B C_B\n",
    "\\end{align}\n",
    "\n",
    "With an initial concentration $C_{A,f}$. A numerical solution to these equations is shown in the following cell."
   ]
  },
  {
   "cell_type": "code",
   "execution_count": 3,
   "metadata": {
    "colab": {
     "base_uri": "https://localhost:8080/",
     "height": 311
    },
    "colab_type": "code",
    "id": "9H59ye_PFg2M",
    "outputId": "6144e745-0cab-4290-ac50-a5eee81dbbbc"
   },
   "outputs": [
    {
     "data": {
      "text/plain": [
       "<matplotlib.legend.Legend at 0x7f57786aceb8>"
      ]
     },
     "execution_count": 3,
     "metadata": {
      "tags": []
     },
     "output_type": "execute_result"
    },
    {
     "data": {
      "image/png": "[encoded data removed]",
      "text/plain": [
       "<matplotlib.figure.Figure at 0x7f578aa5f5f8>"
      ]
     },
     "metadata": {
      "tags": []
     },
     "output_type": "display_data"
    }
   ],
   "source": [
    "%matplotlib inline\n",
    "import matplotlib.pyplot as plt\n",
    "import numpy as np\n",
    "from scipy.integrate import odeint\n",
    "\n",
    "V = 40     # liters\n",
    "kA = 0.5   # 1/min\n",
    "kB = 0.1   # l/min\n",
    "CAf = 2.0  # moles/liter\n",
    "\n",
    "def batch(X, t):\n",
    "    CA, CB = X\n",
    "    dCA_dt = -kA*CA\n",
    "    dCB_dt = kA*CA - kB*CB\n",
    "    return [dCA_dt, dCB_dt]\n",
    "\n",
    "t = np.linspace(0,30,200)\n",
    "soln = odeint(batch, [CAf,0], t)\n",
    "plt.plot(t, soln)\n",
    "plt.xlabel('time / minutes')\n",
    "plt.ylabel('concentration / moles per liter')\n",
    "plt.title('Batch Reactor')\n",
    "plt.legend(['$C_A$','$C_B$'])"
   ]
  },
  {
   "cell_type": "markdown",
   "metadata": {
    "colab_type": "text",
    "id": "cLCET4hnFg2S"
   },
   "source": [
    "## Optimization with `scipy.minimize_scalar`"
   ]
  },
  {
   "cell_type": "markdown",
   "metadata": {
    "colab_type": "text",
    "id": "-rrDxccbFg2S"
   },
   "source": [
    "To find the maximum value, we first write a function to compute $C_B$ for any value of time $t$."
   ]
  },
  {
   "cell_type": "code",
   "execution_count": 0,
   "metadata": {
    "colab": {},
    "colab_type": "code",
    "id": "N3NI_5GWFg2T"
   },
   "outputs": [],
   "source": [
    "def CB(tf):\n",
    "    soln = odeint(batch, [CAf, 0], [0, tf])\n",
    "    return soln[-1][1]"
   ]
  },
  {
   "cell_type": "markdown",
   "metadata": {
    "colab_type": "text",
    "id": "ui89VA8hFg2V"
   },
   "source": [
    "We gain use `minimize_scalar` to find the value of $t$ that minimizes the negative value of $C_B(t)$.|"
   ]
  },
  {
   "cell_type": "code",
   "execution_count": 5,
   "metadata": {
    "colab": {
     "base_uri": "https://localhost:8080/",
     "height": 102
    },
    "colab_type": "code",
    "id": "diuqirNEFg2W",
    "outputId": "e8eab03f-e7f6-4d9c-8d45-b697396942c2"
   },
   "outputs": [
    {
     "data": {
      "text/plain": [
       "     fun: -1.3374806339222158\n",
       "    nfev: 23\n",
       "     nit: 19\n",
       " success: True\n",
       "       x: 4.023594924340666"
      ]
     },
     "execution_count": 5,
     "metadata": {
      "tags": []
     },
     "output_type": "execute_result"
    }
   ],
   "source": [
    "from scipy.optimize import minimize_scalar\n",
    "minimize_scalar(lambda t: -CB(t), bracket=[0,50])"
   ]
  },
  {
   "cell_type": "code",
   "execution_count": 6,
   "metadata": {
    "colab": {
     "base_uri": "https://localhost:8080/",
     "height": 54
    },
    "colab_type": "code",
    "id": "ijeny_k_Fg2Z",
    "outputId": "a402f8d6-35c1-401c-eb50-809bc8340426"
   },
   "outputs": [
    {
     "name": "stdout",
     "output_type": "stream",
     "text": [
      "Concentration c_B has maximum 1.3374806339222158 moles/liter at time 4.023594924340666 minutes.\n"
     ]
    }
   ],
   "source": [
    "tmax = minimize_scalar(lambda t: -CB(t), bracket=[0,50]).x\n",
    "\n",
    "print('Concentration c_B has maximum', CB(tmax), 'moles/liter at time', tmax, 'minutes.')"
   ]
  },
  {
   "cell_type": "markdown",
   "metadata": {
    "colab_type": "text",
    "id": "gvhPt9DxFg2c"
   },
   "source": [
    "## Solution Using Pyomo\n",
    "\n",
    "The variable to be found is the time $t_f$ corresponding to the maximum concentration of $B$. For this purpose we introduce a scaled time\n",
    "\n",
    "$$\\tau = \\frac{t}{t_f}$$\n",
    "\n",
    "so that $\\tau=1$ as the desired solution. The problem then reads\n",
    "\n",
    "\\begin{align}\n",
    "\\max_{t_f} C_B(\\tau=1)\n",
    "\\end{align}\n",
    "\n",
    "subject to\n",
    "\n",
    "\\begin{align}\n",
    "\\frac{dC_A}{d\\tau} & = - t_f k_A C_A \\\\\n",
    "\\frac{dC_B}{d\\tau} & = t_f(k_A C_A - k_B C_B)\n",
    "\\end{align}\n",
    "\n",
    "The solution to this problem is implemented as a solution to the following Pyomo model."
   ]
  },
  {
   "cell_type": "code",
   "execution_count": 8,
   "metadata": {
    "colab": {
     "base_uri": "https://localhost:8080/",
     "height": 54
    },
    "colab_type": "code",
    "id": "7S2xp-pHFg2d",
    "outputId": "9038af26-e031-43e0-ba11-05d2da52b3c4"
   },
   "outputs": [
    {
     "name": "stdout",
     "output_type": "stream",
     "text": [
      "Concentration c_B has maximum 1.3374805810221073 moles/liter at time 4.023594178375687 minutes.\n"
     ]
    }
   ],
   "source": [
    "from pyomo.environ import *\n",
    "from pyomo.dae import *\n",
    "\n",
    "V   = 40    # liters\n",
    "kA  = 0.5   # 1/min\n",
    "kB  = 0.1   # l/min\n",
    "cAf = 2.0   # moles/liter\n",
    "\n",
    "m = ConcreteModel()\n",
    "\n",
    "m.tau = ContinuousSet(bounds=(0, 1))\n",
    "\n",
    "m.tf = Var(domain=NonNegativeReals)\n",
    "m.cA = Var(m.tau, domain=NonNegativeReals)\n",
    "m.cB = Var(m.tau, domain=NonNegativeReals)\n",
    "\n",
    "m.dcA = DerivativeVar(m.cA)\n",
    "m.dcB = DerivativeVar(m.cB)\n",
    "\n",
    "m.odeA = Constraint(m.tau, \n",
    "    rule=lambda m, tau: m.dcA[tau] == m.tf*(-kA*m.cA[tau]) if tau > 0 else Constraint.Skip)\n",
    "m.odeB = Constraint(m.tau,\n",
    "    rule=lambda m, tau: m.dcB[tau] == m.tf*(kA*m.cA[tau] - kB*m.cB[tau]) if tau > 0 else Constraint.Skip)\n",
    "\n",
    "m.ic = ConstraintList()\n",
    "m.ic.add(m.cA[0]  == cAf)\n",
    "m.ic.add(m.cB[0]  == 0)\n",
    "\n",
    "m.obj = Objective(expr=m.cB[1], sense=maximize)\n",
    "\n",
    "TransformationFactory('dae.collocation').apply_to(m)\n",
    "SolverFactory('ipopt', executable=ipopt_executable).solve(m)\n",
    "print('Concentration c_B has maximum', m.cB[1](), 'moles/liter at time', m.tf(), 'minutes.')"
   ]
  },
  {
   "cell_type": "code",
   "execution_count": 0,
   "metadata": {
    "colab": {},
    "colab_type": "code",
    "id": "NPwJqR_IFg2h"
   },
   "outputs": [],
   "source": []
  },
  {
   "cell_type": "markdown",
   "metadata": {},
   "source": [
    "<!--NAVIGATION-->\n",
    "< [Unconstrained Scalar Optimization](http://nbviewer.jupyter.org/github/jckantor/ND-Pyomo-Cookbook/blob/master/notebooks/06.01-Unconstrained-Scalar-Optimization.ipynb) | [Contents](toc.ipynb) | [Path Planning for a Simple Car](http://nbviewer.jupyter.org/github/jckantor/ND-Pyomo-Cookbook/blob/master/notebooks/06.03-Path-Planning-for-a-Simple-Car.ipynb) ><p><a href=\"https://colab.research.google.com/github/jckantor/ND-Pyomo-Cookbook/blob/master/notebooks/06.02-Maximizing-Concentration-of-an-Intermediate-in-a-Batch-Reactor.ipynb\"><img align=\"left\" src=\"https://colab.research.google.com/assets/colab-badge.svg\" alt=\"Open in Colab\" title=\"Open in Google Colaboratory\"></a>"
   ]
  }
 ],
 "metadata": {
  "colab": {
   "name": "Maximizing_Concentration_of_an_Intermediate_in_a_Batch_Reactor.ipynb",
   "provenance": [],
   "toc_visible": true,
   "version": "0.3.2"
  },
  "kernelspec": {
   "display_name": "Python 3",
   "language": "python",
   "name": "python3"
  }
 },
 "nbformat": 4,
 "nbformat_minor": 0
}

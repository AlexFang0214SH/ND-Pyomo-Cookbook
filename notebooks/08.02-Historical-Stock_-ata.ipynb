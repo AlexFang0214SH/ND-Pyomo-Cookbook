{
 "cells": [
  {
   "cell_type": "markdown",
   "metadata": {},
   "source": [
    "<!--NOTEBOOK_HEADER-->\n",
    "*This notebook contains material from the [ND Pyomo Cookbook](http://jckantor.github.io/ND-Pyomo-Cookbook/) by \n",
    "Jeffrey Kantor (jeff at nd.edu); the content is available [on GitHub](https://github.com/jckantor/ND-Pyomo-Cookbook).\n",
    "*The text is released under the [CC-BY-NC-ND-4.0 license](https://creativecommons.org/licenses/by-nc-nd/4.0/legalcode),\n",
    "and code is released under the [MIT license](https://opensource.org/licenses/MIT).*\n"
   ]
  },
  {
   "cell_type": "markdown",
   "metadata": {},
   "source": [
    "<!--NAVIGATION-->\n",
    "< [Binomial Model for Pricing Options](http://nbviewer.jupyter.org/github/jckantor/ND-Pyomo-Cookbook/blob/master/notebooks/08.01-Binomial-Model-for-Pricing-Options.ipynb) | [Contents](toc.ipynb) | [Charting Stock Data](http://nbviewer.jupyter.org/github/jckantor/ND-Pyomo-Cookbook/blob/master/notebooks/08.03-Charting-Stock-Data.ipynb) ><p><a href=\"https://colab.research.google.com/github/jckantor/ND-Pyomo-Cookbook/blob/master/notebooks/08.02-Historical-Stock_-ata.ipynb\"><img align=\"left\" src=\"https://colab.research.google.com/assets/colab-badge.svg\" alt=\"Open in Colab\" title=\"Open in Google Colaboratory\"></a>"
   ]
  },
  {
   "cell_type": "markdown",
   "metadata": {},
   "source": [
    "# Historical Stock Data\n",
    "\n",
    "The purpose of this notebook is to download historical trading data for a selected group of the stocks for use with other notebooks. The trading data is stored as individual `.csv` files in a designated directory. "
   ]
  },
  {
   "cell_type": "code",
   "execution_count": 1,
   "metadata": {},
   "outputs": [],
   "source": [
    "data_dir = 'data_stocks'\n",
    "\n",
    "djia = ['AXP','BA','CAT','CSCO','CVX','DD','DIS','GE', \\\n",
    "        'GS','HD','IBM','INTC','JNJ','JPM','KO','MCD', \\\n",
    "        'MMM','MRK','MSFT','NKE','PFE','PG','T','TRV', \\\n",
    "        'UNH','UTX','V','VZ','WMT','XOM']\n",
    "\n",
    "favs = ['AAPL']\n",
    "\n",
    "stocks = djia + favs\n",
    "\n",
    "import os\n",
    "os.makedirs(data_dir, exist_ok=True)"
   ]
  },
  {
   "cell_type": "markdown",
   "metadata": {},
   "source": [
    "## Alpha Vantage\n",
    "\n",
    "The following cells retrieve a history of daily trading data for a specified set of stock ticker symbols. These functions use the free [Alpha Vantage](https://www.alphavantage.co/) data service.\n",
    "\n",
    "The service requires an personal api key which can be claimed [here](https://www.alphavantage.co/support/#api-key) in just a few seconds. Place the key as a string in a file `api_key.txt` in the same directory as this notebook (note: api_key.txt is not distributed with the github repository). The function `api_key()` returns the key stored in `api_key.txt`."
   ]
  },
  {
   "cell_type": "code",
   "execution_count": 2,
   "metadata": {},
   "outputs": [],
   "source": [
    "def api_key():\n",
    "    \"Read api_key.txt and return api_key\"\n",
    "    try:\n",
    "        with open('api_key.txt') as fp:\n",
    "            line = fp.readline()\n",
    "    except:\n",
    "        raise RuntimeError('Error while attempting to read api_key.txt')\n",
    "    return line.strip()"
   ]
  },
  {
   "cell_type": "markdown",
   "metadata": {},
   "source": [
    "The function `alphavantage(s)` returns a pandas dataframe holding historical trading data for a stocker ticker symbol specified by `s`."
   ]
  },
  {
   "cell_type": "code",
   "execution_count": 3,
   "metadata": {},
   "outputs": [
    {
     "data": {
      "text/html": [
       "<div>\n",
       "<style scoped>\n",
       "    .dataframe tbody tr th:only-of-type {\n",
       "        vertical-align: middle;\n",
       "    }\n",
       "\n",
       "    .dataframe tbody tr th {\n",
       "        vertical-align: top;\n",
       "    }\n",
       "\n",
       "    .dataframe thead th {\n",
       "        text-align: right;\n",
       "    }\n",
       "</style>\n",
       "<table border=\"1\" class=\"dataframe\">\n",
       "  <thead>\n",
       "    <tr style=\"text-align: right;\">\n",
       "      <th></th>\n",
       "      <th>open</th>\n",
       "      <th>high</th>\n",
       "      <th>low</th>\n",
       "      <th>close</th>\n",
       "      <th>adjusted close</th>\n",
       "      <th>volume</th>\n",
       "      <th>dividend amount</th>\n",
       "      <th>split coefficient</th>\n",
       "    </tr>\n",
       "  </thead>\n",
       "  <tbody>\n",
       "    <tr>\n",
       "      <th>2000-01-03</th>\n",
       "      <td>104.87</td>\n",
       "      <td>112.50</td>\n",
       "      <td>101.69</td>\n",
       "      <td>111.94</td>\n",
       "      <td>3.5554</td>\n",
       "      <td>4783900</td>\n",
       "      <td>0.0</td>\n",
       "      <td>1.0</td>\n",
       "    </tr>\n",
       "    <tr>\n",
       "      <th>2000-01-04</th>\n",
       "      <td>108.25</td>\n",
       "      <td>110.62</td>\n",
       "      <td>101.19</td>\n",
       "      <td>102.50</td>\n",
       "      <td>3.2556</td>\n",
       "      <td>4574800</td>\n",
       "      <td>0.0</td>\n",
       "      <td>1.0</td>\n",
       "    </tr>\n",
       "    <tr>\n",
       "      <th>2000-01-05</th>\n",
       "      <td>103.75</td>\n",
       "      <td>110.56</td>\n",
       "      <td>103.00</td>\n",
       "      <td>104.00</td>\n",
       "      <td>3.3032</td>\n",
       "      <td>6949300</td>\n",
       "      <td>0.0</td>\n",
       "      <td>1.0</td>\n",
       "    </tr>\n",
       "    <tr>\n",
       "      <th>2000-01-06</th>\n",
       "      <td>106.12</td>\n",
       "      <td>107.00</td>\n",
       "      <td>95.00</td>\n",
       "      <td>95.00</td>\n",
       "      <td>3.0174</td>\n",
       "      <td>6856900</td>\n",
       "      <td>0.0</td>\n",
       "      <td>1.0</td>\n",
       "    </tr>\n",
       "    <tr>\n",
       "      <th>2000-01-07</th>\n",
       "      <td>96.50</td>\n",
       "      <td>101.00</td>\n",
       "      <td>95.50</td>\n",
       "      <td>99.50</td>\n",
       "      <td>3.1603</td>\n",
       "      <td>4113700</td>\n",
       "      <td>0.0</td>\n",
       "      <td>1.0</td>\n",
       "    </tr>\n",
       "  </tbody>\n",
       "</table>\n",
       "</div>"
      ],
      "text/plain": [
       "              open    high     low   close  adjusted close   volume  \\\n",
       "2000-01-03  104.87  112.50  101.69  111.94          3.5554  4783900   \n",
       "2000-01-04  108.25  110.62  101.19  102.50          3.2556  4574800   \n",
       "2000-01-05  103.75  110.56  103.00  104.00          3.3032  6949300   \n",
       "2000-01-06  106.12  107.00   95.00   95.00          3.0174  6856900   \n",
       "2000-01-07   96.50  101.00   95.50   99.50          3.1603  4113700   \n",
       "\n",
       "            dividend amount  split coefficient  \n",
       "2000-01-03              0.0                1.0  \n",
       "2000-01-04              0.0                1.0  \n",
       "2000-01-05              0.0                1.0  \n",
       "2000-01-06              0.0                1.0  \n",
       "2000-01-07              0.0                1.0  "
      ]
     },
     "execution_count": 3,
     "metadata": {},
     "output_type": "execute_result"
    }
   ],
   "source": [
    "import os\n",
    "import requests\n",
    "import pandas as pd\n",
    "\n",
    "def alphavantage(symbol=None):\n",
    "    if symbol is None: \n",
    "        raise ValueError(\"No symbol has been provided\")\n",
    "    payload = {\n",
    "        \"function\": \"TIME_SERIES_DAILY_ADJUSTED\",\n",
    "        \"symbol\": symbol,\n",
    "        \"outputsize\": \"full\",\n",
    "        \"datatype\": \"json\",\n",
    "        \"apikey\": api_key(), \n",
    "    }\n",
    "    api_url = \"https://www.alphavantage.co/query\"\n",
    "    try:\n",
    "        response = requests.get(api_url, params=payload)\n",
    "    except:\n",
    "        raise ValueError(\"No response using api key: \" + api_key)\n",
    "    data = response.json()\n",
    "    k = list(data.keys())\n",
    "    metadata = data[k[0]]\n",
    "    timeseries = data[k[1]]\n",
    "    S = pd.DataFrame.from_dict(timeseries).T\n",
    "    S = S.apply(pd.to_numeric)\n",
    "    S.columns = [h.lstrip('12345678. ') for h in S.columns]\n",
    "    return S\n",
    "\n",
    "alphavantage('AAPL').head()"
   ]
  },
  {
   "cell_type": "markdown",
   "metadata": {},
   "source": [
    "`get_stock_data(symbols)` retrieves trading data for a list of symbols and stores each in seperate file in the data directory. The file name is the ticker symbol with a `.csv` suffix."
   ]
  },
  {
   "cell_type": "code",
   "execution_count": 4,
   "metadata": {},
   "outputs": [
    {
     "name": "stdout",
     "output_type": "stream",
     "text": [
      "downloading AAPL success\n"
     ]
    }
   ],
   "source": [
    "def get_stock_data(symbols, service=alphavantage):\n",
    "    if isinstance(symbols, str):\n",
    "        symbols = [symbols]\n",
    "    assert all(isinstance(s, str) for s in symbols)\n",
    "    for s in symbols:\n",
    "        print('downloading', s, end='')\n",
    "        k = 3\n",
    "        while k > 0:\n",
    "            try:\n",
    "                k -= 1\n",
    "                S = service(s)\n",
    "                S.to_csv(os.path.join(data_dir, s + '.csv'))\n",
    "                print(' success')\n",
    "                break\n",
    "            except:\n",
    "                print(' fail', end='')\n",
    "            print('')\n",
    "            \n",
    "get_stock_data(['AAPL'])"
   ]
  },
  {
   "cell_type": "markdown",
   "metadata": {},
   "source": [
    "## Download Selected Ticker Symbols"
   ]
  },
  {
   "cell_type": "code",
   "execution_count": 5,
   "metadata": {},
   "outputs": [
    {
     "name": "stdout",
     "output_type": "stream",
     "text": [
      "downloading AXP success\n",
      "downloading BA success\n",
      "downloading CAT success\n",
      "downloading CSCO success\n",
      "downloading CVX success\n",
      "downloading DD fail\n",
      " fail\n",
      " fail\n",
      "downloading DIS success\n",
      "downloading GE success\n",
      "downloading GS success\n",
      "downloading HD success\n",
      "downloading IBM success\n",
      "downloading INTC success\n",
      "downloading JNJ success\n",
      "downloading JPM success\n",
      "downloading KO success\n",
      "downloading MCD success\n",
      "downloading MMM success\n",
      "downloading MRK success\n",
      "downloading MSFT success\n",
      "downloading NKE success\n",
      "downloading PFE success\n",
      "downloading PG success\n",
      "downloading T success\n",
      "downloading TRV success\n",
      "downloading UNH success\n",
      "downloading UTX success\n",
      "downloading V success\n",
      "downloading VZ success\n",
      "downloading WMT success\n",
      "downloading XOM success\n",
      "downloading AAPL success\n"
     ]
    }
   ],
   "source": [
    "get_stock_data(stocks)"
   ]
  },
  {
   "cell_type": "code",
   "execution_count": null,
   "metadata": {},
   "outputs": [],
   "source": []
  },
  {
   "cell_type": "markdown",
   "metadata": {},
   "source": [
    "<!--NAVIGATION-->\n",
    "< [Binomial Model for Pricing Options](http://nbviewer.jupyter.org/github/jckantor/ND-Pyomo-Cookbook/blob/master/notebooks/08.01-Binomial-Model-for-Pricing-Options.ipynb) | [Contents](toc.ipynb) | [Charting Stock Data](http://nbviewer.jupyter.org/github/jckantor/ND-Pyomo-Cookbook/blob/master/notebooks/08.03-Charting-Stock-Data.ipynb) ><p><a href=\"https://colab.research.google.com/github/jckantor/ND-Pyomo-Cookbook/blob/master/notebooks/08.02-Historical-Stock_-ata.ipynb\"><img align=\"left\" src=\"https://colab.research.google.com/assets/colab-badge.svg\" alt=\"Open in Colab\" title=\"Open in Google Colaboratory\"></a>"
   ]
  }
 ],
 "metadata": {
  "kernelspec": {
   "display_name": "Python 3",
   "language": "python",
   "name": "python3"
  },
  "language_info": {
   "codemirror_mode": {
    "name": "ipython",
    "version": 3
   },
   "file_extension": ".py",
   "mimetype": "text/x-python",
   "name": "python",
   "nbconvert_exporter": "python",
   "pygments_lexer": "ipython3",
   "version": "3.6.4"
  }
 },
 "nbformat": 4,
 "nbformat_minor": 2
}

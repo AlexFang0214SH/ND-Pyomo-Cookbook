{
 "cells": [
  {
   "cell_type": "markdown",
   "metadata": {},
   "source": [
    "# MPECS"
   ]
  },
  {
   "cell_type": "markdown",
   "metadata": {},
   "source": [
    "## SIGN Operator\n",
    "\n",
    "\\begin{align*}\n",
    "y & = SIGN(x) = \\begin{cases} 1 & x \\geq 0 \\\\ -1 & x \\lt 0 \\end{cases}\n",
    "\\end{align*}"
   ]
  },
  {
   "cell_type": "code",
   "execution_count": 18,
   "metadata": {},
   "outputs": [
    {
     "name": "stdout",
     "output_type": "stream",
     "text": [
      "-1.0\n"
     ]
    }
   ],
   "source": [
    "from pyomo.environ import *\n",
    "\n",
    "x = -2\n",
    "\n",
    "model = ConcreteModel()\n",
    "\n",
    "model.za = Var(domain=NonNegativeReals)\n",
    "model.zb = Var(domain=NonNegativeReals)\n",
    "model.y = Var(bounds=(-1,1))\n",
    "\n",
    "model.c = Constraint(expr = x == model.zb - model.za)\n",
    "model.o = Objective(expr = model.za*(1 + model.y) + model.zb*(1 - model.y), sense=minimize)\n",
    "\n",
    "SolverFactory('ipopt').solve(model)\n",
    "print(model.y())"
   ]
  },
  {
   "cell_type": "code",
   "execution_count": null,
   "metadata": {},
   "outputs": [],
   "source": []
  }
 ],
 "metadata": {
  "kernelspec": {
   "display_name": "Python 3",
   "language": "python",
   "name": "python3"
  },
  "language_info": {
   "codemirror_mode": {
    "name": "ipython",
    "version": 3
   },
   "file_extension": ".py",
   "mimetype": "text/x-python",
   "name": "python",
   "nbconvert_exporter": "python",
   "pygments_lexer": "ipython3",
   "version": "3.6.4"
  }
 },
 "nbformat": 4,
 "nbformat_minor": 2
}

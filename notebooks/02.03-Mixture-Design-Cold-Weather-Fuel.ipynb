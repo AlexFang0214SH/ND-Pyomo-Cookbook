{
 "cells": [
  {
   "cell_type": "markdown",
   "metadata": {
    "colab_type": "text",
    "id": "-rVaN16L41Dy"
   },
   "source": [
    "<!--NOTEBOOK_HEADER-->\n",
    "*This notebook contains material from [ND Pyomo Cookbook](http://jckantor.github.io/ND-Pyomo-Cookbook/) by \n",
    "Jeffrey Kantor (jeff at nd.edu); the content is available [on GitHub](https://github.com/jckantor/ND-Pyomo-Cookbook).\n",
    "*The text is released under the [CC-BY-NC-ND-4.0 license](https://creativecommons.org/licenses/by-nc-nd/4.0/legalcode),\n",
    "and code is released under the [MIT license](https://opensource.org/licenses/MIT).*\n"
   ]
  },
  {
   "cell_type": "markdown",
   "metadata": {
    "colab_type": "text",
    "id": "BOKcgGoh41Dz"
   },
   "source": [
    "<!--NAVIGATION-->\n",
    "< [Linear Blending Problem](http://nbviewer.jupyter.org/github/jckantor/ND-Pyomo-Cookbook/blob/master/notebooks/02.02-Linear-Blending-Problem.ipynb) | [Contents](toc.ipynb) | [Gasoline Blending](http://nbviewer.jupyter.org/github/jckantor/ND-Pyomo-Cookbook/blob/master/notebooks/02.04-Gasoline-Blending.ipynb) ><p><a href=\"https://colab.research.google.com/github/jckantor/ND-Pyomo-Cookbook/blob/master/notebooks/02.03-Mixture-Design-Cold-Weather-Fuel.ipynb\"><img align=\"left\" src=\"https://colab.research.google.com/assets/colab-badge.svg\" alt=\"Open in Colab\" title=\"Open in Google Colaboratory\"></a>"
   ]
  },
  {
   "cell_type": "markdown",
   "metadata": {
    "colab_type": "text",
    "id": "fIsduu71gNfY"
   },
   "source": [
    "# Design of a Cold Weather Fuel for a Camping Stove"
   ]
  },
  {
   "cell_type": "markdown",
   "metadata": {
    "colab_type": "text",
    "id": "fIsduu71gNfY"
   },
   "source": [
    "## Problem Statement\n",
    "\n",
    "The venerable alcohol stove has been invaluable camping accessory for generations. They are simple, reliable, and in a pinch, can be made from aluminum soda cans. \n",
    "\n",
    "![alcohol-stove.jpeg](https://github.com/jckantor/ND-Pyomo-Cookbook/blob/master/images/alcohol-stove.jpeg?raw=1)\n",
    "\n",
    "Alcohol stoves are typically fueled with denatured alcohol. Denatured alcohol, sometimes called methylated spirits, is a generally a mixture of ethanol and other alcohols and compounds designed to make it unfit for human consumption. An MSDS description of one [manufacturer's product](https://www.korellis.com/wordpress/wp-content/uploads/2016/05/Alcohol-Denatured.pdf) describes a roughly fifity/fifty mixture of ethanol and methanol.\n",
    "\n",
    "The problem with alcohol stoves is they can be difficult to light in below freezing weather. The purpose of this notebook is to design of an alternative cold weather fuel that could be mixed from other materials commonly available from hardware or home improvement stores."
   ]
  },
  {
   "cell_type": "code",
   "execution_count": null,
   "metadata": {
    "colab": {},
    "colab_type": "code",
    "id": "nm3gVnuzgUzZ"
   },
   "outputs": [],
   "source": [
    "!pip install -q pyomo\n",
    "!apt-get install -y -qq coinor-cbc"
   ]
  },
  {
   "cell_type": "markdown",
   "metadata": {
    "colab_type": "text",
    "id": "UXtpYyp4gNfb"
   },
   "source": [
    "## Vapor Pressure Data\n",
    "\n",
    "The following data was collected for potential fuels commonly available at hardware and home improvement stores. The data consists of price (\\$/gal.) and parameters to predict vapor pressure using the Antoine equation,\n",
    "\n",
    "\\begin{align}\n",
    "\\log_{10}P^{vap}_{s}(T) & = A_s - \\frac{B_s}{T + C_s}\n",
    "\\end{align}\n",
    "\n",
    "where the subscript $s$ refers to species, temperature $T$ is in units of degrees Celcius, and pressure $P$ is in units of mmHg. The additional information for molecular weight and specific gravity will be needed to present the final results in volume fraction."
   ]
  },
  {
   "cell_type": "code",
   "execution_count": 1,
   "metadata": {
    "colab": {},
    "colab_type": "code",
    "id": "Wy2WYE37gNfc"
   },
   "outputs": [],
   "source": [
    "data = {\n",
    "    'ethanol'          : {'MW':  46.07, 'SG': 0.791, 'A': 8.04494, 'B': 1554.3,  'C': 222.65},\n",
    "    'methanol'         : {'MW':  32.04, 'SG': 0.791, 'A': 7.89750, 'B': 1474.08, 'C': 229.13},\n",
    "    'isopropyl alcohol': {'MW':  60.10, 'SG': 0.785, 'A': 8.11778, 'B': 1580.92, 'C': 219.61},\n",
    "    'acetone'          : {'MW':  58.08, 'SG': 0.787, 'A': 7.02447, 'B': 1161.0,  'C': 224.0},\n",
    "    'xylene'           : {'MW': 106.16, 'SG': 0.870, 'A': 6.99052, 'B': 1453.43, 'C': 215.31},\n",
    "    'toluene'          : {'MW':  92.14, 'SG': 0.865, 'A': 6.95464, 'B': 1344.8,  'C': 219.48},\n",
    "}"
   ]
  },
  {
   "cell_type": "markdown",
   "metadata": {
    "colab_type": "text",
    "id": "6Qy4mtDygNfg"
   },
   "source": [
    "The first step is to determine the vapor pressure of denatured alcohol over a typical range of operating temperatures. For this we assume denatured alcohol is a 40/60 (mole fraction) mixture of ethanol and methanol. "
   ]
  },
  {
   "cell_type": "code",
   "execution_count": 2,
   "metadata": {
    "colab": {
     "base_uri": "https://localhost:8080/",
     "height": 312
    },
    "colab_type": "code",
    "executionInfo": {
     "elapsed": 5305,
     "status": "ok",
     "timestamp": 1555699125535,
     "user": {
      "displayName": "Jeffrey Kantor",
      "photoUrl": "https://lh5.googleusercontent.com/-8zK5aAW5RMQ/AAAAAAAAAAI/AAAAAAAAKB0/kssUQyz8DTQ/s64/photo.jpg",
      "userId": "09038942003589296665"
     },
     "user_tz": 240
    },
    "id": "CnvZREQYgNfi",
    "outputId": "6de811ab-a13c-4781-e583-94ba36b3da96"
   },
   "outputs": [
    {
     "name": "stdout",
     "output_type": "stream",
     "text": [
      "Vapor Pressure at 0C = 22.1 mmHg\n"
     ]
    },
    {
     "data": {
      "image/png": "[encoded data removed]",
      "text/plain": [
       "<Figure size 432x288 with 1 Axes>"
      ]
     },
     "metadata": {
      "needs_background": "light"
     },
     "output_type": "display_data"
    }
   ],
   "source": [
    "import numpy as np\n",
    "import matplotlib.pyplot as plt\n",
    "%matplotlib inline\n",
    "\n",
    "def Pvap(T, s):\n",
    "    return 10**(data[s]['A'] - data[s]['B']/(T + data[s]['C']))\n",
    "\n",
    "def Pvap_denatured(T):\n",
    "    return 0.4*Pvap(T, 'ethanol') + 0.6*Pvap(T, 'methanol')\n",
    "\n",
    "T = np.linspace(0, 40, 200)\n",
    "\n",
    "plt.plot(T, Pvap_denatured(T))\n",
    "plt.title('Vapor Pressure of denatured alcohol')\n",
    "plt.xlabel('temperature / °C')\n",
    "plt.ylabel('pressure / mmHg')\n",
    "print(\"Vapor Pressure at 0C =\", round(Pvap_denatured(0),1), \"mmHg\")\n",
    "plt.grid(True)"
   ]
  },
  {
   "cell_type": "markdown",
   "metadata": {
    "colab_type": "text",
    "id": "_wMhAg6ugNfo"
   },
   "source": [
    "## Cold Weather Product Requirements\n",
    "\n",
    "We seek a cold weather fuel with increased vapor pressure at 0°C and lower, and also provides safe and normal operation of the alcohol stove at higher operating temperatures. \n",
    "\n",
    "For this purpose, we seek a mixture of commonly available liquids with a vapor pressure of at least 22 mmHg at the lowest possible temperature, and no greater than the vapor pressure of denatured alcohol at temperatures 30°C and above."
   ]
  },
  {
   "cell_type": "code",
   "execution_count": 4,
   "metadata": {
    "colab": {
     "base_uri": "https://localhost:8080/",
     "height": 295
    },
    "colab_type": "code",
    "executionInfo": {
     "elapsed": 5673,
     "status": "ok",
     "timestamp": 1555699125915,
     "user": {
      "displayName": "Jeffrey Kantor",
      "photoUrl": "https://lh5.googleusercontent.com/-8zK5aAW5RMQ/AAAAAAAAAAI/AAAAAAAAKB0/kssUQyz8DTQ/s64/photo.jpg",
      "userId": "09038942003589296665"
     },
     "user_tz": 240
    },
    "id": "hfq_rUEagNfp",
    "outputId": "fa6b9c53-0416-4c31-cc7f-25dbefbf06ed"
   },
   "outputs": [
    {
     "data": {
      "image/png": "[encoded data removed]",
      "text/plain": [
       "<Figure size 432x288 with 1 Axes>"
      ]
     },
     "metadata": {
      "tags": []
     },
     "output_type": "display_data"
    }
   ],
   "source": [
    "for s in data.keys():\n",
    "    plt.plot(T, Pvap(T,s))\n",
    "plt.plot(T, Pvap_denatured(T), 'k', lw=3)\n",
    "plt.legend(list(data.keys()) + ['denatured alcohol'])\n",
    "plt.title('Vapor Pressure of selected compounds')\n",
    "plt.xlabel('temperature / °C')\n",
    "plt.ylabel('pressure / mmHg')\n",
    "plt.grid(True)"
   ]
  },
  {
   "cell_type": "markdown",
   "metadata": {
    "colab_type": "text",
    "id": "Y_0VfdRGgNft"
   },
   "source": [
    "## Optimization Model\n",
    "\n",
    "The first optimization model is to create a mixture that maximizes the vapor pressure at -10°C while having a vapor pressure less than or equal to denatured alcohol at 30°C and above. \n",
    "\n",
    "The decision variables in the optimization model correspond to $x_s$, the mole fraction of each species $s \\in S$ from the set of available species $S$. By definition, the mole fractions must satisfy\n",
    "\n",
    "\\begin{align}\n",
    "x_s & \\geq 0 & \\forall s\\in S \\\\\n",
    "\\sum_{s\\in S} x_s & = 1\n",
    "\\end{align}\n",
    "\n",
    "The objective is to maximize the vapor pressure at low temperatures, say -10°C, while maintaing a vapor pressure less than or equal to denatured alcohol at 30°C. Using Raoult's law for ideal mixtures,\n",
    "\n",
    "\\begin{align}\n",
    "\\max_{x_s} \\sum_{s\\in S} x_s P^{vap}_s(-10°C) \\\\\n",
    "\\end{align}\n",
    "subject to\n",
    "\\begin{align}\n",
    "\\sum_{s\\in S} x_s P^{vap}_s(30°C) & \\leq P^{vap}_{denatured\\ alcohol}(30°C) \\\\\n",
    "\\end{align}"
   ]
  },
  {
   "cell_type": "markdown",
   "metadata": {
    "colab_type": "text",
    "id": "Y_0VfdRGgNft"
   },
   "source": [
    "## Pyomo Implementation and Solution\n",
    "\n",
    "This optimization model is implemented in Pyomo in the following cell."
   ]
  },
  {
   "cell_type": "code",
   "execution_count": 5,
   "metadata": {
    "colab": {
     "base_uri": "https://localhost:8080/",
     "height": 312
    },
    "colab_type": "code",
    "executionInfo": {
     "elapsed": 7130,
     "status": "ok",
     "timestamp": 1555699127382,
     "user": {
      "displayName": "Jeffrey Kantor",
      "photoUrl": "https://lh5.googleusercontent.com/-8zK5aAW5RMQ/AAAAAAAAAAI/AAAAAAAAKB0/kssUQyz8DTQ/s64/photo.jpg",
      "userId": "09038942003589296665"
     },
     "user_tz": 240
    },
    "id": "Dn7WgE9_gNfu",
    "outputId": "2ff5eb43-4f59-4e4d-bddf-98d0a0947de7"
   },
   "outputs": [
    {
     "name": "stdout",
     "output_type": "stream",
     "text": [
      "Vapor Pressure at -10°C = 17.48178543436185 mmHg\n"
     ]
    },
    {
     "data": {
      "image/png": "[encoded data removed]",
      "text/plain": [
       "<Figure size 432x288 with 1 Axes>"
      ]
     },
     "metadata": {
      "tags": []
     },
     "output_type": "display_data"
    }
   ],
   "source": [
    "import pyomo.environ as pyomo\n",
    "\n",
    "m = pyomo.ConcreteModel()\n",
    "\n",
    "S = data.keys()\n",
    "m.x = pyomo.Var(S, domain=pyomo.NonNegativeReals)\n",
    "\n",
    "def Pmix(T):\n",
    "    return sum(m.x[s]*Pvap(T,s) for s in S)\n",
    "\n",
    "m.obj = pyomo.Objective(expr = Pmix(-10), sense=pyomo.maximize)\n",
    "\n",
    "m.cons = pyomo.ConstraintList()\n",
    "\n",
    "m.cons.add(sum(m.x[s] for s in S)==1)\n",
    "m.cons.add(Pmix(30) <= Pvap_denatured(30))\n",
    "m.cons.add(Pmix(40) <= Pvap_denatured(40))\n",
    "\n",
    "solver = pyomo.SolverFactory('cbc')\n",
    "solver.solve(m)\n",
    "\n",
    "print(\"Vapor Pressure at -10°C =\", m.obj(), \"mmHg\")\n",
    "\n",
    "T = np.linspace(-10,40,200)\n",
    "plt.plot(T, Pvap_denatured(T), 'k', lw=3)\n",
    "plt.plot(T, [Pmix(T)() for T in T], 'r', lw=3)\n",
    "plt.legend(['denatured alcohol'] + ['cold weather blend'])\n",
    "plt.title('Vapor Pressure of selected compounds')\n",
    "plt.xlabel('temperature / °C')\n",
    "plt.ylabel('pressure / mmHg')\n",
    "plt.grid(True)"
   ]
  },
  {
   "cell_type": "markdown",
   "metadata": {
    "colab_type": "text",
    "id": "5dX8AIH_gNfx"
   },
   "source": [
    "The Pandas library is useful for summarizing the solution in tabular form."
   ]
  },
  {
   "cell_type": "code",
   "execution_count": 6,
   "metadata": {
    "colab": {
     "base_uri": "https://localhost:8080/",
     "height": 235
    },
    "colab_type": "code",
    "executionInfo": {
     "elapsed": 7115,
     "status": "ok",
     "timestamp": 1555699127384,
     "user": {
      "displayName": "Jeffrey Kantor",
      "photoUrl": "https://lh5.googleusercontent.com/-8zK5aAW5RMQ/AAAAAAAAAAI/AAAAAAAAKB0/kssUQyz8DTQ/s64/photo.jpg",
      "userId": "09038942003589296665"
     },
     "user_tz": 240
    },
    "id": "X4ZEPlI5gNfy",
    "outputId": "087f4e2c-e502-4f80-8921-84448020b47e"
   },
   "outputs": [
    {
     "data": {
      "text/html": [
       "<div>\n",
       "<style scoped>\n",
       "    .dataframe tbody tr th:only-of-type {\n",
       "        vertical-align: middle;\n",
       "    }\n",
       "\n",
       "    .dataframe tbody tr th {\n",
       "        vertical-align: top;\n",
       "    }\n",
       "\n",
       "    .dataframe thead th {\n",
       "        text-align: right;\n",
       "    }\n",
       "</style>\n",
       "<table border=\"1\" class=\"dataframe\">\n",
       "  <thead>\n",
       "    <tr style=\"text-align: right;\">\n",
       "      <th></th>\n",
       "      <th>A</th>\n",
       "      <th>B</th>\n",
       "      <th>C</th>\n",
       "      <th>MW</th>\n",
       "      <th>SG</th>\n",
       "      <th>mole fraction</th>\n",
       "      <th>mass fraction</th>\n",
       "      <th>vol fraction</th>\n",
       "    </tr>\n",
       "  </thead>\n",
       "  <tbody>\n",
       "    <tr>\n",
       "      <th>ethanol</th>\n",
       "      <td>8.04494</td>\n",
       "      <td>1554.30</td>\n",
       "      <td>222.65</td>\n",
       "      <td>46.07</td>\n",
       "      <td>0.791</td>\n",
       "      <td>0.000000</td>\n",
       "      <td>0.0000</td>\n",
       "      <td>0.000000</td>\n",
       "    </tr>\n",
       "    <tr>\n",
       "      <th>methanol</th>\n",
       "      <td>7.89750</td>\n",
       "      <td>1474.08</td>\n",
       "      <td>229.13</td>\n",
       "      <td>32.04</td>\n",
       "      <td>0.791</td>\n",
       "      <td>0.000000</td>\n",
       "      <td>0.0000</td>\n",
       "      <td>0.000000</td>\n",
       "    </tr>\n",
       "    <tr>\n",
       "      <th>isopropyl alcohol</th>\n",
       "      <td>8.11778</td>\n",
       "      <td>1580.92</td>\n",
       "      <td>219.61</td>\n",
       "      <td>60.10</td>\n",
       "      <td>0.785</td>\n",
       "      <td>0.000000</td>\n",
       "      <td>0.0000</td>\n",
       "      <td>0.000000</td>\n",
       "    </tr>\n",
       "    <tr>\n",
       "      <th>acetone</th>\n",
       "      <td>7.02447</td>\n",
       "      <td>1161.00</td>\n",
       "      <td>224.00</td>\n",
       "      <td>58.08</td>\n",
       "      <td>0.787</td>\n",
       "      <td>0.428164</td>\n",
       "      <td>0.2906</td>\n",
       "      <td>0.311695</td>\n",
       "    </tr>\n",
       "    <tr>\n",
       "      <th>xylene</th>\n",
       "      <td>6.99052</td>\n",
       "      <td>1453.43</td>\n",
       "      <td>215.31</td>\n",
       "      <td>106.16</td>\n",
       "      <td>0.870</td>\n",
       "      <td>0.571836</td>\n",
       "      <td>0.7094</td>\n",
       "      <td>0.688305</td>\n",
       "    </tr>\n",
       "    <tr>\n",
       "      <th>toluene</th>\n",
       "      <td>6.95464</td>\n",
       "      <td>1344.80</td>\n",
       "      <td>219.48</td>\n",
       "      <td>92.14</td>\n",
       "      <td>0.865</td>\n",
       "      <td>0.000000</td>\n",
       "      <td>0.0000</td>\n",
       "      <td>0.000000</td>\n",
       "    </tr>\n",
       "  </tbody>\n",
       "</table>\n",
       "</div>"
      ],
      "text/plain": [
       "                         A        B       C      MW     SG  mole fraction  \\\n",
       "ethanol            8.04494  1554.30  222.65   46.07  0.791       0.000000   \n",
       "methanol           7.89750  1474.08  229.13   32.04  0.791       0.000000   \n",
       "isopropyl alcohol  8.11778  1580.92  219.61   60.10  0.785       0.000000   \n",
       "acetone            7.02447  1161.00  224.00   58.08  0.787       0.428164   \n",
       "xylene             6.99052  1453.43  215.31  106.16  0.870       0.571836   \n",
       "toluene            6.95464  1344.80  219.48   92.14  0.865       0.000000   \n",
       "\n",
       "                   mass fraction  vol fraction  \n",
       "ethanol                   0.0000      0.000000  \n",
       "methanol                  0.0000      0.000000  \n",
       "isopropyl alcohol         0.0000      0.000000  \n",
       "acetone                   0.2906      0.311695  \n",
       "xylene                    0.7094      0.688305  \n",
       "toluene                   0.0000      0.000000  "
      ]
     },
     "execution_count": 6,
     "metadata": {
      "tags": []
     },
     "output_type": "execute_result"
    }
   ],
   "source": [
    "import pandas as pd\n",
    "\n",
    "s = data.keys()\n",
    "results = pd.DataFrame.from_dict(data).T\n",
    "for s in S:\n",
    "    results.loc[s,'mole fraction'] = m.x[s]()\n",
    "    \n",
    "MW = sum(m.x[s]()*data[s]['MW'] for s in S)\n",
    "for s in S:\n",
    "    results.loc[s,'mass fraction'] = m.x[s]()*data[s]['MW']/MW\n",
    "    \n",
    "vol = sum(m.x[s]()*data[s]['MW']/data[s]['SG'] for s in S)\n",
    "for s in S:\n",
    "    results.loc[s,'vol fraction'] = m.x[s]()*data[s]['MW']/data[s]['SG']/vol\n",
    "\n",
    "results"
   ]
  },
  {
   "cell_type": "code",
   "execution_count": null,
   "metadata": {
    "colab": {},
    "colab_type": "code",
    "id": "xU12DmVdgNf2"
   },
   "outputs": [],
   "source": []
  },
  {
   "cell_type": "markdown",
   "metadata": {
    "colab_type": "text",
    "id": "n6fgJQud41EP"
   },
   "source": [
    "<!--NAVIGATION-->\n",
    "< [Linear Blending Problem](http://nbviewer.jupyter.org/github/jckantor/ND-Pyomo-Cookbook/blob/master/notebooks/02.02-Linear-Blending-Problem.ipynb) | [Contents](toc.ipynb) | [Gasoline Blending](http://nbviewer.jupyter.org/github/jckantor/ND-Pyomo-Cookbook/blob/master/notebooks/02.04-Gasoline-Blending.ipynb) ><p><a href=\"https://colab.research.google.com/github/jckantor/ND-Pyomo-Cookbook/blob/master/notebooks/02.03-Mixture-Design-Cold-Weather-Fuel.ipynb\"><img align=\"left\" src=\"https://colab.research.google.com/assets/colab-badge.svg\" alt=\"Open in Colab\" title=\"Open in Google Colaboratory\"></a>"
   ]
  }
 ],
 "metadata": {
  "colab": {
   "collapsed_sections": [],
   "name": "02.03-Mixture-Design-Cold-Weather-Fuel.ipynb",
   "provenance": [],
   "version": "0.3.2"
  },
  "kernelspec": {
   "display_name": "Python 3",
   "language": "python",
   "name": "python3"
  },
  "language_info": {
   "codemirror_mode": {
    "name": "ipython",
    "version": 3
   },
   "file_extension": ".py",
   "mimetype": "text/x-python",
   "name": "python",
   "nbconvert_exporter": "python",
   "pygments_lexer": "ipython3",
   "version": "3.7.3"
  }
 },
 "nbformat": 4,
 "nbformat_minor": 2
}

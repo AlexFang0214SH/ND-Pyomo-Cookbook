{
  "nbformat": 4,
  "nbformat_minor": 0,
  "metadata": {
    "colab": {
      "name": "Unconstrained_Scalar_Optimization.ipynb",
      "version": "0.3.2",
      "provenance": [],
      "toc_visible": true
    },
    "kernelspec": {
      "display_name": "Python 3",
      "language": "python",
      "name": "python3"
    }
  },
  "cells": [
    {
      "metadata": {
        "id": "8CY-WljpSRJl",
        "colab_type": "text"
      },
      "cell_type": "markdown",
      "source": [
        "# Unconstrained Scalar Optimization\n",
        "\n",
        "Introductory calculus courses introduce the minimization (or maximization) of a function of a single variable. Given a function $f(x)$, find values $x^*$ such that $f(x^*) \\leq f(x)$ (or $f(x^*) \\geq f(x)$) for all $x$ in an interval containing $x^*$. Such points are called local optima. \n",
        "\n",
        "If the derivative exists at all points in a given interval, then the local optima are found by solving for values $x^*$ that satisfy\n",
        "\n",
        "\\begin{align}\n",
        "f'(x^*) = 0\n",
        "\\end{align}\n",
        "\n",
        "Let's see how this is put to work in the context of process engineering."
      ]
    },
    {
      "metadata": {
        "id": "PBRBB1uWSRJp",
        "colab_type": "text"
      },
      "cell_type": "markdown",
      "source": [
        "## Application: Maximizing Production of a Reaction Intermediate\n",
        "\n",
        "A desired product $B$ is produced as intermediate in a series reaction\n",
        "\n",
        "\\begin{align}\n",
        "A \\overset{k_A}{\\longrightarrow} B \\overset{k_B}{\\longrightarrow} C\n",
        "\\end{align}\n",
        "\n",
        "where $A$ is a raw material and $C$ is a undesired by-product. The reaction operates at temperature where the rate constants are $k_A = 0.5\\ \\mbox{min}^{-1}$ and $k_A = 0.1\\ \\mbox{min}^{-1}$. The raw material is available as a solution with concenration $C_{A,f} = 2.0\\ \\mbox{moles/liter}$.\n",
        "\n",
        "A 100 liter tank is avialable to run the reaction. Below we will answer the following questions:\n",
        "\n",
        "1. If the goal is obtain the maximum possible concentration of $B$, and the tank is operated as a continuous stirred tank reactor, what should be the flowrate? \n",
        "\n",
        "2. What is the production rate of $B$ at maximum concentration?"
      ]
    },
    {
      "metadata": {
        "id": "S4Nhug1xSRJq",
        "colab_type": "text"
      },
      "cell_type": "markdown",
      "source": [
        "## Mathematical Model for a Continuous Stirred Tank Reactor\n",
        "\n",
        "The reaction dynamics for an isothermal continuous stirred tank reactor with a volume $V = 40$ liters and feed concentration $C_{A,f}$ are modeled as\n",
        "\n",
        "\\begin{align}\n",
        "V\\frac{dC_A}{dt} & = q(C_{A,f} - C_A) - V k_A C_A \\\\\n",
        "V\\frac{dC_B}{dt} & = - q C_B + V k_A C_A - V k_B C_B\n",
        "\\end{align}\n",
        "\n",
        "At steady-state the material balances become\n",
        "\n",
        "\\begin{align}\n",
        "0 & = q(C_{A,f} - \\bar{C}_A) - V k_A \\bar{C}_A \\\\\n",
        "0 & = - q \\bar{C}_B + V k_A \\bar{C}_A - V k_B \\bar{C}_B \n",
        "\\end{align}\n",
        "\n",
        "which can be solved for $C_A$\n",
        "\n",
        "\\begin{align}\n",
        "\\bar{C}_A & = \\frac{qC_{A,f}}{q + Vk_A} \\\\\n",
        "\\end{align}\n",
        "\n",
        "and then for $C_B$\n",
        "\n",
        "\\begin{align}\n",
        "\\bar{C}_B & = \\frac{q V k_A C_{A,f}}{(q + V k_A)(q + Vk_B)}\n",
        "\\end{align}\n",
        "\n",
        "The numerator is first-order in flowrate $q$, and the denominator is quadratic.  This is consistent with an intermediate value of $q$ corresponding to a maximum concentration $\\bar{C}_B$. \n",
        "\n",
        "The next cell plots $\\bar{C}_B$ as a function of flowrate $q$."
      ]
    },
    {
      "metadata": {
        "id": "8Zy9i0xySRJr",
        "colab_type": "code",
        "colab": {
          "base_uri": "https://localhost:8080/",
          "height": 294
        },
        "outputId": "88c97c5a-9c71-4b94-a5cc-7cca030520e2"
      },
      "cell_type": "code",
      "source": [
        "%matplotlib inline\n",
        "import matplotlib.pyplot as plt\n",
        "import numpy as np\n",
        "\n",
        "V = 40     # liters\n",
        "kA = 0.5   # 1/min\n",
        "kB = 0.1   # l/min\n",
        "CAf = 2.0  # moles/liter\n",
        "\n",
        "def cstr(q):\n",
        "    return q*V*kA*CAf/(q + V*kB)/(q + V*kA)\n",
        "\n",
        "q = np.linspace(0,30,200)\n",
        "plt.plot(q, cstr(q))\n",
        "plt.xlabel('flowrate q / liters per minute')\n",
        "plt.ylabel('concentration C_B / moles per liter')\n",
        "plt.title('Outlet concentration for a CSTR')\n",
        "plt.show()"
      ],
      "execution_count": 9,
      "outputs": [
        {
          "output_type": "display_data",
          "data": {
            "image/png": "[encoded data removed]",
            "text/plain": [
              "<matplotlib.figure.Figure at 0x7f6df065bb38>"
            ]
          },
          "metadata": {
            "tags": []
          }
        }
      ]
    },
    {
      "metadata": {
        "id": "AimarcucSRJy",
        "colab_type": "text"
      },
      "cell_type": "markdown",
      "source": [
        "We see that, for the parameters given, there is an optimal flowrate somewhere between 5 and 10 liters per minute."
      ]
    },
    {
      "metadata": {
        "id": "xMzxrJOWSRJz",
        "colab_type": "text"
      },
      "cell_type": "markdown",
      "source": [
        "## Analytical Solution using Calculus\n",
        "\n",
        "As it happens, this problem has an interesting analytical solution that can be found by hand, and which can be used to check the accuracy of numerical solutions. Setting the first derivative of $\\bar{C}_B$ to zero,\n",
        "\n",
        "\\begin{align}\n",
        "\\left.\\frac{d\\bar{C}_B}{dq}\\right|_{q^*} = \\frac{V k_A C_{A,f}}{(q^* + V k_A)(q^* + Vk_B)} - \\frac{q^* V k_A C_{A,f}}{(q^* + V k_A)^2(q^* + Vk_B)} - \\frac{q^* V k_A C_{A,f}}{(q^* + V k_A)(q^* + Vk_B)^2} = 0\n",
        "\\end{align}\n",
        "\n",
        "Clearing out the non-negative common factors yields\n",
        "\n",
        "\\begin{align}\n",
        "1 - \\frac{q^*}{(q^* + V k_A)} - \\frac{q^*}{(q^* + Vk_B)} = 0\n",
        "\\end{align}\n",
        "\n",
        "and multiplying by the non-negative denominators produces\n",
        "\n",
        "\\begin{align}\n",
        "{q^*}^2 + q^*V(k_A + k_B) + V^2k_Ak_B - q^*(q^* + Vk_B) - q^*(q^* + Vk_A) = 0\n",
        "\\end{align}\n",
        "\n",
        "Expanding these expressions followed by arithmetic cancelations gives the final result\n",
        "\n",
        "\\begin{align}\n",
        "q^*  =  V\\sqrt{k_Ak_B}\n",
        "\\end{align}\n",
        "\n",
        "which shows the optimal dilution rate, $\\frac{q^*}{V}$, is equal the geomtric mean of the rate constants."
      ]
    },
    {
      "metadata": {
        "id": "tvH0fKHXSRJ0",
        "colab_type": "code",
        "colab": {
          "base_uri": "https://localhost:8080/",
          "height": 68
        },
        "outputId": "01a8fbee-be88-4836-fe4c-44b8bcb326c9"
      },
      "cell_type": "code",
      "source": [
        "%matplotlib inline\n",
        "import matplotlib.pyplot as plt\n",
        "import numpy as np\n",
        "\n",
        "V = 40     # liters\n",
        "kA = 0.5   # 1/min\n",
        "kB = 0.1   # l/min\n",
        "CAf = 2.0  # moles/liter\n",
        "\n",
        "qmax = V*np.sqrt(kA*kB)\n",
        "CBmax = cstr(qmax)\n",
        "print('Flowrate at maximum CB = ', qmax, 'liters per minute.')\n",
        "print('Maximum CB =', CBmax, 'moles per liter.')\n",
        "print('Productivity = ', qmax*CBmax, 'moles per minute.')"
      ],
      "execution_count": 10,
      "outputs": [
        {
          "output_type": "stream",
          "text": [
            "Flowrate at maximum CB =  8.94427190999916 liters per minute.\n",
            "Maximum CB = 0.9549150281252629 moles per liter.\n",
            "Productivity =  8.541019662496845 moles per minute.\n"
          ],
          "name": "stdout"
        }
      ]
    },
    {
      "metadata": {
        "id": "C5krauY4SRJ4",
        "colab_type": "text"
      },
      "cell_type": "markdown",
      "source": [
        "## Numerical Solution with Pyomo\n",
        "\n",
        "This problem can also be solved using Pyomo to create a model instance. First we make sure that Pyomo and ipopt are installed, then we proceed with the model specification and solution."
      ]
    },
    {
      "metadata": {
        "id": "9m0do8MVUI6u",
        "colab_type": "code",
        "colab": {}
      },
      "cell_type": "code",
      "source": [
        "!pip install -q pyomo\n",
        "!wget -N -q \"https://ampl.com/dl/open/ipopt/ipopt-linux64.zip\" && unzip -o -q ipopt-linux64\n",
        "ipopt_executable = '/content/ipopt'"
      ],
      "execution_count": 0,
      "outputs": []
    },
    {
      "metadata": {
        "id": "BYbuwdy2SRJ5",
        "colab_type": "code",
        "colab": {
          "base_uri": "https://localhost:8080/",
          "height": 68
        },
        "outputId": "18766beb-778b-49dd-a8ee-cc1c111104bc"
      },
      "cell_type": "code",
      "source": [
        "from pyomo.environ import *\n",
        "\n",
        "V = 40     # liters\n",
        "kA = 0.5   # 1/min\n",
        "kB = 0.1   # l/min\n",
        "CAf = 2.0  # moles/liter\n",
        "\n",
        "# create a model instance\n",
        "m = ConcreteModel()\n",
        "\n",
        "# create the decision variable\n",
        "m.q = Var(domain=NonNegativeReals)\n",
        "\n",
        "# create the objective\n",
        "m.CBmax = Objective(expr=m.q*V*kA*CAf/(m.q + V*kB)/(m.q + V*kA), sense=maximize)\n",
        "\n",
        "# solve using the nonlinear solver ipopt\n",
        "SolverFactory('ipopt', executable=ipopt_executable).solve(m)\n",
        "\n",
        "# print solution\n",
        "print('Flowrate at maximum CB = ', m.q(), 'liters per minute.')\n",
        "print('Maximum CB =', m.CBmax(), 'moles per liter.')\n",
        "print('Productivity = ', m.q()*m.CBmax(), 'moles per minute.')"
      ],
      "execution_count": 12,
      "outputs": [
        {
          "output_type": "stream",
          "text": [
            "Flowrate at maximum CB =  8.944271964904415 liters per minute.\n",
            "Maximum CB = 0.9549150281252627 moles per liter.\n",
            "Productivity =  8.541019714926698 moles per minute.\n"
          ],
          "name": "stdout"
        }
      ]
    },
    {
      "metadata": {
        "id": "Fy4-evYVSRJ8",
        "colab_type": "text"
      },
      "cell_type": "markdown",
      "source": [
        "One advantage of using Pyomo for solving problems like these is that you can reduce the amount of algebra needed to prepare the problem for numerical solution. This not only minimizes your work, but also reduces possible sources of error in your solution.\n",
        "\n",
        "In this example, the steady-state equations are\n",
        "\n",
        "\\begin{align}\n",
        "0 & = q(C_{A,f} - \\bar{C}_A) - V k_A \\bar{C}_A \\\\\n",
        "0 & = - q \\bar{C}_B + V k_A \\bar{C}_A - V k_B \\bar{C}_B \n",
        "\\end{align}\n",
        "\n",
        "with unknowns $C_B$ and $C_A$. The modeling strategy is to introduce variables for the flowrate $q$ and these unknowns, and introduce the steady state equations as constraints."
      ]
    },
    {
      "metadata": {
        "id": "Zie6HLy6SRJ9",
        "colab_type": "code",
        "colab": {
          "base_uri": "https://localhost:8080/",
          "height": 68
        },
        "outputId": "3bdb11ac-be67-4f26-c494-0c291350555c"
      },
      "cell_type": "code",
      "source": [
        "from pyomo.environ import *\n",
        "\n",
        "V = 40     # liters\n",
        "kA = 0.5   # 1/min\n",
        "kB = 0.1   # l/min\n",
        "CAf = 2.0  # moles/liter\n",
        "\n",
        "# create a model instance\n",
        "m = ConcreteModel()\n",
        "\n",
        "# create the decision variable\n",
        "m.q  = Var(domain=NonNegativeReals)\n",
        "m.CA = Var(domain=NonNegativeReals)\n",
        "m.CB = Var(domain=NonNegativeReals)\n",
        "\n",
        "# equations as constraints\n",
        "m.eqn = ConstraintList()\n",
        "m.eqn.add(0 == m.q*(CAf - m.CA) - V*kA*m.CA)\n",
        "m.eqn.add(0 == -m.q*m.CB + V*kA*m.CA - V*kB*m.CB)\n",
        "\n",
        "# create the objective\n",
        "m.CBmax = Objective(expr=m.CB, sense=maximize)\n",
        "\n",
        "# solve using the nonlinear solver ipopt\n",
        "SolverFactory('ipopt', executable=ipopt_executable).solve(m)\n",
        "\n",
        "# print solution\n",
        "print('Flowrate at maximum CB = ', m.q(), 'liters per minute.')\n",
        "print('Maximum CB =', m.CBmax(), 'moles per liter.')\n",
        "print('Productivity = ', m.q()*m.CBmax(), 'moles per minute.')"
      ],
      "execution_count": 13,
      "outputs": [
        {
          "output_type": "stream",
          "text": [
            "Flowrate at maximum CB =  8.944272002876573 liters per minute.\n",
            "Maximum CB = 0.9549150281377385 moles per liter.\n",
            "Productivity =  8.541019751298471 moles per minute.\n"
          ],
          "name": "stdout"
        }
      ]
    },
    {
      "metadata": {
        "id": "ae2lkOJsSRKB",
        "colab_type": "code",
        "colab": {}
      },
      "cell_type": "code",
      "source": [
        ""
      ],
      "execution_count": 0,
      "outputs": []
    }
  ]
}
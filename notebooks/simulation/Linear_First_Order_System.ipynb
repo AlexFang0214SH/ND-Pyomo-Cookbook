{
 "cells": [
  {
   "cell_type": "markdown",
   "metadata": {},
   "source": [
    "# Linear First Order System\n",
    "\n",
    "This notebook demonstrates simulation of a linear first-order system in Pyomo using two distinct approaches. The first uses the `Simulator` class from Pyomo which can employ the "
   ]
  },
  {
   "cell_type": "markdown",
   "metadata": {},
   "source": [
    "## First-Order Differential Equation with Initial Condition\n",
    "\n",
    "The following cell implements a solution to a first-order linear model in the form\n",
    "\n",
    "\\begin{align}\n",
    "\\tau\\frac{dy}{dt} + y & = K u(t) \\\\\n",
    "\\end{align}\n",
    "\n",
    "where $\\tau$ and $K$ are model parameters, and $u(t)$ is an external process input."
   ]
  },
  {
   "cell_type": "code",
   "execution_count": 1,
   "metadata": {},
   "outputs": [
    {
     "data": {
      "text/plain": [
       "Text(0.5,1,'Response of a linear first-order ODE')"
      ]
     },
     "execution_count": 1,
     "metadata": {},
     "output_type": "execute_result"
    },
    {
     "data": {
      "image/png": "[encoded data removed]",
      "text/plain": [
       "<matplotlib.figure.Figure at 0x1114abb38>"
      ]
     },
     "metadata": {},
     "output_type": "display_data"
    }
   ],
   "source": [
    "% matplotlib inline\n",
    "from pyomo.environ import *\n",
    "from pyomo.dae import *\n",
    "import matplotlib.pyplot as plt\n",
    "\n",
    "tf = 10\n",
    "tau = 1\n",
    "K = 5\n",
    "\n",
    "# define u(t)\n",
    "u = lambda t: 1\n",
    "\n",
    "# create a model object\n",
    "model = ConcreteModel()\n",
    "\n",
    "# define the independent variable\n",
    "model.t = ContinuousSet(bounds=(0, tf))\n",
    "\n",
    "# define the dependent variables\n",
    "model.y = Var(model.t)\n",
    "model.dydt = DerivativeVar(model.y)\n",
    "\n",
    "# fix the initial value of y\n",
    "model.y[0].fix(0)\n",
    "\n",
    "# define the differential equation as a constraint\n",
    "model.ode = Constraint(model.t, rule=lambda model, t: tau*model.dydt[t] + model.y[t] == K*u(t))\n",
    "\n",
    "# transform dae model to discrete optimization problem\n",
    "#TransformationFactory('dae.finite_difference').apply_to(model, nfe=50, method='BACKWARD')\n",
    "\n",
    "# solve the model\n",
    "#SolverFactory('ipopt').solve(model).write()\n",
    "\n",
    "tsim, profiles = Simulator(model, package='scipy').simulate(numpoints=100)\n",
    "\n",
    "plt.plot(tsim, profiles)\n",
    "\n",
    "# access elements of a ContinuousSet object\n",
    "t = [t for t in model.t]\n",
    "\n",
    "# access elements of a Var object\n",
    "y = [model.y[t]() for t in model.y]\n",
    "\n",
    "plt.plot(t,y)\n",
    "plt.xlabel('time / sec')\n",
    "plt.ylabel('response')\n",
    "plt.title('Response of a linear first-order ODE')"
   ]
  },
  {
   "cell_type": "code",
   "execution_count": null,
   "metadata": {},
   "outputs": [],
   "source": []
  }
 ],
 "metadata": {
  "kernelspec": {
   "display_name": "Python 3",
   "language": "python",
   "name": "python3"
  },
  "language_info": {
   "codemirror_mode": {
    "name": "ipython",
    "version": 3
   },
   "file_extension": ".py",
   "mimetype": "text/x-python",
   "name": "python",
   "nbconvert_exporter": "python",
   "pygments_lexer": "ipython3",
   "version": "3.6.4"
  }
 },
 "nbformat": 4,
 "nbformat_minor": 2
}

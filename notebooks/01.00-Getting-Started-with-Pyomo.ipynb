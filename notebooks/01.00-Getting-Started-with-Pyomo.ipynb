{
 "cells": [
  {
   "cell_type": "markdown",
   "metadata": {
    "pycharm": {}
   },
   "source": [
    "<!--NOTEBOOK_HEADER-->\n",
    "*This notebook contains material from the [ND Pyomo Cookbook](http://jckantor.github.io/ND-Pyomo-Cookbook/) by \n",
    "Jeffrey Kantor (jeff at nd.edu); the content is available [on GitHub](https://github.com/jckantor/ND-Pyomo-Cookbook).\n",
    "*The text is released under the [CC-BY-NC-ND-4.0 license](https://creativecommons.org/licenses/by-nc-nd/4.0/legalcode),\n",
    "and code is released under the [MIT license](https://opensource.org/licenses/MIT).*\n"
   ]
  },
  {
   "cell_type": "markdown",
   "metadata": {
    "pycharm": {}
   },
   "source": [
    "<!--NAVIGATION-->\n",
    "| [Contents](toc.ipynb) | [Installing a Pyomo/Python Development Environment](http://nbviewer.jupyter.org/github/jckantor/ND-Pyomo-Cookbook/blob/master/notebooks/01.01-Installing-Pyomo.ipynb) ><p><a href=\"https://colab.research.google.com/github/jckantor/ND-Pyomo-Cookbook/blob/master/notebooks/01.00-Getting-Started-with-Pyomo.ipynb\"><img align=\"left\" src=\"https://colab.research.google.com/assets/colab-badge.svg\" alt=\"Open in Colab\" title=\"Open in Google Colaboratory\"></a>"
   ]
  },
  {
   "cell_type": "markdown",
   "metadata": {
    "pycharm": {}
   },
   "source": [
    "# Getting Started with Pyomo"
   ]
  },
  {
   "cell_type": "markdown",
   "metadata": {
    "pycharm": {}
   },
   "source": [
    "## Pyomo home page\n",
    "\n",
    "* [Pyomo home page](http://www.pyomo.org/)"
   ]
  },
  {
   "cell_type": "markdown",
   "metadata": {
    "pycharm": {}
   },
   "source": [
    "## Pyomo book\n",
    "\n",
    "* [Hart, William E., Carl D. Laird, Jean-Paul Watson, David L. Woodruff, Gabriel A. Hackebeil, Bethany L. Nicholson, and John D. Siirola. Pyomo – Optimization Modeling in Python. Second Edition.  Vol. 67. Springer, 2017.](https://www.springer.com/gp/book/9783319588193)"
   ]
  },
  {
   "cell_type": "markdown",
   "metadata": {
    "pycharm": {}
   },
   "source": [
    "## Pyomo online resources"
   ]
  },
  {
   "cell_type": "markdown",
   "metadata": {
    "pycharm": {}
   },
   "source": [
    "* [Read the Docs](https://pyomo.readthedocs.io/en/latest/) is the official documentation for the latest release of Pyomo.\n",
    "\n",
    "* Nicholson, Bethany L., Laird, Carl Damon, Siirola, John Daniel, Watson, Jean-Paul, and Hart, William E. Mon . \"Pyomo Tutorial.\". United States. https://www.osti.gov/servlets/purl/1376827.  Presentation slides in pdf format.\n",
    "\n",
    "\n",
    "* [Pyomo Questions on Stack Overflow](https://stackoverflow.com/questions/tagged/pyomo)\n",
    "\n",
    "* [Pyomo Forum on Google Groups](https://groups.google.com/forum/#!forum/pyomo-forum)\n",
    "\n",
    "* [Pyomo Examples](https://github.com/Pyomo/pyomo/tree/master/examples) from the official [Pyomo Github Repository](https://github.com/Pyomo/pyomo).\n",
    "\n",
    "* [PyomoGallery](https://github.com/Pyomo/PyomoGallery/wiki)"
   ]
  },
  {
   "cell_type": "markdown",
   "metadata": {
    "pycharm": {}
   },
   "source": [
    "## Pyomo bibliography\n",
    "\n",
    "* Hart, William E., Jean-Paul Watson, and David L. Woodruff. \"Pyomo: modeling and solving mathematical programs in Python.\" Mathematical Programming Computation 3(3) (2011): 219-260.\n",
    "\n",
    "* Nicholson, Bethany, John D. Siirola, Jean-Paul Watson, Victor M. Zavala, and Lorenz T. Biegler. \"pyomo.dae: a modeling and automatic discretization framework for optimization with differential and algebraic equations.\" Mathematical Programming Computation 10(2) (2018): 187-223.\n",
    "\n",
    "* Watson, Jean-Paul, David L. Woodruff, and William E. Hart. \"PySP: modeling and solving stochastic programs in Python.\" Mathematical Programming Computation 4(2) (2012): 109-149."
   ]
  },
  {
   "cell_type": "code",
   "execution_count": null,
   "metadata": {
    "pycharm": {}
   },
   "outputs": [],
   "source": []
  },
  {
   "cell_type": "markdown",
   "metadata": {
    "pycharm": {}
   },
   "source": [
    "<!--NAVIGATION-->\n",
    "| [Contents](toc.ipynb) | [Installing a Pyomo/Python Development Environment](http://nbviewer.jupyter.org/github/jckantor/ND-Pyomo-Cookbook/blob/master/notebooks/01.01-Installing-Pyomo.ipynb) ><p><a href=\"https://colab.research.google.com/github/jckantor/ND-Pyomo-Cookbook/blob/master/notebooks/01.00-Getting-Started-with-Pyomo.ipynb\"><img align=\"left\" src=\"https://colab.research.google.com/assets/colab-badge.svg\" alt=\"Open in Colab\" title=\"Open in Google Colaboratory\"></a>"
   ]
  }
 ],
 "metadata": {
  "kernelspec": {
   "display_name": "Python 3",
   "language": "python",
   "name": "python3"
  },
  "language_info": {
   "codemirror_mode": {
    "name": "ipython",
    "version": 3
   },
   "file_extension": ".py",
   "mimetype": "text/x-python",
   "name": "python",
   "nbconvert_exporter": "python",
   "pygments_lexer": "ipython3",
   "version": "3.7.3"
  }
 },
 "nbformat": 4,
 "nbformat_minor": 2
}

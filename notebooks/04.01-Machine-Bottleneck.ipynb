{
 "cells": [
  {
   "cell_type": "markdown",
   "metadata": {
    "colab_type": "text",
    "id": "V9y0R-FE6E_w"
   },
   "source": [
    "<!--COURSE_INFORMATION-->\n",
    "*This notebook contains material from [ND Pyomo Cookbook](http://jckantor.github.io/ND-Pyomo-Cookbook/) by \n",
    "Jeffrey Kantor (jeff at nd.edu); the content is available [on GitHub](https://github.com/jckantor/ND-Pyomo-Cookbook).\n",
    "*The text is released under the [CC-BY-NC-ND-4.0 license](https://creativecommons.org/licenses/by-nc-nd/4.0/legalcode),\n",
    "and code is released under the [MIT license](https://opensource.org/licenses/MIT).*\n"
   ]
  },
  {
   "cell_type": "markdown",
   "metadata": {
    "colab_type": "text",
    "id": "GGAH8j-m6E_x"
   },
   "source": [
    "<!--NAVIGATION-->\n",
    "< [Scheduling with Disjunctive Constraints](http://nbviewer.jupyter.org/github/jckantor/ND-Pyomo-Cookbook/blob/master/notebooks/04.00-Scheduling-with-Disjunctive-Constraints.ipynb) | [Contents](index.ipynb) | [Job Shop Scheduling](http://nbviewer.jupyter.org/github/jckantor/ND-Pyomo-Cookbook/blob/master/notebooks/04.02-Job-Shop-Scheduling.ipynb) >\n",
    "<p><a href=\"https://colab.research.google.com/github/jckantor/ND-Pyomo-Cookbook/blob/master/notebooks/04.01-Machine-Bottleneck.ipynb\"><img align=\"left\" src=\"https://colab.research.google.com/assets/colab-badge.svg\" alt=\"Open in Colab\" title=\"Open in Google Colaboratory\"></a>\n"
   ]
  },
  {
   "cell_type": "markdown",
   "metadata": {
    "colab_type": "text",
    "id": "P4JBokiOpGaW"
   },
   "source": [
    "# Machine Bottleneck\n",
    "\n",
    "This notebook demonstrates the formulation and solution of the a machine bottleneck problem using Pyomo. The task is to schedule a set of jobs on a single machine given the release time, duration, and due time for each job. Date for the example problem is from Christelle Gueret, Christian Prins, Marc Sevaux, \"Applications of Optimization with Xpress-MP,\" Chapter 5, Dash Optimization, 2000."
   ]
  },
  {
   "cell_type": "code",
   "execution_count": null,
   "metadata": {
    "colab": {},
    "colab_type": "code",
    "id": "ziXXmrrlplII"
   },
   "outputs": [],
   "source": [
    "%%capture\n",
    "!pip install -q pyomo\n",
    "!apt-get install -y -qq coinor-cbc"
   ]
  },
  {
   "cell_type": "markdown",
   "metadata": {
    "colab_type": "text",
    "id": "vMSeL4YrpGaa"
   },
   "source": [
    "## Example\n",
    "\n",
    "The problem is to schedule a sequence of jobs for a single machine. The data consists of a Python dictionary of jobs. Each job is labeled by a key, and an associated data dictionary provides the time at which the job is released to the for machine processing, the expected duration of the job, and the due date. The problem is to sequence the jobs on the machine to meet the due dates, or show that no such sequence is possible."
   ]
  },
  {
   "cell_type": "code",
   "execution_count": 2,
   "metadata": {
    "colab": {
     "base_uri": "https://localhost:8080/",
     "height": 136
    },
    "colab_type": "code",
    "executionInfo": {
     "elapsed": 5115,
     "status": "ok",
     "timestamp": 1555699487019,
     "user": {
      "displayName": "Jeffrey Kantor",
      "photoUrl": "https://lh5.googleusercontent.com/-8zK5aAW5RMQ/AAAAAAAAAAI/AAAAAAAAKB0/kssUQyz8DTQ/s64/photo.jpg",
      "userId": "09038942003589296665"
     },
     "user_tz": 240
    },
    "id": "booOXANJpGac",
    "outputId": "31236465-0fe9-4321-995c-7eafe5fadb1b"
   },
   "outputs": [
    {
     "data": {
      "text/plain": [
       "{'A': {'due': 10, 'duration': 5, 'release': 2},\n",
       " 'B': {'due': 21, 'duration': 6, 'release': 5},\n",
       " 'C': {'due': 15, 'duration': 8, 'release': 4},\n",
       " 'D': {'due': 10, 'duration': 4, 'release': 0},\n",
       " 'E': {'due': 5, 'duration': 2, 'release': 0},\n",
       " 'F': {'due': 15, 'duration': 3, 'release': 8},\n",
       " 'G': {'due': 22, 'duration': 2, 'release': 9}}"
      ]
     },
     "execution_count": 2,
     "metadata": {
      "tags": []
     },
     "output_type": "execute_result"
    }
   ],
   "source": [
    "JOBS = {\n",
    "    'A': {'release': 2, 'duration': 5, 'due': 10},\n",
    "    'B': {'release': 5, 'duration': 6, 'due': 21},\n",
    "    'C': {'release': 4, 'duration': 8, 'due': 15},\n",
    "    'D': {'release': 0, 'duration': 4, 'due': 10},\n",
    "    'E': {'release': 0, 'duration': 2, 'due':  5},\n",
    "    'F': {'release': 8, 'duration': 3, 'due': 15},\n",
    "    'G': {'release': 9, 'duration': 2, 'due': 22},\n",
    "}\n",
    "JOBS"
   ]
  },
  {
   "cell_type": "markdown",
   "metadata": {
    "colab_type": "text",
    "id": "FQiyELEmpGai"
   },
   "source": [
    "## The Machine Scheduling Problem\n",
    "\n",
    "A schedule consists of a dictionary listing the start and finish times for each job. Once the order of jobs has been determined, the start time can be no earlier than when the job is released for processing, and no earlier than the finish of the previous job.\n",
    "\n",
    "The following cell presents a function which, given the JOBS data and an order list of jobs indices, computes the start and finish times for all jobs on a single machine. We use this to determine the schedule if the jobs are executed in alphabetical order."
   ]
  },
  {
   "cell_type": "code",
   "execution_count": 3,
   "metadata": {
    "colab": {
     "base_uri": "https://localhost:8080/",
     "height": 136
    },
    "colab_type": "code",
    "executionInfo": {
     "elapsed": 5098,
     "status": "ok",
     "timestamp": 1555699487020,
     "user": {
      "displayName": "Jeffrey Kantor",
      "photoUrl": "https://lh5.googleusercontent.com/-8zK5aAW5RMQ/AAAAAAAAAAI/AAAAAAAAKB0/kssUQyz8DTQ/s64/photo.jpg",
      "userId": "09038942003589296665"
     },
     "user_tz": 240
    },
    "id": "YAIW7XIspGaj",
    "outputId": "12ef8f94-982e-4fa6-c503-eb6732face8c"
   },
   "outputs": [
    {
     "data": {
      "text/plain": [
       "{'A': {'finish': 7, 'start': 2},\n",
       " 'B': {'finish': 13, 'start': 7},\n",
       " 'C': {'finish': 21, 'start': 13},\n",
       " 'D': {'finish': 25, 'start': 21},\n",
       " 'E': {'finish': 27, 'start': 25},\n",
       " 'F': {'finish': 30, 'start': 27},\n",
       " 'G': {'finish': 32, 'start': 30}}"
      ]
     },
     "execution_count": 3,
     "metadata": {
      "tags": []
     },
     "output_type": "execute_result"
    }
   ],
   "source": [
    "def schedule(JOBS, order=sorted(JOBS.keys())):\n",
    "    \"\"\"Schedule a dictionary of JOBS on a single machine in a specified order.\"\"\"\n",
    "    start = 0\n",
    "    finish = 0\n",
    "    SCHEDULE = {}\n",
    "    for job in order:\n",
    "        start = max(JOBS[job]['release'], finish)\n",
    "        finish = start + JOBS[job]['duration']\n",
    "        SCHEDULE[job] = {'start': start, 'finish': finish, }\n",
    "    return SCHEDULE   \n",
    "\n",
    "SCHEDULE = schedule(JOBS)\n",
    "SCHEDULE"
   ]
  },
  {
   "cell_type": "markdown",
   "metadata": {
    "colab_type": "text",
    "id": "PqufljBrpGam"
   },
   "source": [
    "### Gantt Chart\n",
    "\n",
    "A traditional means of visualizing scheduling data in the form of a Gantt chart. The next cell presents a function `gantt` that plots a Gantt chart given JOBS and SCHEDULE information. Two charts are presented showing job schedule and machine schedule. If no machine information is contained in SCHEDULE, then it assumed to be a single machine operation."
   ]
  },
  {
   "cell_type": "code",
   "execution_count": 4,
   "metadata": {
    "colab": {
     "base_uri": "https://localhost:8080/",
     "height": 429
    },
    "colab_type": "code",
    "executionInfo": {
     "elapsed": 5602,
     "status": "ok",
     "timestamp": 1555699487536,
     "user": {
      "displayName": "Jeffrey Kantor",
      "photoUrl": "https://lh5.googleusercontent.com/-8zK5aAW5RMQ/AAAAAAAAAAI/AAAAAAAAKB0/kssUQyz8DTQ/s64/photo.jpg",
      "userId": "09038942003589296665"
     },
     "user_tz": 240
    },
    "id": "PmlDAe6upGan",
    "outputId": "718c59c7-03fb-4cb2-8e97-e423d919ef30"
   },
   "outputs": [
    {
     "data": {
      "image/png": "[encoded data removed]",
      "text/plain": [
       "<Figure size 864x352.8 with 1 Axes>"
      ]
     },
     "metadata": {
      "tags": []
     },
     "output_type": "display_data"
    },
    {
     "data": {
      "image/png": "[encoded data removed]",
      "text/plain": [
       "<Figure size 864x50.4 with 1 Axes>"
      ]
     },
     "metadata": {
      "tags": []
     },
     "output_type": "display_data"
    }
   ],
   "source": [
    "%matplotlib inline\n",
    "import matplotlib.pyplot as plt\n",
    "\n",
    "def gantt(JOBS, SCHEDULE):\n",
    "    bw = 0.3\n",
    "    plt.figure(figsize=(12, 0.7*(len(JOBS.keys()))))\n",
    "    idx = 0\n",
    "    for j in sorted(JOBS.keys()):\n",
    "        x = JOBS[j]['release']\n",
    "        y = JOBS[j]['due']\n",
    "        plt.fill_between([x,y],[idx-bw,idx-bw],[idx+bw,idx+bw], color='cyan', alpha=0.6)\n",
    "        x = SCHEDULE[j]['start']\n",
    "        y = SCHEDULE[j]['finish']\n",
    "        plt.fill_between([x,y],[idx-bw,idx-bw],[idx+bw,idx+bw], color='red', alpha=0.5)\n",
    "        plt.plot([x,y,y,x,x], [idx-bw,idx-bw,idx+bw,idx+bw,idx-bw],color='k')\n",
    "        plt.text((SCHEDULE[j]['start'] + SCHEDULE[j]['finish'])/2.0,idx,\n",
    "            'Job ' + j, color='white', weight='bold',\n",
    "            horizontalalignment='center', verticalalignment='center')\n",
    "        idx += 1\n",
    "\n",
    "    plt.ylim(-0.5, idx-0.5)\n",
    "    plt.title('Job Schedule')\n",
    "    plt.xlabel('Time')\n",
    "    plt.ylabel('Jobs')\n",
    "    plt.yticks(range(len(JOBS)), JOBS.keys())\n",
    "    plt.grid()\n",
    "    xlim = plt.xlim()\n",
    "    \n",
    "    for j in JOBS.keys():\n",
    "        if 'machine' not in SCHEDULE[j].keys():\n",
    "            SCHEDULE[j]['machine'] = 1\n",
    "    MACHINES = sorted(set([SCHEDULE[j]['machine'] for j in JOBS.keys()]))\n",
    "    \n",
    "    plt.figure(figsize=(12, 0.7*len(MACHINES)))\n",
    "    for j in sorted(JOBS.keys()):\n",
    "        idx = MACHINES.index(SCHEDULE[j]['machine'])\n",
    "        x = SCHEDULE[j]['start']\n",
    "        y = SCHEDULE[j]['finish']\n",
    "        plt.fill_between([x,y],[idx-bw,idx-bw],[idx+bw,idx+bw], color='red', alpha=0.5)\n",
    "        plt.plot([x,y,y,x,x], [idx-bw,idx-bw,idx+bw,idx+bw,idx-bw],color='k')\n",
    "        plt.text((SCHEDULE[j]['start'] + SCHEDULE[j]['finish'])/2.0,idx,\n",
    "            'Job ' + j, color='white', weight='bold',\n",
    "            horizontalalignment='center', verticalalignment='center')\n",
    "    plt.xlim(xlim)\n",
    "    plt.ylim(-0.5, len(MACHINES)-0.5)\n",
    "    plt.title('Machine Schedule')\n",
    "    plt.yticks(range(len(MACHINES)), MACHINES)\n",
    "    plt.ylabel('Machines')\n",
    "    plt.grid()\n",
    "\n",
    "gantt(JOBS, SCHEDULE)"
   ]
  },
  {
   "cell_type": "markdown",
   "metadata": {
    "colab_type": "text",
    "id": "y--tDDDxpGar"
   },
   "source": [
    "### Key Performance Indicators\n",
    "\n",
    "As presented above, a given schedule may not meet all of the due time requirements. In fact, a schedule meeting all of the requirements might not even be possible. So given a schedule, it is useful to have a function that computes key performance indicators."
   ]
  },
  {
   "cell_type": "code",
   "execution_count": 5,
   "metadata": {
    "colab": {
     "base_uri": "https://localhost:8080/",
     "height": 119
    },
    "colab_type": "code",
    "executionInfo": {
     "elapsed": 5577,
     "status": "ok",
     "timestamp": 1555699487537,
     "user": {
      "displayName": "Jeffrey Kantor",
      "photoUrl": "https://lh5.googleusercontent.com/-8zK5aAW5RMQ/AAAAAAAAAAI/AAAAAAAAKB0/kssUQyz8DTQ/s64/photo.jpg",
      "userId": "09038942003589296665"
     },
     "user_tz": 240
    },
    "id": "8qKLYYF8pGar",
    "outputId": "aedd5e61-c9ec-4ed0-d067-ef4fbfd9066e"
   },
   "outputs": [
    {
     "data": {
      "text/plain": [
       "{'Fraction on Time': 0.2857142857142857,\n",
       " 'Makespan': 32,\n",
       " 'Max Pastdue': 22,\n",
       " 'Number Pastdue': 5,\n",
       " 'Number on Time': 2,\n",
       " 'Sum of Pastdue': 68}"
      ]
     },
     "execution_count": 5,
     "metadata": {
      "tags": []
     },
     "output_type": "execute_result"
    }
   ],
   "source": [
    "def kpi(JOBS, SCHEDULE):\n",
    "    KPI = {}\n",
    "    KPI['Makespan'] = max(SCHEDULE[job]['finish'] for job in JOBS)\n",
    "    KPI['Max Pastdue'] = max(max(0, SCHEDULE[job]['finish'] - JOBS[job]['due']) for job in JOBS)\n",
    "    KPI['Sum of Pastdue'] = sum(max(0, SCHEDULE[job]['finish'] - JOBS[job]['due']) for job in JOBS)\n",
    "    KPI['Number Pastdue'] = sum(SCHEDULE[job]['finish'] > JOBS[job]['due'] for job in JOBS)\n",
    "    KPI['Number on Time'] = sum(SCHEDULE[job]['finish'] <= JOBS[job]['due'] for job in JOBS)\n",
    "    KPI['Fraction on Time'] = KPI['Number on Time']/len(JOBS)\n",
    "    return KPI\n",
    "\n",
    "kpi(JOBS, SCHEDULE)"
   ]
  },
  {
   "cell_type": "markdown",
   "metadata": {
    "colab_type": "text",
    "id": "vn2kf3_qpGau"
   },
   "source": [
    "### Exercise\n",
    "\n",
    "Show the Gantt chart and key performance metrics if the jobs are executed in reverse alphabetical order."
   ]
  },
  {
   "cell_type": "code",
   "execution_count": 6,
   "metadata": {
    "colab": {
     "base_uri": "https://localhost:8080/",
     "height": 531
    },
    "colab_type": "code",
    "executionInfo": {
     "elapsed": 6578,
     "status": "ok",
     "timestamp": 1555699488547,
     "user": {
      "displayName": "Jeffrey Kantor",
      "photoUrl": "https://lh5.googleusercontent.com/-8zK5aAW5RMQ/AAAAAAAAAAI/AAAAAAAAKB0/kssUQyz8DTQ/s64/photo.jpg",
      "userId": "09038942003589296665"
     },
     "user_tz": 240
    },
    "id": "8PGHGwEgpGaw",
    "outputId": "9278efdd-0ea2-4eb7-e055-9ba2e891a6f0"
   },
   "outputs": [
    {
     "data": {
      "text/plain": [
       "{'Fraction on Time': 0.2857142857142857,\n",
       " 'Makespan': 39,\n",
       " 'Max Pastdue': 29,\n",
       " 'Number Pastdue': 5,\n",
       " 'Number on Time': 2,\n",
       " 'Sum of Pastdue': 76}"
      ]
     },
     "execution_count": 6,
     "metadata": {
      "tags": []
     },
     "output_type": "execute_result"
    },
    {
     "data": {
      "image/png": "[encoded data removed]",
      "text/plain": [
       "<Figure size 864x352.8 with 1 Axes>"
      ]
     },
     "metadata": {
      "tags": []
     },
     "output_type": "display_data"
    },
    {
     "data": {
      "image/png": "[encoded data removed]",
      "text/plain": [
       "<Figure size 864x50.4 with 1 Axes>"
      ]
     },
     "metadata": {
      "tags": []
     },
     "output_type": "display_data"
    }
   ],
   "source": [
    "order = sorted(JOBS, reverse=True)\n",
    "gantt(JOBS, schedule(JOBS,order))\n",
    "kpi(JOBS, schedule(JOBS,order))"
   ]
  },
  {
   "cell_type": "markdown",
   "metadata": {
    "colab_type": "text",
    "id": "Z7FBdS3opGa0"
   },
   "source": [
    "## Empirical Scheduling\n",
    "\n",
    "There are a number of commonly encountered empirical rules for scheduling jobs on a single machine. These include:\n",
    "\n",
    "* First-In First-Out (FIFO)\n",
    "* Last-In, First-Out (LIFO)\n",
    "* Shortest Processing Time First (SPT)\n",
    "* Earliest Due Data (EDD)"
   ]
  },
  {
   "cell_type": "markdown",
   "metadata": {
    "colab_type": "text",
    "id": "KmRNSyD5pGa1"
   },
   "source": [
    "### First-In First-Out (FIFO) Scheduling\n",
    "\n",
    " As an example, we'll first look at 'First-In-First-Out' scheduling which executes job in the order they are released. The following function sorts jobs by release time, then schedules the jobs to execute in that order. A job can only be started no earlier than when it is released."
   ]
  },
  {
   "cell_type": "code",
   "execution_count": 7,
   "metadata": {
    "colab": {
     "base_uri": "https://localhost:8080/",
     "height": 531
    },
    "colab_type": "code",
    "executionInfo": {
     "elapsed": 6711,
     "status": "ok",
     "timestamp": 1555699488696,
     "user": {
      "displayName": "Jeffrey Kantor",
      "photoUrl": "https://lh5.googleusercontent.com/-8zK5aAW5RMQ/AAAAAAAAAAI/AAAAAAAAKB0/kssUQyz8DTQ/s64/photo.jpg",
      "userId": "09038942003589296665"
     },
     "user_tz": 240
    },
    "id": "95ttjNF8pGa2",
    "outputId": "545cabf8-e73f-4f43-909f-8ec839d571b8"
   },
   "outputs": [
    {
     "data": {
      "text/plain": [
       "{'Fraction on Time': 0.14285714285714285,\n",
       " 'Makespan': 30,\n",
       " 'Max Pastdue': 13,\n",
       " 'Number Pastdue': 6,\n",
       " 'Number on Time': 1,\n",
       " 'Sum of Pastdue': 31}"
      ]
     },
     "execution_count": 7,
     "metadata": {
      "tags": []
     },
     "output_type": "execute_result"
    },
    {
     "data": {
      "image/png": "[encoded data removed]",
      "text/plain": [
       "<Figure size 864x352.8 with 1 Axes>"
      ]
     },
     "metadata": {
      "tags": []
     },
     "output_type": "display_data"
    },
    {
     "data": {
      "image/png": "[encoded data removed]",
      "text/plain": [
       "<Figure size 864x50.4 with 1 Axes>"
      ]
     },
     "metadata": {
      "tags": []
     },
     "output_type": "display_data"
    }
   ],
   "source": [
    "def fifo(JOBS):\n",
    "    order_by_release = sorted(JOBS, key=lambda job: JOBS[job]['release'])\n",
    "    return schedule(JOBS, order_by_release)\n",
    "\n",
    "SCHEDULE = fifo(JOBS)\n",
    "gantt(JOBS, SCHEDULE)\n",
    "kpi(JOBS, SCHEDULE)"
   ]
  },
  {
   "cell_type": "markdown",
   "metadata": {
    "colab_type": "text",
    "id": "dhRIVrjKpGa6"
   },
   "source": [
    "### Last-In, First-Out"
   ]
  },
  {
   "cell_type": "code",
   "execution_count": 8,
   "metadata": {
    "colab": {
     "base_uri": "https://localhost:8080/",
     "height": 531
    },
    "colab_type": "code",
    "executionInfo": {
     "elapsed": 7084,
     "status": "ok",
     "timestamp": 1555699489080,
     "user": {
      "displayName": "Jeffrey Kantor",
      "photoUrl": "https://lh5.googleusercontent.com/-8zK5aAW5RMQ/AAAAAAAAAAI/AAAAAAAAKB0/kssUQyz8DTQ/s64/photo.jpg",
      "userId": "09038942003589296665"
     },
     "user_tz": 240
    },
    "id": "BVPua9cQpGa7",
    "outputId": "adf69ee7-9df8-4fd9-dd25-a6b7edb8420e"
   },
   "outputs": [
    {
     "data": {
      "text/plain": [
       "{'Fraction on Time': 0.42857142857142855,\n",
       " 'Makespan': 30,\n",
       " 'Max Pastdue': 25,\n",
       " 'Number Pastdue': 4,\n",
       " 'Number on Time': 3,\n",
       " 'Sum of Pastdue': 47}"
      ]
     },
     "execution_count": 8,
     "metadata": {
      "tags": []
     },
     "output_type": "execute_result"
    },
    {
     "data": {
      "image/png": "[encoded data removed]",
      "text/plain": [
       "<Figure size 864x352.8 with 1 Axes>"
      ]
     },
     "metadata": {
      "tags": []
     },
     "output_type": "display_data"
    },
    {
     "data": {
      "image/png": "[encoded data removed]",
      "text/plain": [
       "<Figure size 864x50.4 with 1 Axes>"
      ]
     },
     "metadata": {
      "tags": []
     },
     "output_type": "display_data"
    }
   ],
   "source": [
    "def lifo(JOBS):\n",
    "    unfinished_jobs = set(JOBS.keys())\n",
    "    start = 0\n",
    "    while len(unfinished_jobs) > 0:\n",
    "        start = max(start, min(JOBS[job]['release'] for job in unfinished_jobs))\n",
    "        lifo = {job:JOBS[job]['release'] for job in unfinished_jobs if JOBS[job]['release'] <= start}\n",
    "        job = max(lifo, key=lifo.get)\n",
    "        finish = start + JOBS[job]['duration']\n",
    "        unfinished_jobs.remove(job)\n",
    "        SCHEDULE[job] = {'machine': 1, 'start': start, 'finish': finish}\n",
    "        start = finish\n",
    "    return SCHEDULE          \n",
    "    \n",
    "gantt(JOBS, lifo(JOBS))\n",
    "kpi(JOBS, lifo(JOBS))"
   ]
  },
  {
   "cell_type": "markdown",
   "metadata": {
    "colab_type": "text",
    "id": "11O2fUV-pGa-"
   },
   "source": [
    "### Earliest Due Date"
   ]
  },
  {
   "cell_type": "code",
   "execution_count": 9,
   "metadata": {
    "colab": {
     "base_uri": "https://localhost:8080/",
     "height": 531
    },
    "colab_type": "code",
    "executionInfo": {
     "elapsed": 7647,
     "status": "ok",
     "timestamp": 1555699489657,
     "user": {
      "displayName": "Jeffrey Kantor",
      "photoUrl": "https://lh5.googleusercontent.com/-8zK5aAW5RMQ/AAAAAAAAAAI/AAAAAAAAKB0/kssUQyz8DTQ/s64/photo.jpg",
      "userId": "09038942003589296665"
     },
     "user_tz": 240
    },
    "id": "CAIP4BXkpGbA",
    "outputId": "bf754654-5d2a-4cc0-b715-64746afd7ec4"
   },
   "outputs": [
    {
     "data": {
      "text/plain": [
       "{'Fraction on Time': 0.2857142857142857,\n",
       " 'Makespan': 30,\n",
       " 'Max Pastdue': 8,\n",
       " 'Number Pastdue': 5,\n",
       " 'Number on Time': 2,\n",
       " 'Sum of Pastdue': 27}"
      ]
     },
     "execution_count": 9,
     "metadata": {
      "tags": []
     },
     "output_type": "execute_result"
    },
    {
     "data": {
      "image/png": "[encoded data removed]",
      "text/plain": [
       "<Figure size 864x352.8 with 1 Axes>"
      ]
     },
     "metadata": {
      "tags": []
     },
     "output_type": "display_data"
    },
    {
     "data": {
      "image/png": "[encoded data removed]",
      "text/plain": [
       "<Figure size 864x50.4 with 1 Axes>"
      ]
     },
     "metadata": {
      "tags": []
     },
     "output_type": "display_data"
    }
   ],
   "source": [
    "def edd(JOBS):\n",
    "    unfinished_jobs = set(JOBS.keys())\n",
    "    start = 0\n",
    "    while len(unfinished_jobs) > 0:\n",
    "        start = max(start, min(JOBS[job]['release'] for job in unfinished_jobs))\n",
    "        edd = {job:JOBS[job]['due'] for job in unfinished_jobs if JOBS[job]['release'] <= start}\n",
    "        job = min(edd, key=edd.get)\n",
    "        finish = start + JOBS[job]['duration']\n",
    "        unfinished_jobs.remove(job)\n",
    "        SCHEDULE[job] = {'machine': 1, 'start': start, 'finish': finish}\n",
    "        start = finish\n",
    "    return SCHEDULE          \n",
    "    \n",
    "gantt(JOBS, edd(JOBS))\n",
    "kpi(JOBS, edd(JOBS))"
   ]
  },
  {
   "cell_type": "markdown",
   "metadata": {
    "colab_type": "text",
    "id": "OoMSnsympGbE"
   },
   "source": [
    "### Shortest Processing Time"
   ]
  },
  {
   "cell_type": "code",
   "execution_count": 10,
   "metadata": {
    "colab": {
     "base_uri": "https://localhost:8080/",
     "height": 531
    },
    "colab_type": "code",
    "executionInfo": {
     "elapsed": 8055,
     "status": "ok",
     "timestamp": 1555699490076,
     "user": {
      "displayName": "Jeffrey Kantor",
      "photoUrl": "https://lh5.googleusercontent.com/-8zK5aAW5RMQ/AAAAAAAAAAI/AAAAAAAAKB0/kssUQyz8DTQ/s64/photo.jpg",
      "userId": "09038942003589296665"
     },
     "user_tz": 240
    },
    "id": "h8zmg5DqpGbF",
    "outputId": "15fb4d89-2bac-4e4e-f11e-58a022421dec"
   },
   "outputs": [
    {
     "data": {
      "text/plain": [
       "{'Fraction on Time': 0.42857142857142855,\n",
       " 'Makespan': 30,\n",
       " 'Max Pastdue': 15,\n",
       " 'Number Pastdue': 4,\n",
       " 'Number on Time': 3,\n",
       " 'Sum of Pastdue': 18}"
      ]
     },
     "execution_count": 10,
     "metadata": {
      "tags": []
     },
     "output_type": "execute_result"
    },
    {
     "data": {
      "image/png": "[encoded data removed]",
      "text/plain": [
       "<Figure size 864x352.8 with 1 Axes>"
      ]
     },
     "metadata": {
      "tags": []
     },
     "output_type": "display_data"
    },
    {
     "data": {
      "image/png": "[encoded data removed]",
      "text/plain": [
       "<Figure size 864x50.4 with 1 Axes>"
      ]
     },
     "metadata": {
      "tags": []
     },
     "output_type": "display_data"
    }
   ],
   "source": [
    "def spt(JOBS):\n",
    "    unfinished_jobs = set(JOBS.keys())\n",
    "    start = 0\n",
    "    while len(unfinished_jobs) > 0:\n",
    "        start = max(start, min(JOBS[job]['release'] for job in unfinished_jobs))\n",
    "        spt = {job:JOBS[job]['duration'] for job in unfinished_jobs if JOBS[job]['release'] <= start}\n",
    "        job = min(spt, key=spt.get)\n",
    "        finish = start + JOBS[job]['duration']\n",
    "        unfinished_jobs.remove(job)\n",
    "        SCHEDULE[job] = {'machine': 1, 'start': start, 'finish': finish}\n",
    "        start = finish\n",
    "    return SCHEDULE          \n",
    "    \n",
    "gantt(JOBS, spt(JOBS))\n",
    "kpi(JOBS, spt(JOBS))"
   ]
  },
  {
   "cell_type": "markdown",
   "metadata": {
    "colab_type": "text",
    "id": "FcC5atVkpGbH"
   },
   "source": [
    "## Modeling"
   ]
  },
  {
   "cell_type": "markdown",
   "metadata": {
    "colab_type": "text",
    "id": "FcC5atVkpGbH"
   },
   "source": [
    "### Data \n",
    "\n",
    "The data for this problem consists of a list of jobs. Each job is tagged with a unique ID along with numerical data giving the time at which the job will be released for machine processing, the expected duration, and the time at which it is due.\n",
    "\n",
    "| Symbol | Description \n",
    "| ------ | :---------- \n",
    "| $\\text{ID}_{j}$       | Unique ID for task $j$ \n",
    "| $\\text{due}_{j}$      | Due time for task $j$ \n",
    "| $\\text{duration}_{j}$ | Duration of task $j$ \n",
    "| $\\text{release}_{j}$  | Time task $j$ becomes available for processing "
   ]
  },
  {
   "cell_type": "markdown",
   "metadata": {
    "colab_type": "text",
    "id": "FcC5atVkpGbH"
   },
   "source": [
    "### Decision Variables\n",
    "\n",
    "For a single machine, the essential decision variable is the start time at which the job begins processing.\n",
    "\n",
    "| Symbol | Description |\n",
    "| ------ | :---------- |\n",
    "| $\\text{start}_{j}$ | Start of task $j$\n",
    "| $\\text{makespan}$ | Time to complete *all* jobs.\n",
    "| $\\text{pastdue}_{j}$ | Time by which task $j$ is past due\n",
    "| $\\text{early}_{j}$ | Time by which task $j$ is finished early\n",
    "\n",
    "A job cannot start until it is released for processing\n",
    "\\begin{align*}\n",
    "\\text{start}_{j} & \\geq \\text{release}_{j}\\\\\n",
    "\\end{align*}\n",
    "\n",
    "Once released for processing, we assume the processing continues until the job is finished. The finish time is compared to the due time, and the result stored in either the early or pastdue decision variables. These decision variables are needed to handle cases where it might not be possible to complete all jobs by the time they are due.\n",
    "\n",
    "\\begin{align*}\n",
    "\\text{start}_{j} + \\text{duration}_{j} + \\text{early}_{j} & = \\text{due}_{j} + \\text{pastdue}_{j}\\\\\n",
    "\\text{early}_{j} & \\geq 0 \\\\\n",
    "\\text{pastdue}_{j} & \\geq 0\n",
    "\\end{align*}\n",
    "\n",
    "Finally, we include a single decision variable measuring the overall makespan for all jobs.\n",
    "\\begin{align*}\n",
    "\\text{start}_{j} +\\text{duration}_{j} \\leq \\text{makespan}\n",
    "\\end{align*}\n",
    "\n",
    "The final set of constraints requires that, for any given pair of jobs $j$ and $k$, that either $j$ starts before $k$ finishes, or $k$ finishes before $j$ starts. The boolean variable $y_{jk} = 1$ indicates $j$ finishes before $k$ starts, and is 0 for the opposing case. Note that we only need to consider cases $j > k$\n",
    "\n",
    "\\begin{align*}\n",
    "\\text{start}_{i}+\\text{duration}_{i} & \\leq \\text{start}_{j}+My_{i,j}\\\\\n",
    "\\text{start}_{j}+\\text{duration}_{j} & \\leq \\text{start}_{i}+M(1-y_{i,j})\n",
    "\\end{align*}\n",
    "\n",
    "where $M$ is a sufficiently large enough to assure the relaxed constraint is satisfied for all plausible values of the decision variables."
   ]
  },
  {
   "cell_type": "markdown",
   "metadata": {
    "colab_type": "text",
    "id": "359pH_kYpGbI"
   },
   "source": [
    "## Pyomo Model"
   ]
  },
  {
   "cell_type": "code",
   "execution_count": 11,
   "metadata": {
    "colab": {
     "base_uri": "https://localhost:8080/",
     "height": 1041
    },
    "colab_type": "code",
    "executionInfo": {
     "elapsed": 10666,
     "status": "ok",
     "timestamp": 1555699492698,
     "user": {
      "displayName": "Jeffrey Kantor",
      "photoUrl": "https://lh5.googleusercontent.com/-8zK5aAW5RMQ/AAAAAAAAAAI/AAAAAAAAKB0/kssUQyz8DTQ/s64/photo.jpg",
      "userId": "09038942003589296665"
     },
     "user_tz": 240
    },
    "id": "_k6LYB3opGbJ",
    "outputId": "39818e1c-3a24-4472-907a-a7abffad0660"
   },
   "outputs": [
    {
     "name": "stdout",
     "output_type": "stream",
     "text": [
      "# ==========================================================\n",
      "# = Solver Results                                         =\n",
      "# ==========================================================\n",
      "# ----------------------------------------------------------\n",
      "#   Problem Information\n",
      "# ----------------------------------------------------------\n",
      "Problem: \n",
      "- Name: unknown\n",
      "  Lower bound: 16.0\n",
      "  Upper bound: 16.0\n",
      "  Number of objectives: 1\n",
      "  Number of constraints: 225\n",
      "  Number of variables: 157\n",
      "  Number of nonzeros: 533\n",
      "  Sense: minimize\n",
      "# ----------------------------------------------------------\n",
      "#   Solver Information\n",
      "# ----------------------------------------------------------\n",
      "Solver: \n",
      "- Status: ok\n",
      "  User time: -1.0\n",
      "  Termination condition: optimal\n",
      "  Error rc: 0\n",
      "  Time: 0.56770920753479\n",
      "# ----------------------------------------------------------\n",
      "#   Solution Information\n",
      "# ----------------------------------------------------------\n",
      "Solution: \n",
      "- number of solutions: 0\n",
      "  number of solutions displayed: 0\n"
     ]
    },
    {
     "data": {
      "text/plain": [
       "{'Fraction on Time': 0.7142857142857143,\n",
       " 'Makespan': 30.0,\n",
       " 'Max Pastdue': 15.0,\n",
       " 'Number Pastdue': 2,\n",
       " 'Number on Time': 5,\n",
       " 'Sum of Pastdue': 16.0}"
      ]
     },
     "execution_count": 11,
     "metadata": {
      "tags": []
     },
     "output_type": "execute_result"
    },
    {
     "data": {
      "image/png": "[encoded data removed]",
      "text/plain": [
       "<Figure size 864x352.8 with 1 Axes>"
      ]
     },
     "metadata": {
      "tags": []
     },
     "output_type": "display_data"
    },
    {
     "data": {
      "image/png": "[encoded data removed]",
      "text/plain": [
       "<Figure size 864x50.4 with 1 Axes>"
      ]
     },
     "metadata": {
      "tags": []
     },
     "output_type": "display_data"
    }
   ],
   "source": [
    "from pyomo.environ import *\n",
    "from pyomo.gdp import *\n",
    "\n",
    "def opt_schedule(JOBS):\n",
    "\n",
    "    # create model\n",
    "    m = ConcreteModel()\n",
    "    \n",
    "    # index set to simplify notation\n",
    "    m.J = Set(initialize=JOBS.keys())\n",
    "    m.PAIRS = Set(initialize = m.J * m.J, dimen=2, filter=lambda m, j, k : j < k)\n",
    "\n",
    "    # upper bounds on how long it would take to process all jobs\n",
    "    tmax = max([JOBS[j]['release'] for j in m.J]) + sum([JOBS[j]['duration'] for j in m.J])\n",
    "\n",
    "    # decision variables\n",
    "    m.start      = Var(m.J, domain=NonNegativeReals, bounds=(0, tmax))\n",
    "    m.pastdue    = Var(m.J, domain=NonNegativeReals, bounds=(0, tmax))\n",
    "    m.early      = Var(m.J, domain=NonNegativeReals, bounds=(0, tmax))\n",
    "    \n",
    "    # additional decision variables for use in the objecive\n",
    "    m.makespan   = Var(domain=NonNegativeReals, bounds=(0, tmax))\n",
    "    m.maxpastdue = Var(domain=NonNegativeReals, bounds=(0, tmax))\n",
    "    m.ispastdue  = Var(m.J, domain=Binary)\n",
    "\n",
    "    # objective function\n",
    "    m.OBJ = Objective(expr = sum([m.pastdue[j] for j in m.J]), sense = minimize)\n",
    "\n",
    "    # constraints\n",
    "    m.c1 = Constraint(m.J, rule=lambda m, j: m.start[j] >= JOBS[j]['release'])\n",
    "    m.c2 = Constraint(m.J, rule=lambda m, j: \n",
    "            m.start[j] + JOBS[j]['duration'] + m.early[j] == JOBS[j]['due'] + m.pastdue[j])\n",
    "    m.c3 = Disjunction(m.PAIRS, rule=lambda m, j, k:\n",
    "        [m.start[j] + JOBS[j]['duration'] <= m.start[k], \n",
    "         m.start[k] + JOBS[k]['duration'] <= m.start[j]])    \n",
    "    \n",
    "    m.c4 = Constraint(m.J, rule=lambda m, j: m.pastdue[j] <= m.maxpastdue)\n",
    "    m.c5 = Constraint(m.J, rule=lambda m, j: m.start[j] + JOBS[j]['duration'] <= m.makespan)\n",
    "    m.c6 = Constraint(m.J, rule=lambda m, j: m.pastdue[j] <= tmax*m.ispastdue[j])\n",
    "    \n",
    "    TransformationFactory('gdp.chull').apply_to(m)\n",
    "    SolverFactory('cbc').solve(m).write()\n",
    "    \n",
    "    SCHEDULE = {}\n",
    "    for j in m.J:\n",
    "        SCHEDULE[j] = {'machine': 1, 'start': m.start[j](), 'finish': m.start[j]() + JOBS[j]['duration']}\n",
    "        \n",
    "    return SCHEDULE\n",
    "\n",
    "SCHEDULE = opt_schedule(JOBS)\n",
    "gantt(JOBS, SCHEDULE)\n",
    "kpi(JOBS, SCHEDULE)"
   ]
  },
  {
   "cell_type": "markdown",
   "metadata": {
    "colab_type": "text",
    "id": "dsoH5DREpGbO"
   },
   "source": [
    "## Multiple Machines\n",
    "\n",
    "The case of multiple machines requires a modest extension of model described above. Given a set $M$ of machines, we introduce an additional decision binary variable $z_{j,m}$ indicating if job $j$ has been assigned to machine $m$. The additional constraints\n",
    "\n",
    "\\begin{align*}\n",
    "\\sum_{m\\in M}z_{j,m} & = 1 & \\forall j\n",
    "\\end{align*}\n",
    "\n",
    "require each job to be assigned to exactly one machine for processing.  \n",
    "\n",
    "If both jobs $j$ and $k$ have been assigned to machine $m$, then the disjunctive ordering constraints must apply.  This logic is equivalent to the following constraints for $j < k$.\n",
    "\n",
    "\\begin{align*}\n",
    "\\text{start}_{j}+\\text{duration}_{j} & \\leq \\text{start}_{k}+My_{j,k} + M(1-z_{j,m}) + M(1-z_{k,m})\\\\\n",
    "\\text{start}_{k}+\\text{duration}_{k} & \\leq \\text{start}_{j}+M(1-y_{j,k}) + M(1-z_{j,m}) + M(1-z_{k,m}))\n",
    "\\end{align*}"
   ]
  },
  {
   "cell_type": "code",
   "execution_count": 12,
   "metadata": {
    "colab": {
     "base_uri": "https://localhost:8080/",
     "height": 1079
    },
    "colab_type": "code",
    "executionInfo": {
     "elapsed": 11659,
     "status": "ok",
     "timestamp": 1555699493701,
     "user": {
      "displayName": "Jeffrey Kantor",
      "photoUrl": "https://lh5.googleusercontent.com/-8zK5aAW5RMQ/AAAAAAAAAAI/AAAAAAAAKB0/kssUQyz8DTQ/s64/photo.jpg",
      "userId": "09038942003589296665"
     },
     "user_tz": 240
    },
    "id": "e-TSDVXUpGbO",
    "outputId": "878ef994-6033-4b9d-b9c4-35b647da2d85"
   },
   "outputs": [
    {
     "name": "stdout",
     "output_type": "stream",
     "text": [
      "# ==========================================================\n",
      "# = Solver Results                                         =\n",
      "# ==========================================================\n",
      "# ----------------------------------------------------------\n",
      "#   Problem Information\n",
      "# ----------------------------------------------------------\n",
      "Problem: \n",
      "- Name: unknown\n",
      "  Lower bound: -15.0\n",
      "  Upper bound: -15.0\n",
      "  Number of objectives: 1\n",
      "  Number of constraints: 127\n",
      "  Number of variables: 66\n",
      "  Number of nonzeros: 505\n",
      "  Sense: minimize\n",
      "# ----------------------------------------------------------\n",
      "#   Solver Information\n",
      "# ----------------------------------------------------------\n",
      "Solver: \n",
      "- Status: ok\n",
      "  User time: -1.0\n",
      "  Termination condition: optimal\n",
      "  Error rc: 0\n",
      "  Time: 0.5222530364990234\n",
      "# ----------------------------------------------------------\n",
      "#   Solution Information\n",
      "# ----------------------------------------------------------\n",
      "Solution: \n",
      "- number of solutions: 0\n",
      "  number of solutions displayed: 0\n"
     ]
    },
    {
     "data": {
      "text/plain": [
       "{'Fraction on Time': 1.0,\n",
       " 'Makespan': 15.0,\n",
       " 'Max Pastdue': 0,\n",
       " 'Number Pastdue': 0,\n",
       " 'Number on Time': 7,\n",
       " 'Sum of Pastdue': 0}"
      ]
     },
     "execution_count": 12,
     "metadata": {
      "tags": []
     },
     "output_type": "execute_result"
    },
    {
     "data": {
      "image/png": "[encoded data removed]",
      "text/plain": [
       "<Figure size 864x352.8 with 1 Axes>"
      ]
     },
     "metadata": {
      "tags": []
     },
     "output_type": "display_data"
    },
    {
     "data": {
      "image/png": "[encoded data removed]",
      "text/plain": [
       "<Figure size 864x100.8 with 1 Axes>"
      ]
     },
     "metadata": {
      "tags": []
     },
     "output_type": "display_data"
    }
   ],
   "source": [
    "from pyomo.environ import *\n",
    "from IPython.display import display\n",
    "import pandas as pd\n",
    "\n",
    "MACHINES = ['A','B']\n",
    "\n",
    "def schedule_machines(JOBS, MACHINES):\n",
    "    \n",
    "    # create model\n",
    "    m = ConcreteModel()\n",
    "    \n",
    "    # index set to simplify notation\n",
    "    m.J = Set(initialize=JOBS.keys())\n",
    "    m.M = Set(initialize=MACHINES)\n",
    "    m.PAIRS = Set(initialize = m.J * m.J, dimen=2, filter=lambda m, j, k : j < k)\n",
    "\n",
    "    # decision variables\n",
    "    m.start      = Var(m.J, bounds=(0, 1000))\n",
    "    m.makespan   = Var(domain=NonNegativeReals)\n",
    "    m.pastdue    = Var(m.J, domain=NonNegativeReals)\n",
    "    m.early      = Var(m.J, domain=NonNegativeReals)\n",
    "    \n",
    "    # additional decision variables for use in the objecive\n",
    "    m.ispastdue  = Var(m.J, domain=Binary)\n",
    "    m.maxpastdue = Var(domain=NonNegativeReals)\n",
    "    \n",
    "    # for binary assignment of jobs to machines\n",
    "    m.z = Var(m.J, m.M, domain=Binary)\n",
    "\n",
    "    # for modeling disjunctive constraints\n",
    "    m.y = Var(m.PAIRS, domain=Binary)\n",
    "    BigM = max([JOBS[j]['release'] for j in m.J]) + sum([JOBS[j]['duration'] for j in m.J])\n",
    "\n",
    "    m.OBJ = Objective(expr = sum(m.pastdue[j] for j in m.J) + m.makespan - sum(m.early[j] for j in m.J), sense = minimize)\n",
    "\n",
    "    m.c1 = Constraint(m.J, rule=lambda m, j: \n",
    "            m.start[j] >= JOBS[j]['release'])\n",
    "    m.c2 = Constraint(m.J, rule=lambda m, j:\n",
    "            m.start[j] + JOBS[j]['duration'] + m.early[j] == JOBS[j]['due'] + m.pastdue[j])\n",
    "    m.c3 = Constraint(m.J, rule=lambda m, j: \n",
    "            sum(m.z[j,mach] for mach in m.M) == 1)\n",
    "    m.c4 = Constraint(m.J, rule=lambda m, j: \n",
    "            m.pastdue[j] <= BigM*m.ispastdue[j])\n",
    "    m.c5 = Constraint(m.J, rule=lambda m, j: \n",
    "            m.pastdue[j] <= m.maxpastdue)\n",
    "    m.c6 = Constraint(m.J, rule=lambda m, j: \n",
    "            m.start[j] + JOBS[j]['duration'] <= m.makespan)\n",
    "    m.d1 = Constraint(m.M, m.PAIRS, rule = lambda m, mach, j, k:\n",
    "            m.start[j] + JOBS[j]['duration'] <= m.start[k] + BigM*(m.y[j,k] + (1-m.z[j,mach]) + (1-m.z[k,mach])))\n",
    "    m.d2 = Constraint(m.M, m.PAIRS, rule = lambda m, mach, j, k: \n",
    "            m.start[k] + JOBS[k]['duration'] <= m.start[j] + BigM*((1-m.y[j,k]) + (1-m.z[j,mach]) + (1-m.z[k,mach])))\n",
    "    \n",
    "    SolverFactory('cbc').solve(m).write()\n",
    "    \n",
    "    SCHEDULE = {}\n",
    "    for j in m.J:\n",
    "        SCHEDULE[j] = {\n",
    "            'start': m.start[j](), \n",
    "            'finish': m.start[j]() + JOBS[j]['duration'],\n",
    "            'machine': [mach for mach in MACHINES if m.z[j,mach]][0]\n",
    "        }\n",
    "        \n",
    "    return SCHEDULE\n",
    "        \n",
    "SCHEDULE = schedule_machines(JOBS,MACHINES)\n",
    "gantt(JOBS, SCHEDULE)\n",
    "kpi(JOBS, SCHEDULE)"
   ]
  },
  {
   "cell_type": "code",
   "execution_count": null,
   "metadata": {
    "colab": {},
    "colab_type": "code",
    "id": "1UyL5TQFpGbS"
   },
   "outputs": [],
   "source": []
  },
  {
   "cell_type": "markdown",
   "metadata": {
    "colab_type": "text",
    "id": "agxrfmMK6FAs"
   },
   "source": [
    "<!--NAVIGATION-->\n",
    "< [Scheduling with Disjunctive Constraints](http://nbviewer.jupyter.org/github/jckantor/ND-Pyomo-Cookbook/blob/master/notebooks/04.00-Scheduling-with-Disjunctive-Constraints.ipynb) | [Contents](index.ipynb) | [Job Shop Scheduling](http://nbviewer.jupyter.org/github/jckantor/ND-Pyomo-Cookbook/blob/master/notebooks/04.02-Job-Shop-Scheduling.ipynb) >\n",
    "<p><a href=\"https://colab.research.google.com/github/jckantor/ND-Pyomo-Cookbook/blob/master/notebooks/04.01-Machine-Bottleneck.ipynb\"><img align=\"left\" src=\"https://colab.research.google.com/assets/colab-badge.svg\" alt=\"Open in Colab\" title=\"Open in Google Colaboratory\"></a>\n"
   ]
  }
 ],
 "metadata": {
  "colab": {
   "collapsed_sections": [],
   "name": "04.01-Machine-Bottleneck.ipynb",
   "provenance": [],
   "toc_visible": true,
   "version": "0.3.2"
  },
  "kernelspec": {
   "display_name": "Python 3",
   "language": "python",
   "name": "python3"
  },
  "language_info": {
   "codemirror_mode": {
    "name": "ipython",
    "version": 3
   },
   "file_extension": ".py",
   "mimetype": "text/x-python",
   "name": "python",
   "nbconvert_exporter": "python",
   "pygments_lexer": "ipython3",
   "version": "3.7.3"
  }
 },
 "nbformat": 4,
 "nbformat_minor": 2
}

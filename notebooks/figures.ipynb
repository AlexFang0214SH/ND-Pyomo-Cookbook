{
 "cells": [
  {
   "cell_type": "markdown",
   "metadata": {},
   "source": [
    "# Figures\n",
    "#### [2.3 Design of a Cold Weather Fuel for a Camping Stove](http://nbviewer.jupyter.org/github/jckantor/ND-Pyomo-Cookbook/blob/master/notebooks/02.03-Mixture-Design-Cold-Weather-Fuel.ipynb)\n",
    "#### [https://github.com/jckantor/ND-Pyomo-Cookbook/blob/master/images/alcohol_stove.jpeg?raw=1](https://github.com/jckantor/ND-Pyomo-Cookbook/blob/master/images/alcohol_stove.jpeg?raw=1)\n",
    "#### [2.4 Gasoline Blending](http://nbviewer.jupyter.org/github/jckantor/ND-Pyomo-Cookbook/blob/master/notebooks/02.04-Gasoline-Blending.ipynb)\n",
    "#### [https://github.com/jckantor/ND-Pyomo-Cookbook/blob/master/images/refinery_CEP.png?raw=1](https://github.com/jckantor/ND-Pyomo-Cookbook/blob/master/images/refinery_CEP.png?raw=1)\n",
    "#### [3.1 Transportation Networks](http://nbviewer.jupyter.org/github/jckantor/ND-Pyomo-Cookbook/blob/master/notebooks/03.01-Transportation-Networks.ipynb)\n",
    "#### [https://github.com/jckantor/ND-Pyomo-Cookbook/blob/master/images/TransportationNetworksMap.png?raw=1](https://github.com/jckantor/ND-Pyomo-Cookbook/blob/master/images/TransportationNetworksMap.png?raw=1)\n",
    "#### [https://github.com/jckantor/ND-Pyomo-Cookbook/blob/master/images/TransportNet.png?raw=1](https://github.com/jckantor/ND-Pyomo-Cookbook/blob/master/images/TransportNet.png?raw=1)\n",
    "#### [https://github.com/jckantor/ND-Pyomo-Cookbook/blob/master/images/TransportNet_soln.png?raw=1](https://github.com/jckantor/ND-Pyomo-Cookbook/blob/master/images/TransportNet_soln.png?raw=1)\n",
    "#### [https://github.com/jckantor/ND-Pyomo-Cookbook/blob/master/images/TransportNet_sens.png?raw=1](https://github.com/jckantor/ND-Pyomo-Cookbook/blob/master/images/TransportNet_sens.png?raw=1)\n",
    "#### [4.2 Job Shop Scheduling](http://nbviewer.jupyter.org/github/jckantor/ND-Pyomo-Cookbook/blob/master/notebooks/04.02-Job-Shop-Scheduling.ipynb)\n",
    "#### [jobshopdiagram.jpg](https://github.com/jckantor/ND-Pyomo-Cookbook/blob/master/images/jobshopdiagram.jpg?raw=1)\n",
    "#### [Screen%20Shot%202017-09-14%20at%209.09.57%20AM.png](attachment:Screen%20Shot%202017-09-14%20at%209.09.57%20AM.png)\n",
    "#### [4.4 Scheduling Multipurpose Batch Processes using State-Task Networks](http://nbviewer.jupyter.org/github/jckantor/ND-Pyomo-Cookbook/blob/master/notebooks/04.04-Scheduling-Multipurpose-Batch-Processes-using-State-Task_Networks.ipynb)\n",
    "#### [../../images/Kondili_1993.png](../../images/Kondili_1993.png)\n",
    "#### [5.2 Exothermic CSTR](http://nbviewer.jupyter.org/github/jckantor/ND-Pyomo-Cookbook/blob/master/notebooks/05.02-Exothermic-CSTR.ipynb)\n",
    "#### [Exothermic Reactor](https://github.com/jckantor/ND-Pyomo-Cookbook/blob/master/images/408px-Agitated_vessel.png?raw=1)\n",
    "#### [6.3 Path Planning for a Simple Car](http://nbviewer.jupyter.org/github/jckantor/ND-Pyomo-Cookbook/blob/master/notebooks/06.03-Path-Planning-for-a-Simple-Car.ipynb)\n",
    "#### [Simple Car](https://github.com/jckantor/ND-Pyomo-Cookbook/blob/master/images/SimpleCar.png?raw=1)\n",
    "#### [8.1 Binomial Model for Pricing Options](http://nbviewer.jupyter.org/github/jckantor/ND-Pyomo-Cookbook/blob/master/notebooks/08.01-Binomial-Model-for-Pricing-Options.ipynb)\n",
    "#### [https://github.com/jckantor/ND-Pyomo-Cookbook/blob/master/images/BinomialModel.png?raw=1](https://github.com/jckantor/ND-Pyomo-Cookbook/blob/master/images/BinomialModel.png?raw=1)\n",
    "#### [https://github.com/jckantor/ND-Pyomo-Cookbook/blob/master/notebooks/img/BinomialModel_Options.png?raw=1](https://github.com/jckantor/ND-Pyomo-Cookbook/blob/master/notebooks/img/BinomialModel_Options.png?raw=1)\n",
    "#### [8.5 Real Options](http://nbviewer.jupyter.org/github/jckantor/ND-Pyomo-Cookbook/blob/master/notebooks/08.05-Real-Options.ipynb)\n",
    "#### [../../images/TimelineRealOption.png](../../images/TimelineRealOption.png)\n",
    "#### [../../images/BinomialRealOption.png](../../images/BinomialRealOption.png)"
   ]
  }
 ],
 "metadata": {},
 "nbformat": 4,
 "nbformat_minor": 2
}

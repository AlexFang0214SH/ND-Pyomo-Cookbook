{
 "cells": [
  {
   "cell_type": "markdown",
   "metadata": {},
   "source": [
    "# Knapsack Problem\n"
   ]
  },
  {
   "cell_type": "code",
   "execution_count": 2,
   "metadata": {},
   "outputs": [],
   "source": [
    "data = {'hammer': (5,8), 'wrench': (7, 3), 'screwdriver': (4, 6), 'towel': (3, 11)}"
   ]
  },
  {
   "cell_type": "code",
   "execution_count": 10,
   "metadata": {},
   "outputs": [],
   "source": [
    "weight = dict()\n",
    "value = dict()\n",
    "for key,val in data.items():\n",
    "    weight[key] = val[0]\n",
    "    value[key] = val[1]"
   ]
  },
  {
   "cell_type": "code",
   "execution_count": 24,
   "metadata": {},
   "outputs": [
    {
     "name": "stdout",
     "output_type": "stream",
     "text": [
      "GLPSOL: GLPK LP/MIP Solver, v4.65\n",
      "Parameter(s) specified in the command line:\n",
      " --write /Users/jeff/Dropbox/Git/ND-Pyomo-Cookbook/notebooks/intro/tmpmua__gzw.glpk.raw\n",
      " --wglp /Users/jeff/Dropbox/Git/ND-Pyomo-Cookbook/notebooks/intro/tmp5ydwalbk.glpk.glp\n",
      " --cpxlp /Users/jeff/Dropbox/Git/ND-Pyomo-Cookbook/notebooks/intro/tmp2of7thi3.pyomo.lp\n",
      "Reading problem data from '/Users/jeff/Dropbox/Git/ND-Pyomo-Cookbook/notebooks/intro/tmp2of7thi3.pyomo.lp'...\n",
      "/Users/jeff/Dropbox/Git/ND-Pyomo-Cookbook/notebooks/intro/tmp2of7thi3.pyomo.lp:28: warning: lower bound of variable 'x1' redefined\n",
      "/Users/jeff/Dropbox/Git/ND-Pyomo-Cookbook/notebooks/intro/tmp2of7thi3.pyomo.lp:28: warning: upper bound of variable 'x1' redefined\n",
      "2 rows, 5 columns, 5 non-zeros\n",
      "4 integer variables, all of which are binary\n",
      "32 lines were read\n",
      "Writing problem data to '/Users/jeff/Dropbox/Git/ND-Pyomo-Cookbook/notebooks/intro/tmp5ydwalbk.glpk.glp'...\n",
      "22 lines were written\n",
      "GLPK Integer Optimizer, v4.65\n",
      "2 rows, 5 columns, 5 non-zeros\n",
      "4 integer variables, all of which are binary\n",
      "Preprocessing...\n",
      "1 constraint coefficient(s) were reduced\n",
      "1 row, 4 columns, 4 non-zeros\n",
      "4 integer variables, all of which are binary\n",
      "Scaling...\n",
      " A: min|aij| =  3.000e+00  max|aij| =  5.000e+00  ratio =  1.667e+00\n",
      "Problem data seem to be well scaled\n",
      "Constructing initial basis...\n",
      "Size of triangular part is 1\n",
      "Solving LP relaxation...\n",
      "GLPK Simplex Optimizer, v4.65\n",
      "1 row, 4 columns, 4 non-zeros\n",
      "*     0: obj =  -0.000000000e+00 inf =   0.000e+00 (4)\n",
      "*     4: obj =   2.500000000e+01 inf =   0.000e+00 (0)\n",
      "OPTIMAL LP SOLUTION FOUND\n",
      "Integer optimization begins...\n",
      "Long-step dual simplex will be used\n",
      "+     4: mip =     not found yet <=              +inf        (1; 0)\n",
      "+     4: >>>>>   2.500000000e+01 <=   2.500000000e+01   0.0% (1; 0)\n",
      "+     4: mip =   2.500000000e+01 <=     tree is empty   0.0% (0; 1)\n",
      "INTEGER OPTIMAL SOLUTION FOUND\n",
      "Time used:   0.0 secs\n",
      "Memory used: 0.1 Mb (59918 bytes)\n",
      "Writing MIP solution to '/Users/jeff/Dropbox/Git/ND-Pyomo-Cookbook/notebooks/intro/tmpmua__gzw.glpk.raw'...\n",
      "16 lines were written\n",
      "1 Set Declarations\n",
      "    x_index : Dim=0, Dimen=1, Size=4, Domain=None, Ordered=False, Bounds=None\n",
      "        ['hammer', 'screwdriver', 'towel', 'wrench']\n",
      "\n",
      "1 Var Declarations\n",
      "    x : Size=4, Index=x_index\n",
      "        Key         : Lower : Value : Upper : Fixed : Stale : Domain\n",
      "             hammer :     0 :   1.0 :     1 : False : False : Binary\n",
      "        screwdriver :     0 :   1.0 :     1 : False : False : Binary\n",
      "              towel :     0 :   1.0 :     1 : False : False : Binary\n",
      "             wrench :     0 :   0.0 :     1 : False : False : Binary\n",
      "\n",
      "1 Objective Declarations\n",
      "    obj : Size=1, Index=None, Active=True\n",
      "        Key  : Active : Sense    : Expression\n",
      "        None :   True : maximize : 8*x[hammer] + 3*x[wrench] + 6*x[screwdriver] + 11*x[towel]\n",
      "\n",
      "1 Constraint Declarations\n",
      "    w : Size=1, Index=None, Active=True\n",
      "        Key  : Lower : Body                                                      : Upper : Active\n",
      "        None :  -Inf : 5*x[hammer] + 7*x[wrench] + 4*x[screwdriver] + 3*x[towel] :  14.0 :   True\n",
      "\n",
      "4 Declarations: x_index x obj w\n"
     ]
    }
   ],
   "source": [
    "import pyomo.environ as pe\n",
    "\n",
    "W_max = 14\n",
    "\n",
    "model = pe.ConcreteModel()\n",
    "\n",
    "model.x = pe.Var(data.keys(), within=pe.Binary)\n",
    "\n",
    "model.obj = pe.Objective(\n",
    "    expr = sum(value[k]*model.x[k] for k in data.keys()),\n",
    "    sense = pe.maximize)\n",
    "\n",
    "model.w = pe.Constraint(\n",
    "    expr = sum(weight[k]*model.x[k] for k in data.keys()) <= W_max)\n",
    "\n",
    "pe.SolverFactory('glpk').solve(model, tee=True)\n",
    "\n",
    "model.pprint()"
   ]
  },
  {
   "cell_type": "code",
   "execution_count": null,
   "metadata": {},
   "outputs": [],
   "source": []
  }
 ],
 "metadata": {
  "kernelspec": {
   "display_name": "Python 3",
   "language": "python",
   "name": "python3"
  },
  "language_info": {
   "codemirror_mode": {
    "name": "ipython",
    "version": 3
   },
   "file_extension": ".py",
   "mimetype": "text/x-python",
   "name": "python",
   "nbconvert_exporter": "python",
   "pygments_lexer": "ipython3",
   "version": "3.6.4"
  }
 },
 "nbformat": 4,
 "nbformat_minor": 2
}
